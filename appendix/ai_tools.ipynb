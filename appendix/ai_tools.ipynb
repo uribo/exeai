{
 "cells": [
  {
   "cell_type": "raw",
   "id": "c7765a47",
   "metadata": {},
   "source": [
    "---\n",
    "title: AIを活用したツール\n",
    "execute:\n",
    "  keep-ipynb: true\n",
    "  warning: false\n",
    "---"
   ]
  },
  {
   "cell_type": "markdown",
   "id": "42e8a998",
   "metadata": {},
   "source": [
    "AIを活用した技術は、日々めまぐるしく移り変わっています。次から次へと新しい技術が登場し、そのたびに新しいツールが提供されています。ここでは、その中から、特にデータサイエンス、機械学習、プログラミングの分野で活用できるツールを紹介します。\n",
    "\n",
    "## GitHub Copilot\n",
    "\n",
    "[GitHub Copilot](https://github.com/features/copilot/)は[GitHub](https://github.com)が提供する、AIを活用したプログラミング支援のツールです。利用にはGitHubのアカウントが必要で、試用期間が終わると有料になります。ただし、GitHubへの教育機関の登録を行った場合には無料で利用できます。\n",
    "\n",
    "GitHub Copilotはいくつかのテキストエディタ、開発環境のアプリケーション上で動作します。[Visual Studio Code](vscode.qmd)の拡張機能も提供されており、この資料の一部もGitHub Copilotの協力によって文章およびプログラムコードの記述が行われています。\n",
    "\n",
    "## ChatGPT\n",
    "\n",
    "2022年11月に[OpenAI](https://openai.com)によって公開された[ChatGPT](https://chat.openai.com/)は、ごくごく自然な「対話」によって文章生成からプログラミング、独学まで、さまざまな用途に応用可能なAIツール（チャットボット）です。\n",
    "\n",
    "利用には、メールアドレスによるアカウントの登録が必要です。メールアドレスの代わりに、Google、Microsoft、Appleのアカウントを利用することもできます。ただし、生年月日や電話番号といった個人情報の登録も必要になります。\n",
    "\n",
    "大規模言語モデルを用いたチャットボットには、他にGoogleによる[Bard](https://bard.google.com)やMicrosoftのBingなどがあります。\n",
    "\n",
    "## AIツール利用時の注意点\n",
    "\n",
    "AIツールを利用する際には、特に以下の点に注意してください。\n",
    "\n",
    "- AIによって生成された文章・プログラムは、必ずしも正しいとは限りません。間違った情報、古い情報、不適切な情報が含まれている可能性があります。そのため、AIの生成物を確認、修正する必要があります。\n",
    "- 個人情報や機密情報はAIツールに送信しないでください。AIツールは、利用者の入力した情報を学習することがあります。そのため、個人情報や機密情報がAIツールを介して漏洩する可能性があります。\n",
    "- 大学での講義、課題、卒業研究等では、AIツールを利用しないことが前提となっている場合があります。また、担当する教員によっては、AIツールの利用を禁止している場合があります。AIツールの利用を不正とみなす教員もいます。そのため、AIツールの利用については、必ず担当する教員に相談してください。\n",
    "\n",
    "徳島大学では[生成AIを活用するための基本方針について](https://www.tokushima-u.ac.jp/docs/50361.html)公表しています。この方針は生成AIを取り巻く社会状況や学内の意見等を踏まえて見直しが行われる予定です。また、[学生向けに注意喚起](https://www.tokushima-u.ac.jp/docs/50015.html)を行っています。生成AIを利用する前に必ず目を通しておき、実際の利用時には注意点を忘れずに適切な活用を心がけましょう。"
   ]
  }
 ],
 "metadata": {
  "jupytext": {
   "formats": "ipynb,qmd",
   "text_representation": {
    "extension": ".qmd",
    "format_name": "quarto",
    "format_version": "1.0",
    "jupytext_version": "1.14.5"
   }
  },
  "kernelspec": {
   "display_name": "Python 3 (ipykernel)",
   "language": "python",
   "name": "python3"
  },
  "language_info": {
   "codemirror_mode": {
    "name": "ipython",
    "version": 3
   },
   "file_extension": ".py",
   "mimetype": "text/x-python",
   "name": "python",
   "nbconvert_exporter": "python",
   "pygments_lexer": "ipython3",
   "version": "3.10.13"
  }
 },
 "nbformat": 4,
 "nbformat_minor": 5
}
