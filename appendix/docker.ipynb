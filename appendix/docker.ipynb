{
 "cells": [
  {
   "cell_type": "raw",
   "id": "84f725cb",
   "metadata": {},
   "source": [
    "---\n",
    "title: Docker\n",
    "execute:\n",
    "  keep-ipynb: true\n",
    "---"
   ]
  },
  {
   "cell_type": "markdown",
   "id": "871d7828",
   "metadata": {},
   "source": [
    "Dockerの概要とインストール方法について説明します。\n",
    "\n",
    "## Dockerとは\n",
    "\n",
    "### コンテナ型仮想化\n",
    "\n",
    "## Dockerのインストール\n",
    "\n",
    "### Windows\n",
    "\n",
    "### macOS"
   ]
  }
 ],
 "metadata": {
  "jupytext": {
   "formats": "ipynb,qmd",
   "text_representation": {
    "extension": ".qmd",
    "format_name": "quarto",
    "format_version": "1.0",
    "jupytext_version": "1.14.5"
   }
  },
  "kernelspec": {
   "display_name": "Python 3 (ipykernel)",
   "language": "python",
   "name": "python3"
  },
  "language_info": {
   "codemirror_mode": {
    "name": "ipython",
    "version": 3
   },
   "file_extension": ".py",
   "mimetype": "text/x-python",
   "name": "python",
   "nbconvert_exporter": "python",
   "pygments_lexer": "ipython3",
   "version": "3.10.11"
  }
 },
 "nbformat": 4,
 "nbformat_minor": 5
}
