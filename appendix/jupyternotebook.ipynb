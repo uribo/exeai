{
  "cells": [
    {
      "cell_type": "raw",
      "metadata": {},
      "source": [
        "---\n",
        "title: Jupyter Notebook\n",
        "execute:\n",
        "  keep-ipynb: true\n",
        "---"
      ],
      "id": "bf2f388b"
    },
    {
      "cell_type": "markdown",
      "metadata": {},
      "source": [
        "Jupyter Notebookは、ウェブブラウザ上で実行できる対話型のプログラミング環境です。Pythonだけでなく、RやJuliaなどの言語にも対応しています。プログラムとその実行結果、さらに文章や画像などを含めたドキュメントを作成できるため、データ分析のレポート作成にも利用できます。\n",
        "\n",
        "Jupyter Notebookを利用するには、自身のコンピュータ上に環境構築を行う方法と、リモート実行環境を利用する方法があります。リモート実行環境を利用する場合は、自身のコンピュータ上に環境構築を行う必要はありませんが、実行環境を提供するサービスのアカウントが必要な場合があります。\n",
        "\n",
        "ここではローカル実行環境とリモート実行環境のそれぞれについて説明します。\n",
        "\n",
        "## ローカル実行\n",
        "\n",
        "自身のコンピュータ上にPython環境を整備して実行する方法です。リモート実行環境とは異なり、自身のコンピュータ上で動作できるため、気軽に実行できる反面、環境構築に知識と手間がかかります。\n",
        "\n",
        "### Windows\n",
        "\n",
        "- anaconda\n",
        "- VSCode + WSL + Docker\n",
        "\n",
        "### macOS\n",
        "\n",
        "- VSCode + Docker\n",
        "\n",
        "## リモート実行環境\n",
        "\n",
        "Jupyter Notebookを実行するための環境を提供するサービスを利用する方法です。Jupyter環境を提供するサービスは多数ありますが、ここでは代表的なものを紹介します。\n",
        "\n",
        "### Google Colaboratory (Colab)\n",
        "\n",
        "[Colab](https://colab.research.google.com)はGoogleが提供するJupyter Notebookのリモート実行環境です。Googleアカウントがあれば無料で利用できます。制限付きではありますが、GPUを利用することもできます。また、有料のプランを契約することで、高性能なGPU、TPUを利用することも可能です。\n",
        "\n",
        "### SageMaker Studio\n",
        "\n",
        "Amazon\n",
        "\n",
        "### Kaggle\n",
        "\n",
        "### Binder\n"
      ],
      "id": "20350ab2"
    }
  ],
  "metadata": {
    "kernelspec": {
      "display_name": "Python 3 (ipykernel)",
      "language": "python",
      "name": "python3"
    },
    "jupytext": {
      "formats": "ipynb,qmd",
      "text_representation": {
        "extension": ".qmd",
        "format_name": "quarto",
        "format_version": "1.0",
        "jupytext_version": "1.14.5"
      }
    }
  },
  "nbformat": 4,
  "nbformat_minor": 5
}
