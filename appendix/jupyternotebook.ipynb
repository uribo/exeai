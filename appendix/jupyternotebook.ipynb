{
 "cells": [
  {
   "cell_type": "raw",
   "id": "cc166a16",
   "metadata": {},
   "source": [
    "---\n",
    "title: Jupyter Notebook\n",
    "execute:\n",
    "  keep-ipynb: true\n",
    "---"
   ]
  },
  {
   "cell_type": "markdown",
   "id": "15984dee",
   "metadata": {},
   "source": [
    "## ローカル実行\n",
    "\n",
    "自身のコンピュータ上にPython環境を整備して実行する方法です。リモート実行環境とは異なり、自身のコンピュータ上で動作できるため、気軽に実行できる反面、環境構築に知識と手間がかかります。\n",
    "\n",
    "### Windows\n",
    "\n",
    "- anaconda\n",
    "- VSCode + WSL + Docker\n",
    "\n",
    "### macOS\n",
    "\n",
    "- VSCode + Docker\n",
    "\n",
    "## リモート実行環境\n",
    "\n",
    "### Google Colaboratory (Colab)\n",
    "\n",
    "利用にはGoogleアカウントが必要\n",
    "\n",
    "無料でGPUを利用できる\n",
    "\n",
    "### SageMaker Studio\n",
    "\n",
    "Amazon\n",
    "\n",
    "### Kaggle\n",
    "\n",
    "### Binder\n"
   ]
  }
 ],
 "metadata": {
  "jupytext": {
   "formats": "ipynb,qmd",
   "text_representation": {
    "extension": ".qmd",
    "format_name": "quarto",
    "format_version": "1.0",
    "jupytext_version": "1.14.5"
   }
  },
  "kernelspec": {
   "display_name": "Python 3 (ipykernel)",
   "language": "python",
   "name": "python3"
  },
  "language_info": {
   "codemirror_mode": {
    "name": "ipython",
    "version": 3
   },
   "file_extension": ".py",
   "mimetype": "text/x-python",
   "name": "python",
   "nbconvert_exporter": "python",
   "pygments_lexer": "ipython3",
   "version": "3.10.11"
  }
 },
 "nbformat": 4,
 "nbformat_minor": 5
}
