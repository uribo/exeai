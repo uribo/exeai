{
 "cells": [
  {
   "cell_type": "raw",
   "id": "fc6489c5",
   "metadata": {},
   "source": [
    "---\n",
    "title: Jupyter Notebook\n",
    "execute:\n",
    "  keep-ipynb: true\n",
    "---"
   ]
  },
  {
   "cell_type": "markdown",
   "id": "c0a74fb4",
   "metadata": {},
   "source": [
    "Jupyter Notebookは、ウェブブラウザ上で実行できる対話型のプログラミング環境です。Pythonだけでなく、RやJuliaなどの言語にも対応しています。プログラムとその実行結果、さらに文章や画像などを含めたドキュメントを作成できるため、データ分析のレポート作成にも利用できます。\n",
    "\n",
    "Jupyter Notebookを利用するには、自身のコンピュータ上に環境構築を行う方法と、リモート実行環境を利用する方法があります。リモート実行環境を利用する場合は、自身のコンピュータ上に環境構築を行う必要はありませんが、実行環境を提供するサービスのアカウントが必要な場合があります。\n",
    "\n",
    "ここではローカル実行環境とリモート実行環境のそれぞれについて説明します。\n",
    "\n",
    "## ローカル実行\n",
    "\n",
    "自身のコンピュータ上にPython環境を整備して実行する方法です。リモート実行環境とは異なり、自身のコンピュータ上で動作できるため、気軽に実行できる反面、環境構築に知識と手間がかかります。\n",
    "\n",
    "### Windows\n",
    "\n",
    "- anaconda\n",
    "- VSCode + WSL + Docker\n",
    "\n",
    "### macOS\n",
    "\n",
    "- VSCode + Docker\n",
    "\n",
    "## リモート実行環境\n",
    "\n",
    "Jupyter Notebookを実行するための環境を提供するサービスを利用する方法です。Jupyter環境を提供するサービスは多数ありますが、ここでは代表的なものを紹介します。\n",
    "\n",
    "### Google Colaboratory (Colab)\n",
    "\n",
    "[Colab](https://colab.research.google.com)はGoogleが提供するJupyter Notebookのリモート実行環境です。Googleアカウントがあれば無料で利用できます。制限付きではありますが、GPUを利用することもできます。また、有料のプランを契約することで、高性能なGPU、TPUを利用することも可能です。\n",
    "\n",
    "Colabのウェブサイトを開き、Googleアカウントでログインを行うと、以下のような画面が表示されます。この画面では、Colabの利用例を紹介したノートブックや、自身のGoogleドライブに保存されているノートブックを開くことができます。また、ノートブックをアップロードしてColabで編集したり、GitHubリポジトリと紐付けてノートブックを開いたりすることもできます。\n",
    "\n",
    "![Google Colaboratoryにログインした状態。さまざまな方法でノートブックを開くことができる。](../img/colab.png)\n",
    "\n",
    "`ノートブックを新規作成`ボタンを押すと、新しいノートブックを作成することができます。Colabで作成されるノートブックは、ログインしたGoogleアカウントに結びつけられ、Googleドライブ上の`Colab Notebooks`フォルダに保存されます。\n",
    "\n",
    "### SageMaker Studio\n",
    "\n",
    "Amazon\n",
    "\n",
    "### Kaggle\n",
    "\n",
    "### Binder\n",
    "\n",
    "## 基本操作\n",
    "\n",
    "### コードセルとテキストセル\n",
    "\n",
    "Jupyterでは、コードセルとテキストセルの2種類のセルを利用します。コードセルにはプログラムを記述し、テキストセルには文章を記述します。テキストセルでは、マークダウン記法を使った文字装飾やリンク・画像の埋め込みなどが可能です。また、コードセルに記述したプログラムは、セルごとに実行することができます。これらのセルを組み合わせることで、プログラムとその実行結果、さらに文章や画像などを含めたドキュメントを作成できます。\n",
    "\n",
    "セルに記述されたプログラムや文章の装飾を実行するには、左側に表示されている再生ボタンを押すか、`Shift + Enter`を押します。このとき、コードセルの場合は`[ ]`の中に`*`が表示されます。`*`が表示されている間は、プログラムが実行中であることを示します。`*`が`1`などの数値に変わると、そのセルの実行が完了したことを意味します。この番号は、ノートブック全体でのセルの実行順序を表しています。\n",
    "\n",
    "![](../img/colab2.png)\n",
    "\n",
    "Jupyterでは、セルの実行順序に注意が必要です。Jupyterでは、セルを実行した順序に従って、変数の値や関数の定義などが記憶されます。そのため、ノートブックの上部にあるセルでも実行をし忘れていると、下部のセルの実行でエラーが発生することがあります。また、セルを実行する順序を間違えると、意図しない結果になることがあります。\n",
    "\n",
    "## Jupyter Lab\n"
   ]
  }
 ],
 "metadata": {
  "jupytext": {
   "formats": "ipynb,qmd",
   "text_representation": {
    "extension": ".qmd",
    "format_name": "quarto",
    "format_version": "1.0",
    "jupytext_version": "1.14.5"
   }
  },
  "kernelspec": {
   "display_name": "Python 3 (ipykernel)",
   "language": "python",
   "name": "python3"
  },
  "language_info": {
   "codemirror_mode": {
    "name": "ipython",
    "version": 3
   },
   "file_extension": ".py",
   "mimetype": "text/x-python",
   "name": "python",
   "nbconvert_exporter": "python",
   "pygments_lexer": "ipython3",
   "version": "3.10.13"
  }
 },
 "nbformat": 4,
 "nbformat_minor": 5
}
