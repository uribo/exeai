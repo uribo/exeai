{
 "cells": [
  {
   "cell_type": "raw",
   "id": "779b169f",
   "metadata": {},
   "source": [
    "---\n",
    "title: 課題解決型演習\n",
    "execute:\n",
    "  keep-ipynb: true\n",
    "  eval: false\n",
    "  echo: true\n",
    "---"
   ]
  },
  {
   "cell_type": "markdown",
   "id": "c77a26c2",
   "metadata": {},
   "source": [
    "## 課題テーマ\n",
    "\n",
    "選択した課題テーマ以外を削除あるいはコメントアウト（行頭に `#` をつける）し、選択課題だけを残すようにしてください。\n",
    "\n",
    "（この文章が書かれているテキストセルをJupyter上でダブルクリックすると編集可能になります）\n",
    "\n",
    "```\n",
    "1. 回帰・分類の機械学習モデル\n",
    "2. 画像を扱う深層学習モデル\n",
    "3. 自然言語を扱う深層学習モデル\n",
    "```\n",
    "\n",
    "### 課題の概要\n",
    "\n",
    "課題テーマについて、取り組んだ内容を簡潔に記載してください。\n",
    "\n",
    "例）CNNを用いた[くずし字データセット（KMNIST）](http://codh.rois.ac.jp/kmnist/)の分類モデルの構築\n",
    "\n",
    "### 課題の内容\n",
    "\n",
    "取り組んだ内容の詳細を記載してください。\n",
    "Pythonコードのほか、コードの内容を説明するコメントを加えておくと処理内容を見直しやすいので便利です。\n",
    "\n",
    "形式自由。\n",
    "このファイル以外に提出物がある場合、それらについての内容と提出先について記載してください。\n"
   ]
  }
 ],
 "metadata": {
  "jupytext": {
   "formats": "ipynb,qmd",
   "text_representation": {
    "extension": ".qmd",
    "format_name": "quarto",
    "format_version": "1.0",
    "jupytext_version": "1.14.5"
   }
  },
  "kernelspec": {
   "display_name": "Python 3 (ipykernel)",
   "language": "python",
   "name": "python3"
  },
  "language_info": {
   "codemirror_mode": {
    "name": "ipython",
    "version": 3
   },
   "file_extension": ".py",
   "mimetype": "text/x-python",
   "name": "python",
   "nbconvert_exporter": "python",
   "pygments_lexer": "ipython3",
   "version": "3.10.11"
  }
 },
 "nbformat": 4,
 "nbformat_minor": 5
}
