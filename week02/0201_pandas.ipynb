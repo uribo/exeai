{
 "cells": [
  {
   "cell_type": "raw",
   "id": "bf4d92e6",
   "metadata": {},
   "source": [
    "---\n",
    "title: pandas基礎\n",
    "execute:\n",
    "  keep-ipynb: true\n",
    "  warning: false\n",
    "---"
   ]
  },
  {
   "cell_type": "markdown",
   "id": "b5629746",
   "metadata": {},
   "source": [
    "pandasは、Pythonでさまざまなデータ分析を効率的に行うことができるライブラリです。ここではpandasの基本的な使い方を学びます。\n",
    "\n",
    "まずはpandasを始め、必要なライブラリをインポートします。もしこれらのパッケージがインストールされていない場合、`pip install <パッケージ名>`でインストールしてください。\n",
    "\n",
    "::: {.callout-info}\n",
    "\n",
    "Google Colaboratoryでは、pandasおよびnumpyはデフォルトでインストールされています。\n",
    "そのためインストールの必要はありません。\n",
    "\n",
    ":::\n"
   ]
  },
  {
   "cell_type": "code",
   "execution_count": 1,
   "id": "34fc6fa1",
   "metadata": {},
   "outputs": [],
   "source": [
    "# pandasの読み込み\n",
    "# pandasパッケージが提供する機能を pd.* という形で参照できるようにします\n",
    "# pdはpandasの慣例的な別名です\n",
    "import pandas as pd\n",
    "import numpy as np"
   ]
  },
  {
   "cell_type": "markdown",
   "id": "12ca8911",
   "metadata": {},
   "source": [
    "se\n"
   ]
  },
  {
   "cell_type": "code",
   "execution_count": 2,
   "id": "f2ab53ec",
   "metadata": {},
   "outputs": [
    {
     "data": {
      "text/plain": [
       "0    1\n",
       "1    2\n",
       "2    3\n",
       "3    4\n",
       "4    5\n",
       "dtype: int64"
      ]
     },
     "execution_count": 2,
     "metadata": {},
     "output_type": "execute_result"
    }
   ],
   "source": [
    "# seies\n",
    "sr = pd.Series([1, 2, 3, 4, 5])\n",
    "sr"
   ]
  },
  {
   "cell_type": "code",
   "execution_count": 3,
   "id": "603febbe",
   "metadata": {},
   "outputs": [],
   "source": [
    "data = np.array(\n",
    "    [\n",
    "        [63.5, 100, 64, 110, 85],\n",
    "        [6, 3.5, 5.4, 6.5, 60],\n",
    "        [\"レッサーパンダ\", \"ホオジロカンムリヅル\", \"コツメカワウソ\", \"カナダガン\", \"チンパンジー\"],\n",
    "    ]\n",
    ").T"
   ]
  },
  {
   "cell_type": "code",
   "execution_count": 4,
   "id": "64b9019a",
   "metadata": {},
   "outputs": [],
   "source": [
    "df = pd.read_csv(\"https://raw.githubusercontent.com/uribo/tokupon_ds/main/data-raw/tokushima_zoo_animals22.csv\")"
   ]
  }
 ],
 "metadata": {
  "jupytext": {
   "formats": "ipynb,qmd",
   "text_representation": {
    "extension": ".qmd",
    "format_name": "quarto",
    "format_version": "1.0",
    "jupytext_version": "1.14.5"
   }
  },
  "kernelspec": {
   "display_name": "Python 3 (ipykernel)",
   "language": "python",
   "name": "python3"
  },
  "language_info": {
   "codemirror_mode": {
    "name": "ipython",
    "version": 3
   },
   "file_extension": ".py",
   "mimetype": "text/x-python",
   "name": "python",
   "nbconvert_exporter": "python",
   "pygments_lexer": "ipython3",
   "version": "3.10.13"
  }
 },
 "nbformat": 4,
 "nbformat_minor": 5
}
