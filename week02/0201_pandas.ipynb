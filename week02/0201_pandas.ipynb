{
 "cells": [
  {
   "cell_type": "raw",
   "id": "e0bc55d5",
   "metadata": {},
   "source": [
    "---\n",
    "title: pandas基礎\n",
    "execute:\n",
    "  keep-ipynb: true\n",
    "  warning: false\n",
    "---"
   ]
  },
  {
   "cell_type": "markdown",
   "id": "a5f75914",
   "metadata": {},
   "source": [
    "pandasは、Pythonでさまざまなデータ分析を効率的に行うことができるライブラリです。ここではpandasの基本的な使い方を学びます。\n",
    "\n",
    "まずはpandasをインポートします。もしpandasがインストールされていない場合、`pip install pandas`でインストールしてください。\n"
   ]
  },
  {
   "cell_type": "code",
   "execution_count": 1,
   "id": "e274cb8f",
   "metadata": {},
   "outputs": [],
   "source": [
    "# pandasの読み込み ... pdとして参照できるようにします\n",
    "import pandas as pd"
   ]
  },
  {
   "cell_type": "code",
   "execution_count": 2,
   "id": "c957e566",
   "metadata": {},
   "outputs": [
    {
     "data": {
      "text/plain": [
       "0    1\n",
       "1    2\n",
       "2    3\n",
       "3    4\n",
       "4    5\n",
       "dtype: int64"
      ]
     },
     "execution_count": 2,
     "metadata": {},
     "output_type": "execute_result"
    }
   ],
   "source": [
    "# seies\n",
    "sr = pd.Series([1, 2, 3, 4, 5])\n",
    "sr"
   ]
  },
  {
   "cell_type": "code",
   "execution_count": 3,
   "id": "d0f97c1f",
   "metadata": {},
   "outputs": [],
   "source": [
    "import numpy as np\n",
    "\n",
    "data = np.array(\n",
    "    [\n",
    "        [63.5, 100, 64, 110, 85],\n",
    "        [6, 3.5, 5.4, 6.5, 60],\n",
    "        [\"レッサーパンダ\", \"ホオジロカンムリヅル\", \"コツメカワウソ\", \"カナダガン\", \"チンパンジー\"],\n",
    "    ]\n",
    ").T"
   ]
  },
  {
   "cell_type": "code",
   "execution_count": 4,
   "id": "b1064ee2",
   "metadata": {},
   "outputs": [
    {
     "data": {
      "text/html": [
       "<div>\n",
       "<style scoped>\n",
       "    .dataframe tbody tr th:only-of-type {\n",
       "        vertical-align: middle;\n",
       "    }\n",
       "\n",
       "    .dataframe tbody tr th {\n",
       "        vertical-align: top;\n",
       "    }\n",
       "\n",
       "    .dataframe thead th {\n",
       "        text-align: right;\n",
       "    }\n",
       "</style>\n",
       "<table border=\"1\" class=\"dataframe\">\n",
       "  <thead>\n",
       "    <tr style=\"text-align: right;\">\n",
       "      <th></th>\n",
       "      <th>body_length_cm</th>\n",
       "      <th>weight_kg</th>\n",
       "      <th>name</th>\n",
       "    </tr>\n",
       "  </thead>\n",
       "  <tbody>\n",
       "    <tr>\n",
       "      <th>0</th>\n",
       "      <td>63.5</td>\n",
       "      <td>6</td>\n",
       "      <td>レッサーパンダ</td>\n",
       "    </tr>\n",
       "    <tr>\n",
       "      <th>1</th>\n",
       "      <td>100</td>\n",
       "      <td>3.5</td>\n",
       "      <td>ホオジロカンムリヅル</td>\n",
       "    </tr>\n",
       "    <tr>\n",
       "      <th>2</th>\n",
       "      <td>64</td>\n",
       "      <td>5.4</td>\n",
       "      <td>コツメカワウソ</td>\n",
       "    </tr>\n",
       "    <tr>\n",
       "      <th>3</th>\n",
       "      <td>110</td>\n",
       "      <td>6.5</td>\n",
       "      <td>カナダガン</td>\n",
       "    </tr>\n",
       "    <tr>\n",
       "      <th>4</th>\n",
       "      <td>85</td>\n",
       "      <td>60</td>\n",
       "      <td>チンパンジー</td>\n",
       "    </tr>\n",
       "  </tbody>\n",
       "</table>\n",
       "</div>"
      ],
      "text/plain": [
       "  body_length_cm weight_kg        name\n",
       "0           63.5         6     レッサーパンダ\n",
       "1            100       3.5  ホオジロカンムリヅル\n",
       "2             64       5.4     コツメカワウソ\n",
       "3            110       6.5       カナダガン\n",
       "4             85        60      チンパンジー"
      ]
     },
     "execution_count": 4,
     "metadata": {},
     "output_type": "execute_result"
    }
   ],
   "source": [
    "# data frame (df)\n",
    "df = pd.DataFrame(data, columns=[\"body_length_cm\", \"weight_kg\", \"name\"])\n",
    "\n",
    "df"
   ]
  }
 ],
 "metadata": {
  "jupytext": {
   "formats": "ipynb,qmd",
   "text_representation": {
    "extension": ".qmd",
    "format_name": "quarto",
    "format_version": "1.0",
    "jupytext_version": "1.14.5"
   }
  },
  "kernelspec": {
   "display_name": "Python 3 (ipykernel)",
   "language": "python",
   "name": "python3"
  },
  "language_info": {
   "codemirror_mode": {
    "name": "ipython",
    "version": 3
   },
   "file_extension": ".py",
   "mimetype": "text/x-python",
   "name": "python",
   "nbconvert_exporter": "python",
   "pygments_lexer": "ipython3",
   "version": "3.10.13"
  }
 },
 "nbformat": 4,
 "nbformat_minor": 5
}
