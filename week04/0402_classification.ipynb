{
 "cells": [
  {
   "cell_type": "raw",
   "id": "5f75341d",
   "metadata": {},
   "source": [
    "---\n",
    "title: ペンギンデータの分類に挑戦\n",
    "format: html\n",
    "execute:\n",
    "  keep-ipynb: true\n",
    "---"
   ]
  },
  {
   "cell_type": "markdown",
   "id": "1427c9d1",
   "metadata": {},
   "source": [
    "[前節](0401_penguins.qmd)では、ペンギンデータを可視化し、データの特徴を把握しました。このデータを使って、ペンギンの種類を分類する機械学習モデルを構築しましょう。\n",
    "\n",
    "PythonのScikit-learnライブラリには機械学習モデルの構築から評価に必要な機能が含まれています。そのため今回はScikit-learnライブラリを使ってペンギンデータを分類する機械学習モデルを構築します。\n"
   ]
  },
  {
   "cell_type": "code",
   "execution_count": 1,
   "id": "0d501967",
   "metadata": {},
   "outputs": [],
   "source": [
    "#| eval: true\n",
    "#| echo: false\n",
    "from IPython.display import Markdown, display"
   ]
  },
  {
   "cell_type": "code",
   "execution_count": 2,
   "id": "de058b75",
   "metadata": {},
   "outputs": [],
   "source": [
    "import matplotlib.pyplot as plt\n",
    "import numpy as np\n",
    "import pandas as pd\n",
    "import seaborn as sns\n",
    "\n",
    "# scikit-learnのライブラリ\n",
    "from sklearn.linear_model import LogisticRegression\n",
    "from sklearn.metrics import (\n",
    "    ConfusionMatrixDisplay,\n",
    "    accuracy_score,\n",
    "    classification_report,\n",
    "    confusion_matrix,\n",
    "    f1_score,\n",
    "    precision_score,\n",
    "    recall_score,\n",
    ")\n",
    "from sklearn.model_selection import train_test_split\n",
    "from sklearn.preprocessing import LabelEncoder, StandardScaler"
   ]
  },
  {
   "cell_type": "code",
   "execution_count": 3,
   "id": "58371660",
   "metadata": {},
   "outputs": [],
   "source": [
    "penguins = sns.load_dataset(\"penguins\")"
   ]
  },
  {
   "cell_type": "markdown",
   "id": "3368519d",
   "metadata": {},
   "source": [
    "## scikit-learnを使った機械学習モデルの構築\n",
    "\n",
    "ペンギンデータをロジスティック回帰モデルによって分類します。\n",
    "\n",
    "### 前処理\n",
    "\n",
    "具体的には欠損値への対応とラベルエンコーディングを実行します。\n",
    "\n",
    "ロジスティック回帰など、いくつかの機械学習モデルは欠損値を含むデータを直接扱うことができません。そのため、欠損値を含む行を削除するか、欠損値を別の値に置き換える必要があります。今回はpandasの`dropna()`関数で欠損値を含む行を削除します。\n"
   ]
  },
  {
   "cell_type": "code",
   "execution_count": 4,
   "id": "9e7202e9",
   "metadata": {},
   "outputs": [
    {
     "data": {
      "text/plain": [
       "(333, 7)"
      ]
     },
     "execution_count": 4,
     "metadata": {},
     "output_type": "execute_result"
    }
   ],
   "source": [
    "#| label: 前処理その1\n",
    "\n",
    "# 1/2 欠損値を含む行を削除\n",
    "penguins.dropna(inplace=True)  # 元のデータフレームを書き換える場合、inplace=Trueを指定する\n",
    "\n",
    "# 11行削除されていることを確認\n",
    "penguins.shape"
   ]
  },
  {
   "cell_type": "markdown",
   "id": "3fe6f1b0",
   "metadata": {},
   "source": [
    "続いてラベルエンコーディングを適用します。ラベルエンコーディングとは、カテゴリ変数を数値に変換する処理です。例えば、`species`列の値Adelie、Chinstrap、Gentooをそれぞれ0, 1, 2に変換します。機械学習モデルは数値データを扱うため、カテゴリ変数を数値に変換する必要があります。ペンギンデータの場合、`species`の他に`island`や`sex`列もカテゴリ変数なのでラベルエンコーディングを適用対象となります。ラベルエンコーディングはscikit-learnの`LabelEncoder`クラスを使って実行します。\n"
   ]
  },
  {
   "cell_type": "code",
   "execution_count": 5,
   "id": "49cd8072",
   "metadata": {},
   "outputs": [
    {
     "data": {
      "text/html": [
       "<div>\n",
       "<style scoped>\n",
       "    .dataframe tbody tr th:only-of-type {\n",
       "        vertical-align: middle;\n",
       "    }\n",
       "\n",
       "    .dataframe tbody tr th {\n",
       "        vertical-align: top;\n",
       "    }\n",
       "\n",
       "    .dataframe thead th {\n",
       "        text-align: right;\n",
       "    }\n",
       "</style>\n",
       "<table border=\"1\" class=\"dataframe\">\n",
       "  <thead>\n",
       "    <tr style=\"text-align: right;\">\n",
       "      <th></th>\n",
       "      <th>species</th>\n",
       "      <th>island</th>\n",
       "      <th>bill_length_mm</th>\n",
       "      <th>bill_depth_mm</th>\n",
       "      <th>flipper_length_mm</th>\n",
       "      <th>body_mass_g</th>\n",
       "      <th>sex</th>\n",
       "    </tr>\n",
       "  </thead>\n",
       "  <tbody>\n",
       "    <tr>\n",
       "      <th>0</th>\n",
       "      <td>0</td>\n",
       "      <td>2</td>\n",
       "      <td>39.1</td>\n",
       "      <td>18.7</td>\n",
       "      <td>181.0</td>\n",
       "      <td>3750.0</td>\n",
       "      <td>1</td>\n",
       "    </tr>\n",
       "    <tr>\n",
       "      <th>1</th>\n",
       "      <td>0</td>\n",
       "      <td>2</td>\n",
       "      <td>39.5</td>\n",
       "      <td>17.4</td>\n",
       "      <td>186.0</td>\n",
       "      <td>3800.0</td>\n",
       "      <td>0</td>\n",
       "    </tr>\n",
       "    <tr>\n",
       "      <th>2</th>\n",
       "      <td>0</td>\n",
       "      <td>2</td>\n",
       "      <td>40.3</td>\n",
       "      <td>18.0</td>\n",
       "      <td>195.0</td>\n",
       "      <td>3250.0</td>\n",
       "      <td>0</td>\n",
       "    </tr>\n",
       "    <tr>\n",
       "      <th>4</th>\n",
       "      <td>0</td>\n",
       "      <td>2</td>\n",
       "      <td>36.7</td>\n",
       "      <td>19.3</td>\n",
       "      <td>193.0</td>\n",
       "      <td>3450.0</td>\n",
       "      <td>0</td>\n",
       "    </tr>\n",
       "    <tr>\n",
       "      <th>5</th>\n",
       "      <td>0</td>\n",
       "      <td>2</td>\n",
       "      <td>39.3</td>\n",
       "      <td>20.6</td>\n",
       "      <td>190.0</td>\n",
       "      <td>3650.0</td>\n",
       "      <td>1</td>\n",
       "    </tr>\n",
       "    <tr>\n",
       "      <th>...</th>\n",
       "      <td>...</td>\n",
       "      <td>...</td>\n",
       "      <td>...</td>\n",
       "      <td>...</td>\n",
       "      <td>...</td>\n",
       "      <td>...</td>\n",
       "      <td>...</td>\n",
       "    </tr>\n",
       "    <tr>\n",
       "      <th>338</th>\n",
       "      <td>2</td>\n",
       "      <td>0</td>\n",
       "      <td>47.2</td>\n",
       "      <td>13.7</td>\n",
       "      <td>214.0</td>\n",
       "      <td>4925.0</td>\n",
       "      <td>0</td>\n",
       "    </tr>\n",
       "    <tr>\n",
       "      <th>340</th>\n",
       "      <td>2</td>\n",
       "      <td>0</td>\n",
       "      <td>46.8</td>\n",
       "      <td>14.3</td>\n",
       "      <td>215.0</td>\n",
       "      <td>4850.0</td>\n",
       "      <td>0</td>\n",
       "    </tr>\n",
       "    <tr>\n",
       "      <th>341</th>\n",
       "      <td>2</td>\n",
       "      <td>0</td>\n",
       "      <td>50.4</td>\n",
       "      <td>15.7</td>\n",
       "      <td>222.0</td>\n",
       "      <td>5750.0</td>\n",
       "      <td>1</td>\n",
       "    </tr>\n",
       "    <tr>\n",
       "      <th>342</th>\n",
       "      <td>2</td>\n",
       "      <td>0</td>\n",
       "      <td>45.2</td>\n",
       "      <td>14.8</td>\n",
       "      <td>212.0</td>\n",
       "      <td>5200.0</td>\n",
       "      <td>0</td>\n",
       "    </tr>\n",
       "    <tr>\n",
       "      <th>343</th>\n",
       "      <td>2</td>\n",
       "      <td>0</td>\n",
       "      <td>49.9</td>\n",
       "      <td>16.1</td>\n",
       "      <td>213.0</td>\n",
       "      <td>5400.0</td>\n",
       "      <td>1</td>\n",
       "    </tr>\n",
       "  </tbody>\n",
       "</table>\n",
       "<p>333 rows × 7 columns</p>\n",
       "</div>"
      ],
      "text/plain": [
       "     species  island  bill_length_mm  bill_depth_mm  flipper_length_mm  \\\n",
       "0          0       2            39.1           18.7              181.0   \n",
       "1          0       2            39.5           17.4              186.0   \n",
       "2          0       2            40.3           18.0              195.0   \n",
       "4          0       2            36.7           19.3              193.0   \n",
       "5          0       2            39.3           20.6              190.0   \n",
       "..       ...     ...             ...            ...                ...   \n",
       "338        2       0            47.2           13.7              214.0   \n",
       "340        2       0            46.8           14.3              215.0   \n",
       "341        2       0            50.4           15.7              222.0   \n",
       "342        2       0            45.2           14.8              212.0   \n",
       "343        2       0            49.9           16.1              213.0   \n",
       "\n",
       "     body_mass_g  sex  \n",
       "0         3750.0    1  \n",
       "1         3800.0    0  \n",
       "2         3250.0    0  \n",
       "4         3450.0    0  \n",
       "5         3650.0    1  \n",
       "..           ...  ...  \n",
       "338       4925.0    0  \n",
       "340       4850.0    0  \n",
       "341       5750.0    1  \n",
       "342       5200.0    0  \n",
       "343       5400.0    1  \n",
       "\n",
       "[333 rows x 7 columns]"
      ]
     },
     "execution_count": 5,
     "metadata": {},
     "output_type": "execute_result"
    }
   ],
   "source": [
    "#| label: 前処理その2\n",
    "# 2/2 ラベルエンコーディング\n",
    "# LabelEncoderクラスのインスタンスを作成\n",
    "le = LabelEncoder()\n",
    "# 以下のコードの実行で、species列の値Adelie、Chinstrap、Gentooがそれぞれ0, 1, 2に変換される\n",
    "penguins[\"species\"] = le.fit_transform(penguins[\"species\"])\n",
    "# island列とsex列についても同様にラベルエンコーディングを実行\n",
    "penguins[\"island\"] = le.fit_transform(penguins[\"island\"])\n",
    "penguins[\"sex\"] = le.fit_transform(penguins[\"sex\"])\n",
    "\n",
    "\n",
    "# 前処理を行ったデータを表示\n",
    "# ラベルエンコーディングが適用された3列に注目\n",
    "penguins"
   ]
  },
  {
   "cell_type": "markdown",
   "id": "224be358",
   "metadata": {},
   "source": [
    "| 元の値 | ラベルエンコーディング後の値 |\n",
    "|-------|-------------------------|\n",
    "| Adelie | 0 |\n",
    "| Chinstrap | 1 |\n",
    "| Gentoo | 2 |\n",
    "\n",
    "### データ分割\n",
    "\n",
    "- 訓練データ: モデルの学習に用いるデータ。モデルはこのデータの特徴を学習し、テストデータに対する予測を行うためのパラメータを決定する。\n",
    "- テストデータ: モデルの予測精度を評価するためのデータ。モデルの学習には用いられない。\n"
   ]
  },
  {
   "cell_type": "code",
   "execution_count": 6,
   "id": "925dfb43",
   "metadata": {},
   "outputs": [],
   "source": [
    "# 目的変数をspecies列、説明変数をspecies列以外の列とする\n",
    "# X... 説明変数のみからなるデータフレーム\n",
    "# y... 目的変数のみからなるデータフレーム\n",
    "X = penguins.drop(columns=\"species\")\n",
    "y = penguins[\"species\"]\n",
    "\n",
    "# 訓練データとテストデータに分割\n",
    "# test_sizeでテストデータの割合を指定する。ここでは全体の20%をテストデータとする（80%を訓練データとする）\n",
    "# random_stateは乱数のシードを指定する引数。この値を変更すると結果が変わるので注意\n",
    "X_train, X_test, y_train, y_test = train_test_split(\n",
    "    X, y, test_size=0.2, random_state=20230508\n",
    ")"
   ]
  },
  {
   "cell_type": "markdown",
   "id": "7a466936",
   "metadata": {},
   "source": [
    "### モデルの構築\n",
    "\n",
    "sklearn.linear_modelモジュールのLogisticRegressionを使ってロジスティック回帰モデルを構築します。\n"
   ]
  },
  {
   "cell_type": "code",
   "execution_count": 7,
   "id": "65f9d477",
   "metadata": {},
   "outputs": [
    {
     "data": {
      "text/html": [
       "<style>#sk-container-id-1 {color: black;}#sk-container-id-1 pre{padding: 0;}#sk-container-id-1 div.sk-toggleable {background-color: white;}#sk-container-id-1 label.sk-toggleable__label {cursor: pointer;display: block;width: 100%;margin-bottom: 0;padding: 0.3em;box-sizing: border-box;text-align: center;}#sk-container-id-1 label.sk-toggleable__label-arrow:before {content: \"▸\";float: left;margin-right: 0.25em;color: #696969;}#sk-container-id-1 label.sk-toggleable__label-arrow:hover:before {color: black;}#sk-container-id-1 div.sk-estimator:hover label.sk-toggleable__label-arrow:before {color: black;}#sk-container-id-1 div.sk-toggleable__content {max-height: 0;max-width: 0;overflow: hidden;text-align: left;background-color: #f0f8ff;}#sk-container-id-1 div.sk-toggleable__content pre {margin: 0.2em;color: black;border-radius: 0.25em;background-color: #f0f8ff;}#sk-container-id-1 input.sk-toggleable__control:checked~div.sk-toggleable__content {max-height: 200px;max-width: 100%;overflow: auto;}#sk-container-id-1 input.sk-toggleable__control:checked~label.sk-toggleable__label-arrow:before {content: \"▾\";}#sk-container-id-1 div.sk-estimator input.sk-toggleable__control:checked~label.sk-toggleable__label {background-color: #d4ebff;}#sk-container-id-1 div.sk-label input.sk-toggleable__control:checked~label.sk-toggleable__label {background-color: #d4ebff;}#sk-container-id-1 input.sk-hidden--visually {border: 0;clip: rect(1px 1px 1px 1px);clip: rect(1px, 1px, 1px, 1px);height: 1px;margin: -1px;overflow: hidden;padding: 0;position: absolute;width: 1px;}#sk-container-id-1 div.sk-estimator {font-family: monospace;background-color: #f0f8ff;border: 1px dotted black;border-radius: 0.25em;box-sizing: border-box;margin-bottom: 0.5em;}#sk-container-id-1 div.sk-estimator:hover {background-color: #d4ebff;}#sk-container-id-1 div.sk-parallel-item::after {content: \"\";width: 100%;border-bottom: 1px solid gray;flex-grow: 1;}#sk-container-id-1 div.sk-label:hover label.sk-toggleable__label {background-color: #d4ebff;}#sk-container-id-1 div.sk-serial::before {content: \"\";position: absolute;border-left: 1px solid gray;box-sizing: border-box;top: 0;bottom: 0;left: 50%;z-index: 0;}#sk-container-id-1 div.sk-serial {display: flex;flex-direction: column;align-items: center;background-color: white;padding-right: 0.2em;padding-left: 0.2em;position: relative;}#sk-container-id-1 div.sk-item {position: relative;z-index: 1;}#sk-container-id-1 div.sk-parallel {display: flex;align-items: stretch;justify-content: center;background-color: white;position: relative;}#sk-container-id-1 div.sk-item::before, #sk-container-id-1 div.sk-parallel-item::before {content: \"\";position: absolute;border-left: 1px solid gray;box-sizing: border-box;top: 0;bottom: 0;left: 50%;z-index: -1;}#sk-container-id-1 div.sk-parallel-item {display: flex;flex-direction: column;z-index: 1;position: relative;background-color: white;}#sk-container-id-1 div.sk-parallel-item:first-child::after {align-self: flex-end;width: 50%;}#sk-container-id-1 div.sk-parallel-item:last-child::after {align-self: flex-start;width: 50%;}#sk-container-id-1 div.sk-parallel-item:only-child::after {width: 0;}#sk-container-id-1 div.sk-dashed-wrapped {border: 1px dashed gray;margin: 0 0.4em 0.5em 0.4em;box-sizing: border-box;padding-bottom: 0.4em;background-color: white;}#sk-container-id-1 div.sk-label label {font-family: monospace;font-weight: bold;display: inline-block;line-height: 1.2em;}#sk-container-id-1 div.sk-label-container {text-align: center;}#sk-container-id-1 div.sk-container {/* jupyter's `normalize.less` sets `[hidden] { display: none; }` but bootstrap.min.css set `[hidden] { display: none !important; }` so we also need the `!important` here to be able to override the default hidden behavior on the sphinx rendered scikit-learn.org. See: https://github.com/scikit-learn/scikit-learn/issues/21755 */display: inline-block !important;position: relative;}#sk-container-id-1 div.sk-text-repr-fallback {display: none;}</style><div id=\"sk-container-id-1\" class=\"sk-top-container\"><div class=\"sk-text-repr-fallback\"><pre>LogisticRegression(max_iter=1000)</pre><b>In a Jupyter environment, please rerun this cell to show the HTML representation or trust the notebook. <br />On GitHub, the HTML representation is unable to render, please try loading this page with nbviewer.org.</b></div><div class=\"sk-container\" hidden><div class=\"sk-item\"><div class=\"sk-estimator sk-toggleable\"><input class=\"sk-toggleable__control sk-hidden--visually\" id=\"sk-estimator-id-1\" type=\"checkbox\" checked><label for=\"sk-estimator-id-1\" class=\"sk-toggleable__label sk-toggleable__label-arrow\">LogisticRegression</label><div class=\"sk-toggleable__content\"><pre>LogisticRegression(max_iter=1000)</pre></div></div></div></div></div>"
      ],
      "text/plain": [
       "LogisticRegression(max_iter=1000)"
      ]
     },
     "execution_count": 7,
     "metadata": {},
     "output_type": "execute_result"
    }
   ],
   "source": [
    "# ロジスティック回帰モデルを適用し、モデルを訓練\n",
    "# max_iter引数でパラメータ探索のための試行回数を設定（デフォルトでは100）\n",
    "lr = LogisticRegression(max_iter=1000)\n",
    "# 訓練データを使ってモデルを訓練\n",
    "lr.fit(X_train, y_train)"
   ]
  },
  {
   "cell_type": "markdown",
   "id": "6ab31ec5",
   "metadata": {},
   "source": [
    "### モデルの予測\n",
    "\n",
    "構築したモデルに対して、テストデータを使って予測を行います。`lr.predict(X_test)`を実行すると、テストデータに対する予測結果が得られます。\n"
   ]
  },
  {
   "cell_type": "code",
   "execution_count": 8,
   "id": "ffcd794b",
   "metadata": {},
   "outputs": [
    {
     "data": {
      "text/plain": [
       "array([1, 1, 0, 2, 2, 1, 2, 2, 0, 1, 2, 2, 0, 1, 2, 2, 0, 1, 1, 0, 0, 0,\n",
       "       1, 1, 2, 0, 2, 2, 0, 2, 0, 1, 2, 0, 2, 0, 0, 0, 0, 0, 2, 0, 0, 0,\n",
       "       1, 1, 0, 0, 2, 0, 2, 0, 0, 2, 2, 2, 2, 0, 1, 1, 1, 0, 0, 2, 0, 2,\n",
       "       2])"
      ]
     },
     "execution_count": 8,
     "metadata": {},
     "output_type": "execute_result"
    }
   ],
   "source": [
    "# テストデータを使って予測を行う\n",
    "y_pred = lr.predict(X_test)\n",
    "\n",
    "# 予測結果は配列で格納されている\n",
    "y_pred"
   ]
  },
  {
   "cell_type": "markdown",
   "id": "c8408044",
   "metadata": {},
   "source": [
    "ロジスティック回帰モデルでは、各クラス（ここではペンギンの種名）に属する確率を出力することもできます。構築したモデルのインスタンスと`predict_proba()`関数を実行すると、各データポイントに対するクラスの所属確率を配列として取得できます。\n"
   ]
  },
  {
   "cell_type": "code",
   "execution_count": 9,
   "id": "e23a98d6",
   "metadata": {},
   "outputs": [],
   "source": [
    "# テストデータがどのクラスに属するかの確率を出力\n",
    "probabilities = lr.predict_proba(X_test)"
   ]
  },
  {
   "cell_type": "markdown",
   "id": "e8f0d33f",
   "metadata": {},
   "source": [
    "ペンギンの種名は3つのクラスに分類されるので、`predict_proba()`関数の出力は3列の配列となります。各データポイントに対して、それぞれのクラスに属する確率が出力されています。このうち、最も確率が高いクラスが予測結果となります。\n"
   ]
  },
  {
   "cell_type": "code",
   "execution_count": 10,
   "id": "e9a37314",
   "metadata": {},
   "outputs": [
    {
     "name": "stdout",
     "output_type": "stream",
     "text": [
      "[0.0010 0.9986 0.0004]\n"
     ]
    }
   ],
   "source": [
    "# テストデータの一件目のデータポイントに対するクラス別の所属確率\n",
    "# 表示を見やすくするために、小数点以下4桁まで表示するように設定\n",
    "np.set_printoptions(suppress=True, formatter={\"float\": \"{:.4f}\".format})\n",
    "print(probabilities[0])"
   ]
  },
  {
   "cell_type": "code",
   "execution_count": 11,
   "id": "7b1eb214",
   "metadata": {},
   "outputs": [
    {
     "data": {
      "text/plain": [
       "1"
      ]
     },
     "execution_count": 11,
     "metadata": {},
     "output_type": "execute_result"
    }
   ],
   "source": [
    "# 実際の予測結果\n",
    "y_pred[0]"
   ]
  },
  {
   "cell_type": "markdown",
   "id": "a7efbefe",
   "metadata": {},
   "source": [
    "## モデルの評価\n"
   ]
  },
  {
   "cell_type": "code",
   "execution_count": 12,
   "id": "009ee3a9",
   "metadata": {},
   "outputs": [
    {
     "data": {
      "text/html": [
       "<div>\n",
       "<style scoped>\n",
       "    .dataframe tbody tr th:only-of-type {\n",
       "        vertical-align: middle;\n",
       "    }\n",
       "\n",
       "    .dataframe tbody tr th {\n",
       "        vertical-align: top;\n",
       "    }\n",
       "\n",
       "    .dataframe thead th {\n",
       "        text-align: right;\n",
       "    }\n",
       "</style>\n",
       "<table border=\"1\" class=\"dataframe\">\n",
       "  <thead>\n",
       "    <tr style=\"text-align: right;\">\n",
       "      <th></th>\n",
       "      <th>correct</th>\n",
       "      <th>count</th>\n",
       "    </tr>\n",
       "  </thead>\n",
       "  <tbody>\n",
       "    <tr>\n",
       "      <th>0</th>\n",
       "      <td>False</td>\n",
       "      <td>1</td>\n",
       "    </tr>\n",
       "    <tr>\n",
       "      <th>1</th>\n",
       "      <td>True</td>\n",
       "      <td>66</td>\n",
       "    </tr>\n",
       "  </tbody>\n",
       "</table>\n",
       "</div>"
      ],
      "text/plain": [
       "   correct  count\n",
       "0    False      1\n",
       "1     True     66"
      ]
     },
     "execution_count": 12,
     "metadata": {},
     "output_type": "execute_result"
    }
   ],
   "source": [
    "# 真の値であるy_testと予測値のy_predを比較して2つの値がどの程度一致しているかを確認する\n",
    "# y_testをデータフレームに変換\n",
    "y_test_df = pd.DataFrame(y_test)\n",
    "# y_predをデータフレームに変換\n",
    "y_pred_df = pd.DataFrame(y_pred, columns=[\"predicted\"], index=y_test.index)\n",
    "\n",
    "# y_testとy_predのデータフレームを結合\n",
    "comparison_df = pd.concat([y_test_df, y_pred_df], axis=1)\n",
    "\n",
    "# speciesとpredictedが一致しているかどうかを確認\n",
    "comparison_df[\"correct\"] = comparison_df[\"species\"] == comparison_df[\"predicted\"]\n",
    "\n",
    "# TrueとFalseの数をカウント\n",
    "comparison_df.groupby(\"correct\").size().reset_index(name=\"count\")"
   ]
  },
  {
   "cell_type": "code",
   "execution_count": 13,
   "id": "3f9297ee",
   "metadata": {},
   "outputs": [
    {
     "data": {
      "text/markdown": [
       "\n",
       "一致した件数は 66/67件です。これは、モデルが正しく予測できたデータの割合が約98%であることを意味します。\n"
      ],
      "text/plain": [
       "<IPython.core.display.Markdown object>"
      ]
     },
     "metadata": {},
     "output_type": "display_data"
    }
   ],
   "source": [
    "#| echo: false\n",
    "predict_match = (\n",
    "    comparison_df.groupby(\"correct\").size().reset_index(name=\"count\")[\"count\"][1]\n",
    ")\n",
    "display(\n",
    "    Markdown(\n",
    "        \"\"\"\n",
    "一致した件数は {predict_match}/{total_n}件です。これは、モデルが正しく予測できたデータの割合が約98%であることを意味します。\n",
    "\"\"\".format(\n",
    "            predict_match=predict_match, total_n=len(comparison_df)\n",
    "        )\n",
    "    )\n",
    ")"
   ]
  },
  {
   "cell_type": "markdown",
   "id": "36fa46a2",
   "metadata": {},
   "source": [
    "scikit-learnには、モデルの評価を行うための様々な関数が用意されています。ここでは、sklearn.metricsモジュールの関数を使ってモデルの評価を行います。\n",
    "\n",
    "`accuracy_score()`関数は、正解率を計算する関数です。正解率は、正しく予測できたデータの割合を表します。この値は先ほど確認した正解率と一致します。\n"
   ]
  },
  {
   "cell_type": "code",
   "execution_count": 14,
   "id": "6ba5acd1",
   "metadata": {},
   "outputs": [
    {
     "name": "stdout",
     "output_type": "stream",
     "text": [
      "Accuracy: 0.9850746268656716\n"
     ]
    }
   ],
   "source": [
    "# モデルを評価\n",
    "print(\"Accuracy:\", accuracy_score(y_test, y_pred))"
   ]
  },
  {
   "cell_type": "markdown",
   "id": "5d7c4dbc",
   "metadata": {},
   "source": [
    "種名ごとの精度を確認するために`classification_report()`関数を使います。\n"
   ]
  },
  {
   "cell_type": "code",
   "execution_count": 15,
   "id": "c81fdac9",
   "metadata": {},
   "outputs": [
    {
     "name": "stdout",
     "output_type": "stream",
     "text": [
      "Classification Report:\n",
      "               precision    recall  f1-score   support\n",
      "\n",
      "           0       1.00      0.97      0.98        29\n",
      "           1       0.93      1.00      0.97        14\n",
      "           2       1.00      1.00      1.00        24\n",
      "\n",
      "    accuracy                           0.99        67\n",
      "   macro avg       0.98      0.99      0.98        67\n",
      "weighted avg       0.99      0.99      0.99        67\n",
      "\n"
     ]
    }
   ],
   "source": [
    "print(\"Classification Report:\\n\", classification_report(y_test, y_pred))"
   ]
  },
  {
   "cell_type": "markdown",
   "id": "9670e0df",
   "metadata": {},
   "source": [
    "各クラスごとに、\n",
    "precision、recall、f1-score、supportの4つの値が表示されます。それぞれの値の意味は以下の通りです。\n",
    "\n",
    "- precision: 適合率。正と予測したデータのうち、実際に正であるものの割合。\n",
    "- recall: 再現率。実際に正であるもののうち、正であると予測されたものの割合。\n",
    "- f1-score: 適合率と再現率の調和平均により得られた値。適合率と再現率のバランスを考慮した評価指標。この値が高いほど、適合率と再現率の両方が高いことを示す。\n",
    "- support: 分類されたデータ数。\n",
    "\n",
    "ここで出力される評価指標については`accuracy_score()`関数のように個別の関数を使った算出も可能です。具体的にはprecisionは`precision_score()`、recallは`recall_score()`、f1-scoreは`f1_score()`関数を利用して求めます。\n"
   ]
  },
  {
   "cell_type": "code",
   "execution_count": 16,
   "id": "66647133",
   "metadata": {},
   "outputs": [],
   "source": [
    "#| eval: false\n",
    "#| echo: true\n",
    "#| code-fold: false\n",
    "print(\"Precision:\", precision_score(y_test, y_pred, average=None))\n",
    "print(\"Recall:\", recall_score(y_test, y_pred, average=None))\n",
    "print(\"F1-Score:\", f1_score(y_test, y_pred, average=None))"
   ]
  },
  {
   "cell_type": "markdown",
   "id": "057303f8",
   "metadata": {},
   "source": [
    "### 混合行列\n",
    "\n",
    "最後に、分類モデルの性能評価に使われる混合行列を確認しましょう。混合行列は、モデルの予測結果と実際のクラスの関係を4つの要素に分類した行列です。以下の4つの要素に分類されます。\n",
    "\n",
    "- True Positive（TP）：正のクラスを正と予測し、実際に正である場合。\n",
    "- False Positive（FP）：正のクラスを正と予測したが、実際には負である場合。\n",
    "- True Negative（TN）：負のクラスを負と予測し、実際に負である場合。\n",
    "- False Negative（FN）：負のクラスを負と予測したが、実際には正である場合。\n",
    "\n",
    "scikit-learnでは、`confusion_matrix()`関数を使って混合行列を作成できます。ここではさらに、`ConfusionMatrixDisplay()`関数を使って混合行列を可視化する例を示します。\n"
   ]
  },
  {
   "cell_type": "code",
   "execution_count": 17,
   "id": "3c105caf",
   "metadata": {},
   "outputs": [
    {
     "data": {
      "image/png": "[encoded data removed]",
      "text/plain": [
       "<Figure size 672x480 with 2 Axes>"
      ]
     },
     "metadata": {
      "image/png": {
       "height": 429,
       "width": 495
      }
     },
     "output_type": "display_data"
    }
   ],
   "source": [
    "cm = confusion_matrix(y_test, y_pred)\n",
    "\n",
    "disp = ConfusionMatrixDisplay(confusion_matrix=cm, display_labels=lr.classes_)\n",
    "\n",
    "disp.plot()\n",
    "plt.show()"
   ]
  },
  {
   "cell_type": "markdown",
   "id": "613049dd",
   "metadata": {},
   "source": [
    "混合行列を見ることで、どのクラスが誤分類されやすいかを確認することができます。また、適合率や再現率の値がどのように計算されているかを理解することができます。\n",
    "\n",
    "具体的には以下のように計算されます。\n",
    "\n",
    "- 適合率: TP / (TP + FP)\n",
    "- 再現率: TP / (TP + FN)\n",
    "\n",
    "今回構築したロジスティック回帰モデルでの適合率を計算してみましょう。ここでは、ペンギンデータの3種のラベルそれぞれの適合率を以下のように計算します。\n"
   ]
  },
  {
   "cell_type": "code",
   "execution_count": 18,
   "id": "be0017ee",
   "metadata": {},
   "outputs": [
    {
     "name": "stdout",
     "output_type": "stream",
     "text": [
      "Precision for label 0: 1.0\n",
      "Precision for label 1: 0.9333333333333333\n",
      "Precision for label 2: 1.0\n"
     ]
    }
   ],
   "source": [
    "for i in range(3):  # ラベルは0, 1, 2の3種類\n",
    "    # True Positiveの数\n",
    "    TP = np.sum((y_pred == i) & (np.array(y_test) == i))\n",
    "\n",
    "    # False Positiveの数\n",
    "    FP = np.sum((y_pred == i) & (np.array(y_test) != i))\n",
    "\n",
    "    # Precisionの計算\n",
    "    precision = TP / (TP + FP)\n",
    "\n",
    "    print(f\"Precision for label {i}: {precision}\")"
   ]
  },
  {
   "cell_type": "markdown",
   "id": "a1538d73",
   "metadata": {},
   "source": [
    "このラベルごとの適合率を平均した値が、モデルの適合率となります。`precision_score()`関数はデフォルトでラベルごとの適合率を計算しますが、`average`引数を指定することで、ラベルごとの適合率の平均値を求めることができます。\n"
   ]
  },
  {
   "cell_type": "code",
   "execution_count": 19,
   "id": "7fe57d3e",
   "metadata": {},
   "outputs": [
    {
     "name": "stdout",
     "output_type": "stream",
     "text": [
      "Average Precision: 0.9777777777777779\n"
     ]
    }
   ],
   "source": [
    "print(\"Average Precision:\", precision_score(y_test, y_pred, average=\"macro\"))"
   ]
  },
  {
   "cell_type": "markdown",
   "id": "1ba04aac",
   "metadata": {},
   "source": [
    "::: {.callout-note}\n",
    "- 数値変数の標準化、ラベルエンコーディングの代わりにダミー変数化を行ったデータでモデルの学習を行いましょう。\n",
    "\n",
    ":::"
   ]
  }
 ],
 "metadata": {
  "jupytext": {
   "formats": "ipynb,qmd",
   "text_representation": {
    "extension": ".qmd",
    "format_name": "quarto",
    "format_version": "1.0",
    "jupytext_version": "1.14.5"
   }
  },
  "kernelspec": {
   "display_name": "Python 3 (ipykernel)",
   "language": "python",
   "name": "python3"
  },
  "language_info": {
   "codemirror_mode": {
    "name": "ipython",
    "version": 3
   },
   "file_extension": ".py",
   "mimetype": "text/x-python",
   "name": "python",
   "nbconvert_exporter": "python",
   "pygments_lexer": "ipython3",
   "version": "3.10.13"
  }
 },
 "nbformat": 4,
 "nbformat_minor": 5
}
