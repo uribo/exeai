{
  "cells": [
    {
      "cell_type": "raw",
      "metadata": {},
      "source": [
        "---\n",
        "title: 評価指標の計算\n",
        "execute:\n",
        "  echo: true\n",
        "  eval: false\n",
        "---"
      ]
    },
    {
      "cell_type": "markdown",
      "metadata": {},
      "source": [
        "講義中に実施したペンギンデータの分類において、３つの評価指標を計算してください。\n",
        "ここでは、ペンギンの雄の値を「正」、雌の値を「負」として扱います。\n",
        "まずは、予測と真の値の組み合わせから得られる以下の４つの値を記述してください。\n",
        "\n",
        "- True Positive（TP 真の値が正のときに正と予測。正解）\n",
        "- True Negative（TN 真の値が負のときに負と予測。正解）\n",
        "- False Positive（FP 真の値が負のときに正と予測。不正解）\n",
        "- False Negative（FN 真の値が正のときに負と予測。不正解）\n",
        "\n",
        "例えば、以下のような予測と真の値の組みあわせから、評価の結果が決まります。\n",
        "\n",
        "| あなたの予測 | 真の値 | 評価 |\n",
        "|-----------------|---------|-----|\n",
        "| Male | Male | TP |\n",
        "| Female | Female | TN |\n",
        "| Female | Male | FN |\n",
        "| Male | Female | FP |\n",
        "\n",
        "あなたの結果も以下に記入してください。\n",
        "（コードセルを編集し、記入してください）\n",
        "\n",
        "| あなたの予測 | 真の値    | 結果 |\n",
        "|:-------|:------|:------|\n",
        "|        |Male   |       |\n",
        "|        |Female |       |\n",
        "|        |Male   |       |\n",
        "|        |Male   |       |\n",
        "|        |Male   |       |\n",
        "|        |Male   |       |\n",
        "|        |Male   |       |\n",
        "|        |Male   |       |\n",
        "|        |Female |       |\n",
        "|        |Female |       |\n",
        "|        |Female |       |\n",
        "|        |Female |       |\n",
        "|        |Female |       |\n",
        "|        |Female |       |\n",
        "|        |Male   |       |\n",
        "|        |Male   |       |\n",
        "|        |Female |       |\n",
        "|        |Female |       |\n",
        "|        |Female |       |\n",
        "|        |Female |       |\n",
        "|        |Male   |       |\n",
        "|        |Female |       |\n",
        "\n",
        "この結果から混合行列を作成します。下線部にあなたの結果を記入してください。\n",
        "\n",
        "|  | 真の値が正（Positive） | 真の値が負 (Negative) |\n",
        "|:--|:--|:--|\n",
        "| 予測が正 (Positive) | ______ (TPの件数) | ______ (FPの件数) |\n",
        "| 予測が負 (Negative) | ______ (FNの件数) | ______ (TNの件数) |\n",
        "\n",
        "\n",
        "あなたの結果をもとに、以下の３つの評価指標を計算してください。\n"
      ]
    },
    {
      "cell_type": "code",
      "metadata": {
        "deletable": false
      },
      "source": [
        "# 各件数について、あなたの結果を記入してください。\n",
        "# 記入後、コードセルを実行し、計算用に使ってください。\n",
        "TP = \n",
        "TN = \n",
        "FP = \n",
        "FN = "
      ],
      "execution_count": null,
      "outputs": []
    },
    {
      "cell_type": "markdown",
      "metadata": {},
      "source": [
        "## 1. 正解率 (accuracy)\n",
        "\n",
        "真の値に対して予測が一致した割合（TP+TNの割合）を正解率とします。以下の式で計算されます。\n",
        "\n",
        "$$\n",
        "\\text{accuracy} = \\frac{TP + TN}{TP + TN + FP + FN}\n",
        "$$  "
      ]
    },
    {
      "cell_type": "code",
      "metadata": {
        "deletable": false
      },
      "source": [
        "# 22はテストデータの件数\n",
        "\n",
        "(TP + TN) / 22"
      ],
      "execution_count": null,
      "outputs": []
    },
    {
      "cell_type": "markdown",
      "metadata": {},
      "source": [
        "## 適合率(precision)\n",
        "\n",
        "正と予測したデータのうち、実際に正であるものの割合は適合率と呼ばれます。以下の式で計算できます。\n",
        "\n",
        "$$\n",
        "\\text{precision} = \\frac{TP}{TP + FP}\n",
        "$$\n"
      ]
    },
    {
      "cell_type": "code",
      "metadata": {
        "deletable": false
      },
      "source": [
        "# 正解率の求め方を参考に、計算式を作成して値を求めてください。"
      ],
      "execution_count": null,
      "outputs": []
    },
    {
      "cell_type": "markdown",
      "metadata": {},
      "source": [
        "# 再現率(recall)\n",
        "\n",
        "実際に正であるもののうち、正であると予測されたものの割合を再現率と呼びます。以下の式で計算できます。\n",
        "\n",
        "$$\n",
        "\\text{recall} = \\frac{TP}{TP + FN}\n",
        "$$"
      ]
    },
    {
      "cell_type": "code",
      "metadata": {
        "deletable": false
      },
      "source": [
        "# 正解率の求め方を参考に、計算式を作成して値を求めてください。"
      ],
      "execution_count": null,
      "outputs": []
    }
  ],
  "metadata": {
    "kernelspec": {
      "display_name": "Python 3",
      "language": "python",
      "name": "python3"
    }
  },
  "nbformat": 4,
  "nbformat_minor": 4
}