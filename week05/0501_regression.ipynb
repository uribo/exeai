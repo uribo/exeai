{
 "cells": [
  {
   "cell_type": "raw",
   "id": "6313b19d",
   "metadata": {},
   "source": [
    "---\n",
    "title: 線形回帰モデルによるペンギンの体重の予測\n",
    "execute:\n",
    "  keep-ipynb: true\n",
    "  warning: false\n",
    "---"
   ]
  },
  {
   "cell_type": "code",
   "execution_count": 1,
   "id": "b9b7c598",
   "metadata": {},
   "outputs": [],
   "source": [
    "#| eval: true\n",
    "#| echo: false\n",
    "from IPython.display import Markdown, display"
   ]
  },
  {
   "cell_type": "markdown",
   "id": "e146e225",
   "metadata": {},
   "source": [
    "教師あり学習の例として回帰問題を取り上げます。回帰問題とは、入力変数から連続値の出力変数を予測する問題です。例えば、住宅の広さや築年数などの情報から住宅の価格を予測する問題は回帰問題として扱われます。\n",
    "\n",
    "ここでは、回帰問題の代表的なモデルである線形回帰モデルについて説明します。線形回帰モデルは、入力変数と目的変数の間の線形関係をモデル化する統計的手法です。\n",
    "\n",
    "線形回帰モデルなどの機械学習モデルの構築に必要なライブラリはScikit-learnに含まれています。ここではScikit-learnのいくつかの機能を利用して、ペンギンの体重を予測する線形回帰モデルを構築します。\n",
    "\n",
    "利用するライブラリとデータを次のコードで読み込みます。\n"
   ]
  },
  {
   "cell_type": "code",
   "execution_count": 2,
   "id": "6625d76f",
   "metadata": {},
   "outputs": [],
   "source": [
    "#| echo: fenced\n",
    "# japanize_matplotlibのインストール\n",
    "!pip install -qq japanize_matplotlib"
   ]
  },
  {
   "cell_type": "code",
   "execution_count": 3,
   "id": "cca9a064",
   "metadata": {},
   "outputs": [],
   "source": [
    "import japanize_matplotlib  # matplotlibの日本語化\n",
    "import matplotlib.pyplot as plt  # 作図\n",
    "import numpy as np  # 数値計算、配列の操作\n",
    "import pandas as pd  # データフレームの操作"
   ]
  },
  {
   "cell_type": "code",
   "execution_count": 4,
   "id": "60d00cfa",
   "metadata": {},
   "outputs": [],
   "source": [
    "# 以下は機械学習モデル（線形回帰モデル）の構築と性能評価に用いるモジュール\n",
    "from sklearn.linear_model import LinearRegression\n",
    "from sklearn.metrics import mean_squared_error, r2_score\n",
    "from sklearn.model_selection import train_test_split\n",
    "from sklearn.preprocessing import MinMaxScaler, StandardScaler"
   ]
  },
  {
   "cell_type": "markdown",
   "id": "98dd576f",
   "metadata": {},
   "source": [
    "ペンギンデータはseabornライブラリに含まれます。データを利用するには、まずはこのライブラリを読み込みます。\n"
   ]
  },
  {
   "cell_type": "code",
   "execution_count": 5,
   "id": "load-penguins",
   "metadata": {},
   "outputs": [],
   "source": [
    "#| label: load-penguins\n",
    "import seaborn as sns\n",
    "# ペンギンデータの読み込み\n",
    "penguins = sns.load_dataset(\"penguins\")"
   ]
  },
  {
   "cell_type": "markdown",
   "id": "230cf775",
   "metadata": {},
   "source": [
    "先頭行を表示します。\n"
   ]
  },
  {
   "cell_type": "code",
   "execution_count": 6,
   "id": "914f2502",
   "metadata": {},
   "outputs": [
    {
     "data": {
      "text/html": [
       "<div>\n",
       "<style scoped>\n",
       "    .dataframe tbody tr th:only-of-type {\n",
       "        vertical-align: middle;\n",
       "    }\n",
       "\n",
       "    .dataframe tbody tr th {\n",
       "        vertical-align: top;\n",
       "    }\n",
       "\n",
       "    .dataframe thead th {\n",
       "        text-align: right;\n",
       "    }\n",
       "</style>\n",
       "<table border=\"1\" class=\"dataframe\">\n",
       "  <thead>\n",
       "    <tr style=\"text-align: right;\">\n",
       "      <th></th>\n",
       "      <th>species</th>\n",
       "      <th>island</th>\n",
       "      <th>bill_length_mm</th>\n",
       "      <th>bill_depth_mm</th>\n",
       "      <th>flipper_length_mm</th>\n",
       "      <th>body_mass_g</th>\n",
       "      <th>sex</th>\n",
       "    </tr>\n",
       "  </thead>\n",
       "  <tbody>\n",
       "    <tr>\n",
       "      <th>0</th>\n",
       "      <td>Adelie</td>\n",
       "      <td>Torgersen</td>\n",
       "      <td>39.1</td>\n",
       "      <td>18.7</td>\n",
       "      <td>181.0</td>\n",
       "      <td>3750.0</td>\n",
       "      <td>Male</td>\n",
       "    </tr>\n",
       "    <tr>\n",
       "      <th>1</th>\n",
       "      <td>Adelie</td>\n",
       "      <td>Torgersen</td>\n",
       "      <td>39.5</td>\n",
       "      <td>17.4</td>\n",
       "      <td>186.0</td>\n",
       "      <td>3800.0</td>\n",
       "      <td>Female</td>\n",
       "    </tr>\n",
       "    <tr>\n",
       "      <th>2</th>\n",
       "      <td>Adelie</td>\n",
       "      <td>Torgersen</td>\n",
       "      <td>40.3</td>\n",
       "      <td>18.0</td>\n",
       "      <td>195.0</td>\n",
       "      <td>3250.0</td>\n",
       "      <td>Female</td>\n",
       "    </tr>\n",
       "    <tr>\n",
       "      <th>3</th>\n",
       "      <td>Adelie</td>\n",
       "      <td>Torgersen</td>\n",
       "      <td>NaN</td>\n",
       "      <td>NaN</td>\n",
       "      <td>NaN</td>\n",
       "      <td>NaN</td>\n",
       "      <td>NaN</td>\n",
       "    </tr>\n",
       "    <tr>\n",
       "      <th>4</th>\n",
       "      <td>Adelie</td>\n",
       "      <td>Torgersen</td>\n",
       "      <td>36.7</td>\n",
       "      <td>19.3</td>\n",
       "      <td>193.0</td>\n",
       "      <td>3450.0</td>\n",
       "      <td>Female</td>\n",
       "    </tr>\n",
       "  </tbody>\n",
       "</table>\n",
       "</div>"
      ],
      "text/plain": [
       "  species     island  bill_length_mm  bill_depth_mm  flipper_length_mm  \\\n",
       "0  Adelie  Torgersen            39.1           18.7              181.0   \n",
       "1  Adelie  Torgersen            39.5           17.4              186.0   \n",
       "2  Adelie  Torgersen            40.3           18.0              195.0   \n",
       "3  Adelie  Torgersen             NaN            NaN                NaN   \n",
       "4  Adelie  Torgersen            36.7           19.3              193.0   \n",
       "\n",
       "   body_mass_g     sex  \n",
       "0       3750.0    Male  \n",
       "1       3800.0  Female  \n",
       "2       3250.0  Female  \n",
       "3          NaN     NaN  \n",
       "4       3450.0  Female  "
      ]
     },
     "execution_count": 6,
     "metadata": {},
     "output_type": "execute_result"
    }
   ],
   "source": [
    "# データの確認\n",
    "penguins.head()"
   ]
  },
  {
   "cell_type": "code",
   "execution_count": 7,
   "id": "bd2b5066",
   "metadata": {},
   "outputs": [
    {
     "data": {
      "text/plain": [
       "species               0\n",
       "island                0\n",
       "bill_length_mm        2\n",
       "bill_depth_mm         2\n",
       "flipper_length_mm     2\n",
       "body_mass_g           2\n",
       "sex                  11\n",
       "dtype: int64"
      ]
     },
     "execution_count": 7,
     "metadata": {},
     "output_type": "execute_result"
    }
   ],
   "source": [
    "# 列（変数）ごとの欠損値の数\n",
    "penguins.isnull().sum()"
   ]
  },
  {
   "cell_type": "markdown",
   "id": "6eca0d64",
   "metadata": {},
   "source": [
    "## 前処理・特徴量エンジニアリング\n",
    "\n",
    "一般的に欠損値を含むデータは、機械学習モデルに直接利用できません。そのため、欠損値の削除や欠損値の補完を行う必要があります。単純に欠損値を削除する方法がもっとも簡単な対策ですが、欠損値を削除すると、データの一部を失うことになるため、欠損値を含む行が多い場合やデータが少ない場合は注意が必要です。\n",
    "\n",
    "### 欠損値の削除\n",
    "\n",
    "ここでは欠損値の削除で、モデルに与えるデータを用意します。欠損値の削除は、pandasの`dropna()`メソッドを用いて行います。\n"
   ]
  },
  {
   "cell_type": "code",
   "execution_count": 8,
   "id": "b5387b3e",
   "metadata": {},
   "outputs": [
    {
     "data": {
      "text/plain": [
       "(333, 7)"
      ]
     },
     "execution_count": 8,
     "metadata": {},
     "output_type": "execute_result"
    }
   ],
   "source": [
    "# 前処理: 欠損値の削除\n",
    "penguins.dropna(inplace=True)\n",
    "# データの確認。欠損値の削除によっていくつかの行が削除される\n",
    "penguins.shape"
   ]
  },
  {
   "cell_type": "markdown",
   "id": "3a300020",
   "metadata": {},
   "source": [
    "### ラベルエンコーディングと標準化\n",
    "\n",
    "次にペンギンデータの変数に対する操作、特徴量エンジニアリングを行います。ここではラベルエンコーディングと標準化を行うことにしましょう。どちらの操作も、特徴量エンジニアリングの工程では変数の変換に分類されます。\n",
    "\n",
    "ラベルエンコーディングは、カテゴリ変数を数値に変換する操作です。[ロジスティック回帰モデル](../week04/0402_classification.qmd)を扱った際にも適用しました。\n"
   ]
  },
  {
   "cell_type": "code",
   "execution_count": 9,
   "id": "095d49c7",
   "metadata": {},
   "outputs": [],
   "source": [
    "# 特徴量エンジニアリング: ラベルエンコーディングとスケーリング\n",
    "from sklearn.preprocessing import LabelEncoder\n",
    "\n",
    "le = LabelEncoder()\n",
    "penguins[\"species\"] = le.fit_transform(penguins[\"species\"])\n",
    "penguins[\"island\"] = le.fit_transform(penguins[\"island\"])\n",
    "penguins[\"sex\"] = le.fit_transform(penguins[\"sex\"])"
   ]
  },
  {
   "cell_type": "markdown",
   "id": "e80fd629",
   "metadata": {},
   "source": [
    "標準化（スケーリング）は、変数の値を平均値0、標準偏差1に変換する操作です。標準化を行うことで、変数間のスケール（単位）を揃えることができます。例えば、ペンギンデータの体の部位は`mm`で記録されますが、くちばしの長さ`bill_length_mm`はくちばしの太さ`bill_depth_mm`よりも大きい値を取ります。また、体重は`g`で記録されます。このように単位が異なる変数をそのまま利用すると、値が大きな変数の影響が大きくなってしまいます。このような問題を解決するために、標準化を行います。\n"
   ]
  },
  {
   "cell_type": "code",
   "execution_count": 10,
   "id": "1538de6f",
   "metadata": {},
   "outputs": [
    {
     "name": "stdout",
     "output_type": "stream",
     "text": [
      "43.99279279279279\n",
      "5.468668342647559\n"
     ]
    }
   ],
   "source": [
    "# ペンギンデータのbill_length_mmについて平均値と標準偏差を求める\n",
    "print(penguins[\"bill_length_mm\"].mean())\n",
    "print(penguins[\"bill_length_mm\"].std())"
   ]
  },
  {
   "cell_type": "code",
   "execution_count": 11,
   "id": "1951cf49",
   "metadata": {},
   "outputs": [
    {
     "name": "stdout",
     "output_type": "stream",
     "text": [
      "17.164864864864864\n",
      "1.9692354633199007\n"
     ]
    }
   ],
   "source": [
    "# bill_depth_mmについても平均値と標準偏差を求める\n",
    "print(penguins[\"bill_depth_mm\"].mean())\n",
    "print(penguins[\"bill_depth_mm\"].std())"
   ]
  },
  {
   "cell_type": "code",
   "execution_count": 12,
   "id": "bill_length_mmbill_depth_mm",
   "metadata": {},
   "outputs": [
    {
     "name": "stderr",
     "output_type": "stream",
     "text": [
      "/Users/suryu/Documents/course/exeai/.venv/lib/python3.10/site-packages/seaborn/_oldcore.py:1498: FutureWarning:\n",
      "\n",
      "is_categorical_dtype is deprecated and will be removed in a future version. Use isinstance(dtype, CategoricalDtype) instead\n",
      "\n",
      "/Users/suryu/Documents/course/exeai/.venv/lib/python3.10/site-packages/seaborn/_oldcore.py:1119: FutureWarning:\n",
      "\n",
      "use_inf_as_na option is deprecated and will be removed in a future version. Convert inf values to NaN before operating instead.\n",
      "\n",
      "/Users/suryu/Documents/course/exeai/.venv/lib/python3.10/site-packages/seaborn/_oldcore.py:1498: FutureWarning:\n",
      "\n",
      "is_categorical_dtype is deprecated and will be removed in a future version. Use isinstance(dtype, CategoricalDtype) instead\n",
      "\n",
      "/Users/suryu/Documents/course/exeai/.venv/lib/python3.10/site-packages/seaborn/_oldcore.py:1119: FutureWarning:\n",
      "\n",
      "use_inf_as_na option is deprecated and will be removed in a future version. Convert inf values to NaN before operating instead.\n",
      "\n"
     ]
    },
    {
     "data": {
      "image/png": "[encoded data removed]",
      "text/plain": [
       "<Figure size 652.8x288 with 2 Axes>"
      ]
     },
     "metadata": {
      "image/png": {
       "height": 280,
       "width": 569
      }
     },
     "output_type": "display_data"
    }
   ],
   "source": [
    "#| label: ペンギンデータのbill_length_mmとbill_depth_mmのヒストグラムを作成\n",
    "fig, ax = plt.subplots(1, 2, figsize=(6.8, 3))\n",
    "sns.histplot(penguins, x=\"bill_length_mm\", ax=ax[0], color=\"#284b67\")\n",
    "sns.histplot(penguins, x=\"bill_depth_mm\", ax=ax[1], color=\"#1a2127\")\n",
    "plt.show()"
   ]
  },
  {
   "cell_type": "markdown",
   "id": "04306384",
   "metadata": {},
   "source": [
    "scikit-learnでの標準化は、`StandardScaler`クラスを利用します。`StandardScaler`は、平均値と標準偏差を計算し、それらの値を利用して変数の値を変換します。標準化を行うことで、変数の値が平均値を中心に分布するようになります。\n"
   ]
  },
  {
   "cell_type": "code",
   "execution_count": 13,
   "id": "cbbcdae5",
   "metadata": {},
   "outputs": [],
   "source": [
    "# データの標準化\n",
    "# StandardScalerのインスタンスを用意\n",
    "scaler = StandardScaler()\n",
    "# ペンギンデータのbody_mass_g以外の数値変数をfit_transformメソッドにより標準化\n",
    "penguins[\n",
    "    [\"bill_length_mm\", \"bill_depth_mm\", \"flipper_length_mm\"]\n",
    "] = scaler.fit_transform(\n",
    "    penguins[[\"bill_length_mm\", \"bill_depth_mm\", \"flipper_length_mm\"]]\n",
    ")"
   ]
  },
  {
   "cell_type": "markdown",
   "id": "5c3283d9",
   "metadata": {},
   "source": [
    "ラベルエンコーディング、標準化を適用したデータを確認しましょう。\n"
   ]
  },
  {
   "cell_type": "code",
   "execution_count": 14,
   "id": "abf15840",
   "metadata": {},
   "outputs": [
    {
     "data": {
      "text/html": [
       "<div>\n",
       "<style scoped>\n",
       "    .dataframe tbody tr th:only-of-type {\n",
       "        vertical-align: middle;\n",
       "    }\n",
       "\n",
       "    .dataframe tbody tr th {\n",
       "        vertical-align: top;\n",
       "    }\n",
       "\n",
       "    .dataframe thead th {\n",
       "        text-align: right;\n",
       "    }\n",
       "</style>\n",
       "<table border=\"1\" class=\"dataframe\">\n",
       "  <thead>\n",
       "    <tr style=\"text-align: right;\">\n",
       "      <th></th>\n",
       "      <th>species</th>\n",
       "      <th>island</th>\n",
       "      <th>bill_length_mm</th>\n",
       "      <th>bill_depth_mm</th>\n",
       "      <th>flipper_length_mm</th>\n",
       "      <th>body_mass_g</th>\n",
       "      <th>sex</th>\n",
       "    </tr>\n",
       "  </thead>\n",
       "  <tbody>\n",
       "    <tr>\n",
       "      <th>0</th>\n",
       "      <td>0</td>\n",
       "      <td>2</td>\n",
       "      <td>-0.896042</td>\n",
       "      <td>0.780732</td>\n",
       "      <td>-1.426752</td>\n",
       "      <td>3750.0</td>\n",
       "      <td>1</td>\n",
       "    </tr>\n",
       "    <tr>\n",
       "      <th>1</th>\n",
       "      <td>0</td>\n",
       "      <td>2</td>\n",
       "      <td>-0.822788</td>\n",
       "      <td>0.119584</td>\n",
       "      <td>-1.069474</td>\n",
       "      <td>3800.0</td>\n",
       "      <td>0</td>\n",
       "    </tr>\n",
       "    <tr>\n",
       "      <th>2</th>\n",
       "      <td>0</td>\n",
       "      <td>2</td>\n",
       "      <td>-0.676280</td>\n",
       "      <td>0.424729</td>\n",
       "      <td>-0.426373</td>\n",
       "      <td>3250.0</td>\n",
       "      <td>0</td>\n",
       "    </tr>\n",
       "  </tbody>\n",
       "</table>\n",
       "</div>"
      ],
      "text/plain": [
       "   species  island  bill_length_mm  bill_depth_mm  flipper_length_mm  \\\n",
       "0        0       2       -0.896042       0.780732          -1.426752   \n",
       "1        0       2       -0.822788       0.119584          -1.069474   \n",
       "2        0       2       -0.676280       0.424729          -0.426373   \n",
       "\n",
       "   body_mass_g  sex  \n",
       "0       3750.0    1  \n",
       "1       3800.0    0  \n",
       "2       3250.0    0  "
      ]
     },
     "execution_count": 14,
     "metadata": {},
     "output_type": "execute_result"
    }
   ],
   "source": [
    "penguins.head(n=3)"
   ]
  },
  {
   "cell_type": "markdown",
   "id": "ab6e99e0",
   "metadata": {},
   "source": [
    "平均値0、標準偏差1に変換されていることが確認できます。\n"
   ]
  },
  {
   "cell_type": "code",
   "execution_count": 15,
   "id": "d26951ed",
   "metadata": {},
   "outputs": [
    {
     "name": "stdout",
     "output_type": "stream",
     "text": [
      "3.8407715446491904e-16\n",
      "1.0015048917468008\n"
     ]
    }
   ],
   "source": [
    "# ペンギンデータのbill_length_mmについて平均値と標準偏差を求める\n",
    "print(penguins[\"bill_length_mm\"].mean())\n",
    "print(penguins[\"bill_length_mm\"].std())"
   ]
  },
  {
   "cell_type": "code",
   "execution_count": 16,
   "id": "51dca338",
   "metadata": {},
   "outputs": [
    {
     "name": "stdout",
     "output_type": "stream",
     "text": [
      "6.40128590774865e-16\n",
      "1.0015048917468008\n"
     ]
    }
   ],
   "source": [
    "# bill_depth_mmについても平均値と標準偏差を求める\n",
    "print(penguins[\"bill_depth_mm\"].mean())\n",
    "print(penguins[\"bill_depth_mm\"].std())"
   ]
  },
  {
   "cell_type": "markdown",
   "id": "fbf1adbf",
   "metadata": {},
   "source": [
    "標準化は変数の値を操作しますが、変数の分布は変化しません。そのため、標準化を行う前後でヒストグラムを比較すると、分布の形に違いがないことがわかります。\n"
   ]
  },
  {
   "cell_type": "code",
   "execution_count": 17,
   "id": "70a8d562",
   "metadata": {},
   "outputs": [
    {
     "name": "stderr",
     "output_type": "stream",
     "text": [
      "/Users/suryu/Documents/course/exeai/.venv/lib/python3.10/site-packages/seaborn/_oldcore.py:1498: FutureWarning:\n",
      "\n",
      "is_categorical_dtype is deprecated and will be removed in a future version. Use isinstance(dtype, CategoricalDtype) instead\n",
      "\n",
      "/Users/suryu/Documents/course/exeai/.venv/lib/python3.10/site-packages/seaborn/_oldcore.py:1119: FutureWarning:\n",
      "\n",
      "use_inf_as_na option is deprecated and will be removed in a future version. Convert inf values to NaN before operating instead.\n",
      "\n",
      "/Users/suryu/Documents/course/exeai/.venv/lib/python3.10/site-packages/seaborn/_oldcore.py:1498: FutureWarning:\n",
      "\n",
      "is_categorical_dtype is deprecated and will be removed in a future version. Use isinstance(dtype, CategoricalDtype) instead\n",
      "\n",
      "/Users/suryu/Documents/course/exeai/.venv/lib/python3.10/site-packages/seaborn/_oldcore.py:1119: FutureWarning:\n",
      "\n",
      "use_inf_as_na option is deprecated and will be removed in a future version. Convert inf values to NaN before operating instead.\n",
      "\n"
     ]
    },
    {
     "data": {
      "image/png": "[encoded data removed]",
      "text/plain": [
       "<Figure size 652.8x288 with 2 Axes>"
      ]
     },
     "metadata": {
      "image/png": {
       "height": 280,
       "width": 569
      }
     },
     "output_type": "display_data"
    }
   ],
   "source": [
    "#| label: ペンギンデータのbill_length_mmとbill_depth_mmを標準化したヒストグラム\n",
    "#| code-fold: true\n",
    "fig, ax = plt.subplots(1, 2, figsize=(6.8, 3))\n",
    "sns.histplot(penguins, x=\"bill_length_mm\", ax=ax[0], color=\"#284b67\")\n",
    "sns.histplot(penguins, x=\"bill_depth_mm\", ax=ax[1], color=\"#1a2127\")\n",
    "plt.show()"
   ]
  },
  {
   "cell_type": "markdown",
   "id": "d322d0e0",
   "metadata": {},
   "source": [
    "ここでは特徴量エンジニアリングの例として、ラベルエンコーディングと標準化を紹介しました。いずれも元の変数の値を別の値に置き換える操作となります。一方、特徴量エンジニアリングには既存のデータには存在しない、新しい変数を作成する工程も含まれます。例えば、身長と体重の変数を利用し、BMIを計算するなどがあります。またダミー変数化も既存の変数の情報をもとに変数を作成します。\n",
    "\n",
    "## 関数化による工程の整理\n",
    "\n",
    "ここまでのデータの前処理・特徴量エンジニアリングの操作を整理してみましょう。具体的には一連のコードを関数として定義します。関数を作成することで、同じ処理を何度も繰り返す必要がなくなる利点があります。また、処理の流れの整理にも役立ちます。\n",
    "\n",
    "関数の定義は、以下のように`def`構文を利用します。`def`のあとに関数名を指定します。関数名は、任意の名前を付けることができますが、関数の処理内容がわかりやすい名前を付けるようにしましょう。ここではペンギンデータの前処理までを実行する関数として`penguins_preprocess()`という名前を付けます。\n"
   ]
  },
  {
   "cell_type": "code",
   "execution_count": 18,
   "id": "5e6dd153",
   "metadata": {},
   "outputs": [],
   "source": [
    "# 関数定義の例\n",
    "def penguins_preprocess(data):\n",
    "    # 処理内容の記述\n",
    "    return data"
   ]
  },
  {
   "cell_type": "markdown",
   "id": "a28f713e",
   "metadata": {},
   "source": [
    "関数名の後には、括弧の中で引数を指定します。引数は、関数の実行に必要な情報を渡すためのものです。ここでは入力データを指定するために`data`という引数を指定しています。関数の処理内容は、コロンのあとにインデントを利用して記述します。関数の処理が終わったら、`return`構文を利用して関数が返却する値（戻り値）を指定します。\n",
    "\n",
    "具体的なペンギンデータへの前処理・特徴量エンジニアリングの操作を関数化したものが以下になります。\n"
   ]
  },
  {
   "cell_type": "code",
   "execution_count": 19,
   "id": "4d69f26b",
   "metadata": {},
   "outputs": [],
   "source": [
    "def penguins_preprocess(data):\n",
    "    from sklearn.preprocessing import LabelEncoder, StandardScaler\n",
    "    \n",
    "    # 元のデータを保持するためデータをコピー\n",
    "    data_processed = data.copy()\n",
    "\n",
    "    # 前処理: 欠損値の削除\n",
    "    data_processed.dropna(inplace=True)\n",
    "\n",
    "    # 特徴量エンジニアリング: ラベルエンコーディング\n",
    "    le = LabelEncoder()\n",
    "    for col in [\"species\", \"island\", \"sex\"]:\n",
    "        data_processed[col] = le.fit_transform(data_processed[col])\n",
    "\n",
    "    # 特徴量エンジニアリング: データの標準化\n",
    "    scaler = StandardScaler()\n",
    "    data_processed[\n",
    "        [\"bill_length_mm\", \"bill_depth_mm\", \"flipper_length_mm\"]\n",
    "    ] = scaler.fit_transform(\n",
    "        data_processed[[\"bill_length_mm\", \"bill_depth_mm\", \"flipper_length_mm\"]]\n",
    "    )\n",
    "\n",
    "    return data_processed"
   ]
  },
  {
   "cell_type": "markdown",
   "id": "e211e1c3",
   "metadata": {},
   "source": [
    "定義した関数は`penguins_preprocess()`として機能します。もう一度、ペンギンデータを読み込み、`penguins_preprocess()`関数による前処理・特徴量エンジニアリングを実行してみましょう。\n"
   ]
  },
  {
   "cell_type": "code",
   "execution_count": 20,
   "id": "14e244fa",
   "metadata": {},
   "outputs": [],
   "source": [
    "# ペンギンデータの読み込み\n",
    "penguins = sns.load_dataset(\"penguins\")\n",
    "\n",
    "# 前処理と特徴量エンジニアリングの実行\n",
    "penguins_baked = penguins_preprocess(penguins)"
   ]
  },
  {
   "cell_type": "markdown",
   "id": "ac7ee097",
   "metadata": {},
   "source": [
    "結果を確認します。関数で定義したラベルエンコーディング、標準化の処理が実行されていることがわかります。関数を利用することで複数の処理を一度に実行できるようになりました。\n"
   ]
  },
  {
   "cell_type": "code",
   "execution_count": 21,
   "id": "82ddd398",
   "metadata": {},
   "outputs": [
    {
     "data": {
      "text/html": [
       "<div>\n",
       "<style scoped>\n",
       "    .dataframe tbody tr th:only-of-type {\n",
       "        vertical-align: middle;\n",
       "    }\n",
       "\n",
       "    .dataframe tbody tr th {\n",
       "        vertical-align: top;\n",
       "    }\n",
       "\n",
       "    .dataframe thead th {\n",
       "        text-align: right;\n",
       "    }\n",
       "</style>\n",
       "<table border=\"1\" class=\"dataframe\">\n",
       "  <thead>\n",
       "    <tr style=\"text-align: right;\">\n",
       "      <th></th>\n",
       "      <th>species</th>\n",
       "      <th>island</th>\n",
       "      <th>bill_length_mm</th>\n",
       "      <th>bill_depth_mm</th>\n",
       "      <th>flipper_length_mm</th>\n",
       "      <th>body_mass_g</th>\n",
       "      <th>sex</th>\n",
       "    </tr>\n",
       "  </thead>\n",
       "  <tbody>\n",
       "    <tr>\n",
       "      <th>0</th>\n",
       "      <td>0</td>\n",
       "      <td>2</td>\n",
       "      <td>-0.896042</td>\n",
       "      <td>0.780732</td>\n",
       "      <td>-1.426752</td>\n",
       "      <td>3750.0</td>\n",
       "      <td>1</td>\n",
       "    </tr>\n",
       "    <tr>\n",
       "      <th>1</th>\n",
       "      <td>0</td>\n",
       "      <td>2</td>\n",
       "      <td>-0.822788</td>\n",
       "      <td>0.119584</td>\n",
       "      <td>-1.069474</td>\n",
       "      <td>3800.0</td>\n",
       "      <td>0</td>\n",
       "    </tr>\n",
       "    <tr>\n",
       "      <th>2</th>\n",
       "      <td>0</td>\n",
       "      <td>2</td>\n",
       "      <td>-0.676280</td>\n",
       "      <td>0.424729</td>\n",
       "      <td>-0.426373</td>\n",
       "      <td>3250.0</td>\n",
       "      <td>0</td>\n",
       "    </tr>\n",
       "  </tbody>\n",
       "</table>\n",
       "</div>"
      ],
      "text/plain": [
       "   species  island  bill_length_mm  bill_depth_mm  flipper_length_mm  \\\n",
       "0        0       2       -0.896042       0.780732          -1.426752   \n",
       "1        0       2       -0.822788       0.119584          -1.069474   \n",
       "2        0       2       -0.676280       0.424729          -0.426373   \n",
       "\n",
       "   body_mass_g  sex  \n",
       "0       3750.0    1  \n",
       "1       3800.0    0  \n",
       "2       3250.0    0  "
      ]
     },
     "execution_count": 21,
     "metadata": {},
     "output_type": "execute_result"
    }
   ],
   "source": [
    "penguins_baked.head(n=3)"
   ]
  },
  {
   "cell_type": "markdown",
   "id": "790196a2",
   "metadata": {},
   "source": [
    "## データの分割\n",
    "\n",
    "モデルの学習の前に、予測の対象となる変数（目的変数）とそれ以外の変数（説明変数）に分割します。今回、目的変数は`body_mass_g`、説明変数は`body_mass_g`以外の変数となります。\n"
   ]
  },
  {
   "cell_type": "code",
   "execution_count": 22,
   "id": "0949043e",
   "metadata": {},
   "outputs": [],
   "source": [
    "# 説明変数と目的変数の設定\n",
    "# Xとしてbody_mass_g以外の変数を、yとしてbody_mass_gを設定\n",
    "X = penguins_baked.drop(columns=\"body_mass_g\")\n",
    "y = penguins_baked[\"body_mass_g\"]"
   ]
  },
  {
   "cell_type": "markdown",
   "id": "114014b8",
   "metadata": {},
   "source": [
    "以上でデータの準備は完了です。次に、データをモデルの学習に用いる訓練データと、評価に利用するテストデータに分割します。今回は、訓練・テストデータに含まれる`species`の割合が均等となるように分割します。このようなグループ間の割合を一定にする分割方法を層化抽出と呼びます。\n",
    "\n",
    "scikit-learnの`train_test_split()`関数を使用してデータ分割をします。引数により、テスト用データを20%（学習用データを80%）、`species`変数による層化抽出を行うように指定します。\n",
    "\n",
    "![ホールドアウト法](../img/hold-out.png)\n"
   ]
  },
  {
   "cell_type": "code",
   "execution_count": 23,
   "id": "cea681ef",
   "metadata": {},
   "outputs": [],
   "source": [
    "# データ分割\n",
    "# test_size=0.2でテストデータの割合を20%に指定\n",
    "# random_stateは乱数のシードを指定。これにより、実行するたびに同じデータ分割を行うことができる\n",
    "# stratifyで層化抽出を行う。今回はspeciesを指定\n",
    "X_train, X_test, y_train, y_test = train_test_split(\n",
    "    X, y, test_size=0.2, random_state=20230515, stratify=X[\"species\"]\n",
    ")"
   ]
  },
  {
   "cell_type": "code",
   "execution_count": 24,
   "id": "ab479bbf",
   "metadata": {},
   "outputs": [
    {
     "data": {
      "text/plain": [
       "species\n",
       "0    146\n",
       "1     68\n",
       "2    119\n",
       "dtype: int64"
      ]
     },
     "execution_count": 24,
     "metadata": {},
     "output_type": "execute_result"
    }
   ],
   "source": [
    "penguins_baked.groupby(\"species\").size()"
   ]
  },
  {
   "cell_type": "code",
   "execution_count": 25,
   "id": "4a5caf07",
   "metadata": {},
   "outputs": [
    {
     "data": {
      "text/plain": [
       "species\n",
       "0    117\n",
       "1     54\n",
       "2     95\n",
       "dtype: int64"
      ]
     },
     "execution_count": 25,
     "metadata": {},
     "output_type": "execute_result"
    }
   ],
   "source": [
    "X_train.groupby(\"species\").size()"
   ]
  },
  {
   "cell_type": "code",
   "execution_count": 26,
   "id": "f979c5a3",
   "metadata": {},
   "outputs": [
    {
     "data": {
      "text/plain": [
       "species\n",
       "0    29\n",
       "1    14\n",
       "2    24\n",
       "dtype: int64"
      ]
     },
     "execution_count": 26,
     "metadata": {},
     "output_type": "execute_result"
    }
   ],
   "source": [
    "X_test.groupby(\"species\").size()"
   ]
  },
  {
   "cell_type": "markdown",
   "id": "b81afeae",
   "metadata": {},
   "source": [
    "## モデルの学習と予測\n",
    "\n",
    "Scikit-learnでの線形回帰モデルの構築は`sklearn.linear_model`モジュールの`LinearRegression`クラスで行います。\n"
   ]
  },
  {
   "cell_type": "code",
   "execution_count": 27,
   "id": "9eaed7db",
   "metadata": {},
   "outputs": [
    {
     "data": {
      "text/html": [
       "<style>#sk-container-id-1 {color: black;}#sk-container-id-1 pre{padding: 0;}#sk-container-id-1 div.sk-toggleable {background-color: white;}#sk-container-id-1 label.sk-toggleable__label {cursor: pointer;display: block;width: 100%;margin-bottom: 0;padding: 0.3em;box-sizing: border-box;text-align: center;}#sk-container-id-1 label.sk-toggleable__label-arrow:before {content: \"▸\";float: left;margin-right: 0.25em;color: #696969;}#sk-container-id-1 label.sk-toggleable__label-arrow:hover:before {color: black;}#sk-container-id-1 div.sk-estimator:hover label.sk-toggleable__label-arrow:before {color: black;}#sk-container-id-1 div.sk-toggleable__content {max-height: 0;max-width: 0;overflow: hidden;text-align: left;background-color: #f0f8ff;}#sk-container-id-1 div.sk-toggleable__content pre {margin: 0.2em;color: black;border-radius: 0.25em;background-color: #f0f8ff;}#sk-container-id-1 input.sk-toggleable__control:checked~div.sk-toggleable__content {max-height: 200px;max-width: 100%;overflow: auto;}#sk-container-id-1 input.sk-toggleable__control:checked~label.sk-toggleable__label-arrow:before {content: \"▾\";}#sk-container-id-1 div.sk-estimator input.sk-toggleable__control:checked~label.sk-toggleable__label {background-color: #d4ebff;}#sk-container-id-1 div.sk-label input.sk-toggleable__control:checked~label.sk-toggleable__label {background-color: #d4ebff;}#sk-container-id-1 input.sk-hidden--visually {border: 0;clip: rect(1px 1px 1px 1px);clip: rect(1px, 1px, 1px, 1px);height: 1px;margin: -1px;overflow: hidden;padding: 0;position: absolute;width: 1px;}#sk-container-id-1 div.sk-estimator {font-family: monospace;background-color: #f0f8ff;border: 1px dotted black;border-radius: 0.25em;box-sizing: border-box;margin-bottom: 0.5em;}#sk-container-id-1 div.sk-estimator:hover {background-color: #d4ebff;}#sk-container-id-1 div.sk-parallel-item::after {content: \"\";width: 100%;border-bottom: 1px solid gray;flex-grow: 1;}#sk-container-id-1 div.sk-label:hover label.sk-toggleable__label {background-color: #d4ebff;}#sk-container-id-1 div.sk-serial::before {content: \"\";position: absolute;border-left: 1px solid gray;box-sizing: border-box;top: 0;bottom: 0;left: 50%;z-index: 0;}#sk-container-id-1 div.sk-serial {display: flex;flex-direction: column;align-items: center;background-color: white;padding-right: 0.2em;padding-left: 0.2em;position: relative;}#sk-container-id-1 div.sk-item {position: relative;z-index: 1;}#sk-container-id-1 div.sk-parallel {display: flex;align-items: stretch;justify-content: center;background-color: white;position: relative;}#sk-container-id-1 div.sk-item::before, #sk-container-id-1 div.sk-parallel-item::before {content: \"\";position: absolute;border-left: 1px solid gray;box-sizing: border-box;top: 0;bottom: 0;left: 50%;z-index: -1;}#sk-container-id-1 div.sk-parallel-item {display: flex;flex-direction: column;z-index: 1;position: relative;background-color: white;}#sk-container-id-1 div.sk-parallel-item:first-child::after {align-self: flex-end;width: 50%;}#sk-container-id-1 div.sk-parallel-item:last-child::after {align-self: flex-start;width: 50%;}#sk-container-id-1 div.sk-parallel-item:only-child::after {width: 0;}#sk-container-id-1 div.sk-dashed-wrapped {border: 1px dashed gray;margin: 0 0.4em 0.5em 0.4em;box-sizing: border-box;padding-bottom: 0.4em;background-color: white;}#sk-container-id-1 div.sk-label label {font-family: monospace;font-weight: bold;display: inline-block;line-height: 1.2em;}#sk-container-id-1 div.sk-label-container {text-align: center;}#sk-container-id-1 div.sk-container {/* jupyter's `normalize.less` sets `[hidden] { display: none; }` but bootstrap.min.css set `[hidden] { display: none !important; }` so we also need the `!important` here to be able to override the default hidden behavior on the sphinx rendered scikit-learn.org. See: https://github.com/scikit-learn/scikit-learn/issues/21755 */display: inline-block !important;position: relative;}#sk-container-id-1 div.sk-text-repr-fallback {display: none;}</style><div id=\"sk-container-id-1\" class=\"sk-top-container\"><div class=\"sk-text-repr-fallback\"><pre>LinearRegression()</pre><b>In a Jupyter environment, please rerun this cell to show the HTML representation or trust the notebook. <br />On GitHub, the HTML representation is unable to render, please try loading this page with nbviewer.org.</b></div><div class=\"sk-container\" hidden><div class=\"sk-item\"><div class=\"sk-estimator sk-toggleable\"><input class=\"sk-toggleable__control sk-hidden--visually\" id=\"sk-estimator-id-1\" type=\"checkbox\" checked><label for=\"sk-estimator-id-1\" class=\"sk-toggleable__label sk-toggleable__label-arrow\">LinearRegression</label><div class=\"sk-toggleable__content\"><pre>LinearRegression()</pre></div></div></div></div></div>"
      ],
      "text/plain": [
       "LinearRegression()"
      ]
     },
     "execution_count": 27,
     "metadata": {},
     "output_type": "execute_result"
    }
   ],
   "source": [
    "#| label: モデルの学習\n",
    "# インスタンスの生成\n",
    "lr = LinearRegression()\n",
    "# fitメソッドでモデルの学習を実行\n",
    "# 訓練データ（X_train, y_train）を引数に指定\n",
    "lr.fit(X_train, y_train)"
   ]
  },
  {
   "cell_type": "code",
   "execution_count": 28,
   "id": "68d6be82",
   "metadata": {},
   "outputs": [
    {
     "data": {
      "text/plain": [
       "array([4783.75905524, 5257.63304031, 4622.73374997, 5440.80373253,\n",
       "       3315.95001135, 3449.22324626, 4182.91106858, 3779.31387801,\n",
       "       5332.35879539, 5615.37691183, 4585.19536602, 4544.85274993,\n",
       "       3378.95494568, 4651.41753751, 3637.0685959 , 4669.99108179,\n",
       "       3941.43440199, 4058.0413563 , 3856.80769412, 3367.99787016,\n",
       "       4749.28198692, 5560.64069046, 4110.84101703, 4214.64059372,\n",
       "       3900.7371804 , 4580.99680682, 3912.27828029, 4710.12053689,\n",
       "       4220.79338127, 4133.35394733, 5469.58813153, 3886.77989401,\n",
       "       5408.29101883, 4445.499841  , 4016.26966443, 3832.29357079,\n",
       "       4726.61353707, 4085.79256734, 3591.65543457, 5495.44906674,\n",
       "       3255.90273903, 5472.53021551, 4842.32420278, 3380.23258003,\n",
       "       4197.5492215 , 4581.65490999, 4574.81831498, 3350.66554298,\n",
       "       4808.00360649, 3971.2999061 , 3597.35269633, 3601.3340526 ,\n",
       "       3132.39715024, 3644.53494959, 4144.78838762, 4184.99465485,\n",
       "       3948.11374387, 3508.36355321, 3265.37178874, 3950.86206815,\n",
       "       4745.25266621, 4098.12384673, 3737.99617275, 4627.01117925,\n",
       "       3558.17566828, 3949.27679296, 3392.07009348])"
      ]
     },
     "execution_count": 28,
     "metadata": {},
     "output_type": "execute_result"
    }
   ],
   "source": [
    "#| label: 予測\n",
    "# predictメソッドで予測を実行\n",
    "# 訓練データとテストデータをそれぞれを引数に指定し、予測値を得る\n",
    "y_pred_train = lr.predict(X_train)\n",
    "y_pred_test = lr.predict(X_test)\n",
    "\n",
    "# 予測値の確認\n",
    "# body_mass_gは標準化を適用していないため、もとのg単位での予測値となる\n",
    "y_pred_test"
   ]
  },
  {
   "cell_type": "markdown",
   "id": "e1de054c",
   "metadata": {},
   "source": [
    "predictメソッドにより、訓練データとテストデータそれぞれの予測値を得ることができました。次に、モデルの評価を行います。\n"
   ]
  },
  {
   "cell_type": "code",
   "execution_count": 29,
   "id": "073f9101",
   "metadata": {},
   "outputs": [],
   "source": [
    "#| eval: false\n",
    "#| echo: false\n",
    "coef = lr.coef_  # 回帰係数の取得\n",
    "intercept = lr.intercept_  # 切片の取得"
   ]
  },
  {
   "cell_type": "markdown",
   "id": "7813b55c",
   "metadata": {},
   "source": [
    "## 評価\n",
    "\n",
    "回帰モデルの性能評価は実測値と予測値の間の誤差を用いた指標を利用します。主に使われる誤差の指標として次のものがあります。\n",
    "\n",
    "- 平均絶対誤差（Mean Absolute Error: MAE）: 実際の値と予測値との絶対値の差を平均したもの。MAEが小さいほど誤差は小さく、予測精度が高いと言える。一方で外れ値の影響を受けやすい。\n",
    "- 平均二乗誤差（Mean Squared Error: MSE）: 実際の値と予測値との差（予測誤差）を二乗して平均したもの。MSEが小さいほど誤差は小さく、予測精度が高いと言える。\n",
    "- 二乗平均平方根誤差（Root Mean Squared Error: RMSE）: MSEの平方根を求めたもの。MSEと同様、値が小さいほど誤差は小さく、予測精度が高いと言える。誤差のスケールが目的変数と同じスケールになるため、解釈が直感的になる。\n",
    "- 決定係数（R-squared, $R^2$）: モデルの当てはまりの良さを示す指標。1に近いほど予測精度が高いと言える。ただし、説明変数の数が増加し、モデルが複雑になると、$R^2$の値が大きくなりやすいという欠点がある。\n",
    "\n",
    "モデルや問題設定により、参照すべき適切な評価指標は異なります。例えば、MAEやMSEは外れ値の影響を受けやすいため、外れ値が多いデータではRMSEや決定係数を評価指標に用いるのが適切です。\n",
    "\n",
    "今回は、誤差の指標としてRMSEと決定係数を用います。RMSEは次の式で計算できます。\n",
    "\n",
    "$$\n",
    "RMSE = \\sqrt{\\frac{1}{n}\\sum_{i=0}^{n-1} (y_{i} - \\hat{y}_{})^2}\n",
    "$$\n",
    "\n",
    "- $n$: データの件数\n",
    "- $y_{i}$: $i$番目のデータの実測値\n",
    "- $\\hat{y}_{i}$: $i$番目のデータの予測値\n",
    "\n",
    "つまり、各観測値について実際の値と予測値の差を二乗し、その平均を取った後、平方根を求めることでRMSEが計算できます。\n",
    "\n",
    "決定係数0から1の値を取る指標です。1に近いほどモデルの予測が実測値に近い、つまりモデルの精度が高いことを示します。\n",
    "\n",
    "決定係数は次の式で計算されます。\n",
    "\n",
    "$$\n",
    "R^2 = 1 - \\frac{RSS}{TSS}\n",
    "$$\n",
    "\n",
    "ここで $RSS$ は残差平方和（Residual Sum of Squares）、$TSS$ は全平方和（Total Sum of Squares）と呼ばれるもので、それぞれ次の式で計算できます。\n",
    "\n",
    "$$\n",
    "RSS = \\sum_{i=1}^{n} (y_{i} - \\hat{y}_{i})^2\n",
    "$$\n",
    "\n",
    "$RSS$ は実際の値と予測値との差を2乗し、それらをすべて足し合わせたものです。これはモデルの予測値が実際の値からどの程度離れているかを示す指標となります。\n",
    "\n",
    "一方、$TSS$ は予測値の代わりに実際の値の平均値 $\\bar{y}$ を用います。モデルの予測値は関係なく、実際の値が全体の平均値からどの程度離れているかを示す指標となります。言い換えるとデータの全体的なバラつきを表すと考えることができます。\n",
    "\n",
    "決定係数に話しを戻しましょう。決定係数は $1-\\frac{RSS}{TSS}$ で求められます。残差平方和（予測のズレ）が全平方和（データ全体のバラつき）に対してどれだけ小さいかを示す指標となります。これによりモデルの予測が実際のデータにどれだけ当てはまるかを評価することができます。\n",
    "\n",
    "これらの指標は、scikit-learnのsklearn.metricsモジュールに含まれる`mean_squared_error()`関数と`r2_score()`関数を用いて計算することができます。\n"
   ]
  },
  {
   "cell_type": "code",
   "execution_count": 30,
   "id": "b3b119b0",
   "metadata": {},
   "outputs": [],
   "source": [
    "#| label: モデルの評価\n",
    "# RMSEを求める\n",
    "# squared=Falseを指定することで、RMSEを計算することができる（デフォルトはMSE）\n",
    "train_rmse = np.sqrt(mean_squared_error(y_train, y_pred_train, squared=False))\n",
    "test_rmse = np.sqrt(mean_squared_error(y_test, y_pred_test, squared=False))\n",
    "\n",
    "# 決定係数を求める\n",
    "train_r2 = r2_score(y_train, y_pred_train)\n",
    "test_r2 = r2_score(y_test, y_pred_test)"
   ]
  },
  {
   "cell_type": "markdown",
   "id": "71df06f7",
   "metadata": {},
   "source": [
    "出力を表形式にして見やすくします。\n"
   ]
  },
  {
   "cell_type": "code",
   "execution_count": 31,
   "id": "764f84ce",
   "metadata": {},
   "outputs": [
    {
     "data": {
      "text/html": [
       "<div>\n",
       "<style scoped>\n",
       "    .dataframe tbody tr th:only-of-type {\n",
       "        vertical-align: middle;\n",
       "    }\n",
       "\n",
       "    .dataframe tbody tr th {\n",
       "        vertical-align: top;\n",
       "    }\n",
       "\n",
       "    .dataframe thead th {\n",
       "        text-align: right;\n",
       "    }\n",
       "</style>\n",
       "<table border=\"1\" class=\"dataframe\">\n",
       "  <thead>\n",
       "    <tr style=\"text-align: right;\">\n",
       "      <th></th>\n",
       "      <th>データの種類</th>\n",
       "      <th>RMSE</th>\n",
       "      <th>R2</th>\n",
       "    </tr>\n",
       "  </thead>\n",
       "  <tbody>\n",
       "    <tr>\n",
       "      <th>0</th>\n",
       "      <td>訓練データ</td>\n",
       "      <td>17.934423</td>\n",
       "      <td>0.846080</td>\n",
       "    </tr>\n",
       "    <tr>\n",
       "      <th>1</th>\n",
       "      <td>テストデータ</td>\n",
       "      <td>18.564218</td>\n",
       "      <td>0.780487</td>\n",
       "    </tr>\n",
       "  </tbody>\n",
       "</table>\n",
       "</div>"
      ],
      "text/plain": [
       "   データの種類       RMSE        R2\n",
       "0   訓練データ  17.934423  0.846080\n",
       "1  テストデータ  18.564218  0.780487"
      ]
     },
     "execution_count": 30,
     "metadata": {},
     "output_type": "execute_result"
    }
   ],
   "source": [
    "pd.DataFrame(\n",
    "    data={\n",
    "        \"データの種類\": [\"訓練データ\", \"テストデータ\"],\n",
    "        \"RMSE\": [train_rmse, test_rmse],\n",
    "        \"R2\": [train_r2, test_r2],\n",
    "    }\n",
    ")"
   ]
  },
  {
   "cell_type": "code",
   "execution_count": 32,
   "id": "b114283d",
   "metadata": {},
   "outputs": [
    {
     "data": {
      "text/markdown": [
       "\n",
       "訓練データ、テストデータのRMSEはそれぞれ 17.934、18.564で、その差は0.63です。2つのデータセットの間での差はわずかで、訓練データとテストデータの両方でモデルの精度が同等であることを示しています。\n"
      ],
      "text/plain": [
       "<IPython.core.display.Markdown object>"
      ]
     },
     "metadata": {},
     "output_type": "display_data"
    }
   ],
   "source": [
    "#| eval: true\n",
    "#| echo: false\n",
    "display(\n",
    "    Markdown(\n",
    "        \"\"\"\n",
    "訓練データ、テストデータのRMSEはそれぞれ {train_rmse}、{test_rmse}で、その差は{diff}です。2つのデータセットの間での差はわずかで、訓練データとテストデータの両方でモデルの精度が同等であることを示しています。\n",
    "\"\"\".format(\n",
    "            train_rmse=round(train_rmse, 3),\n",
    "            test_rmse=round(test_rmse, 3),\n",
    "            diff=round(abs(train_rmse - test_rmse), 3),\n",
    "        )\n",
    "    )\n",
    ")"
   ]
  },
  {
   "cell_type": "markdown",
   "id": "bd747f47",
   "metadata": {},
   "source": [
    "RMSEが訓練データとテストデータの両方で値が大きくなっている場合、モデルが訓練データに対して過学習していることを示しています。逆に、訓練データでのRMSEがテストデータのRMSEよりも極端に大きい場合、それはモデルが未学習である可能性を示します。\n"
   ]
  },
  {
   "cell_type": "code",
   "execution_count": 33,
   "id": "e8cda19f",
   "metadata": {},
   "outputs": [
    {
     "data": {
      "text/markdown": [
       "\n",
       "$R^2$についても見てみましょう。訓練データ、テストデータそれぞれの値は0.846と0.78となりました。これはモデルが訓練データの分散の約0.846%を説明できているということを示します。同様にテストデータに対しても0.78%を説明することになります。\n"
      ],
      "text/plain": [
       "<IPython.core.display.Markdown object>"
      ]
     },
     "metadata": {},
     "output_type": "display_data"
    }
   ],
   "source": [
    "#| eval: true\n",
    "#| echo: false\n",
    "display(\n",
    "    Markdown(\n",
    "        \"\"\"\n",
    "$R^2$についても見てみましょう。訓練データ、テストデータそれぞれの値は{train_r2}と{test_r2}となりました。これはモデルが訓練データの分散の約{train_r2}%を説明できているということを示します。同様にテストデータに対しても{test_r2}%を説明することになります。\n",
    "\"\"\".format(\n",
    "            train_r2=round(train_r2, 3),\n",
    "            test_r2=round(test_r2, 3),\n",
    "            diff=round(abs(train_r2 - test_r2), 3),\n",
    "        )\n",
    "    )\n",
    ")"
   ]
  },
  {
   "cell_type": "code",
   "execution_count": 34,
   "id": "6d6baa66",
   "metadata": {},
   "outputs": [
    {
     "data": {
      "image/png": "[encoded data removed]",
      "text/plain": [
       "<Figure size 672x480 with 1 Axes>"
      ]
     },
     "metadata": {
      "image/png": {
       "height": 428,
       "width": 601
      }
     },
     "output_type": "display_data"
    }
   ],
   "source": [
    "# 実測値と予測値をプロット\n",
    "plt.scatter(y_test, y_pred_test, color=\"#284b67\")\n",
    "plt.xlabel(\"実際の値\")\n",
    "plt.ylabel(\"モデルの予測値\")\n",
    "\n",
    "# 実際の値と予測値が正確であれば、予測値は実測値と一致するため、\n",
    "# 対角線上（左下から右上への線）に点がプロットされる\n",
    "plt.plot([y_test.min(), y_test.max()], [y_test.min(), y_test.max()], color=\"#fc5998\")\n",
    "\n",
    "plt.show()"
   ]
  },
  {
   "cell_type": "markdown",
   "id": "2e607e7b",
   "metadata": {},
   "source": [
    "### 最小二乗法\n"
   ]
  }
 ],
 "metadata": {
  "jupytext": {
   "formats": "ipynb,qmd",
   "text_representation": {
    "extension": ".qmd",
    "format_name": "quarto",
    "format_version": "1.0",
    "jupytext_version": "1.14.5"
   }
  },
  "kernelspec": {
   "display_name": "Python 3 (ipykernel)",
   "language": "python",
   "name": "python3"
  },
  "language_info": {
   "codemirror_mode": {
    "name": "ipython",
    "version": 3
   },
   "file_extension": ".py",
   "mimetype": "text/x-python",
   "name": "python",
   "nbconvert_exporter": "python",
   "pygments_lexer": "ipython3",
   "version": "3.10.13"
  }
 },
 "nbformat": 4,
 "nbformat_minor": 5
}
