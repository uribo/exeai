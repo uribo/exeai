{
 "cells": [
  {
   "cell_type": "raw",
   "id": "e23845b4",
   "metadata": {},
   "source": [
    "---\n",
    "title: サポートベクターマシン\n",
    "format: html\n",
    "execute:\n",
    "  keep-ipynb: true\n",
    "---"
   ]
  },
  {
   "cell_type": "code",
   "execution_count": 1,
   "id": "3b47ace3",
   "metadata": {},
   "outputs": [],
   "source": [
    "#| eval: true\n",
    "#| echo: false\n",
    "from IPython.display import Markdown, display"
   ]
  },
  {
   "cell_type": "markdown",
   "id": "e7a24ddf",
   "metadata": {},
   "source": [
    "機械学習において、与えられたデータセットを正確に分類するための適切な決定境界を見つけることが重要です。決定境界とは、分類問題において、異なるクラスを分けるために描かれる境界線や面のことを指します。適切な決定境界を見つけ出すことによって、教師ありの学習モデルは未知の新たなデータに対しても正確な分類を行う能力を獲得します。\n",
    "\n",
    "サポートベクターマシン（Support Vector Machines: SVM）は、適切な決定境界を見つけるための手法を提供します。サポートベクターマシンによる境界線の探求は、境界線から最も近いデータ点（サポートベクターと呼ばれる）からの距離（マージンと呼ばれる）が最大になるように行われます。マージンの最大化の結果、分類されるデータどうしの距離が最も離れるように境界線が決定されます。また新たなデータが境界の近くに位置する場合でも、適切な分類が可能になります。\n",
    "\n",
    "<!-- マージンとは、データを分類する境界線と最も近いデータ点（サポートベクター）との距離のことです。 -->\n",
    "\n",
    "サポートベクターマシンははじめ、2クラス分類問題に対して考案され、後に多クラス分類問題にも拡張されました。そのため、ロジスティック回帰モデルと同様に、線形分離可能なデータに対して機能します。一方、ロジスティック回帰モデルでは線形分離不可能なデータに対しては十分に機能しません。サポートベクターマシンではカーネル関数を用いることで、非線形な境界線を描くことも可能です。\n",
    "\n",
    "## カーネルトリック\n",
    "\n",
    "サポートベクターマシンが非線形の境界線を見つけられる背景には、カーネルトリックという特殊な機能を利用していることがあります。カーネルトリックとは、データを高次元空間に「投影」することで、直線で分けられない問題に対処する能力です。例えば、直線に分けられない2次元のデータを3次元に投影することで、直線で分けられるようになる場合があります。ただし、非線形変換によって高次元空間に投影されたデータに対して、元の特徴空間での直感的な理解とは一致しないことがある点は注意が必要です。\n",
    "\n",
    "### カーネル関数とハイパーパラメータ\n",
    "\n",
    "カーネルトリックでは、データを高次元空間に投影する際にカーネル関数と呼ばれる関数を用います。カーネル関数は、2つのベクトル間の類似度を測るための関数であり、その計算は高次元空間での内積を計算することと等価です。サポートベクターマシンで利用されるカーネルトリックでは、以下のようなカーネル関数が用いられます。\n",
    "\n",
    "- 線形カーネル: ベクトルの内積を計算。これは基本的にはカーネルトリックを使用せずにSVMを適用するのと同等\n",
    "- 非線形カーネル\n",
    "    - 多項式カーネル\n",
    "    - RBFカーネル（ガウシアンカーネル、Radial Basis Function kernel）\n",
    "\n",
    "RBFカーネルは、サポートベクターマシンによる非線形な境界線を用いた分類で広く利用されます。RBFカーネルは、以下のような式で表されます。\n",
    "\n",
    "$$\n",
    "K(x, z) = exp(-\\gamma ||x - z||^2)\n",
    "$$\n",
    "\n",
    "- $x, z$: 入力データ点。異なる2つのデータ点を表す。\n",
    "- $||x - z||^2$: $x$ と $z$ のユークリッド距離の二乗。\n",
    "- $\\gamma$: カーネルの形状を左右するハイパーパラメータ。正の実数として設定する。大きい値にすると、カーネルの幅が狭くなり、決定境界が複雑になる。小さい値にすると、カーネルの幅が広がるため、データ点が多く含まれるようになり、決定境界は単純になりやすい。\n",
    "\n",
    "この関数では2つのデータ点が近いほど、カーネルの値が大きくなります。つまり、カーネル関数は2つのデータ点の類似度を表していると言えます。RBFカーネルは、2つのデータ点が近いほど、カーネルの値が大きくなるという性質を持ちます。そのため、データ点が密集している領域では、モデルはそれらの間で複雑な決定境界を形成しやすくなります。一方、データ点が疎になる領域では、決定境界は一般的に単純になります。\n",
    "\n",
    "サポートベクターマシンを実装する際、カーネル関数の種類とパラメータを指定する必要があります。具体的にはRBFカーネルでは、カーネルの形状を決定する $\\gamma$ です。モデルが学習を行う前に、事前に決めておく必要がある、モデルの振る舞いを決定するパラメータをハイパーパラメータと呼びます。\n",
    "\n",
    "## サポートベクターマシンに与えるデータ\n",
    "\n",
    "サポートベクターマシンでは入力データが欠損値を含まない状態に加えて、標準化されていることを想定します。それはサポートベクターマシンが、データの特徴量のスケールに敏感であるためです。具体的にはベクトルの内積を計算する際に、各特徴量の値が大きいほど、その特徴量の影響が大きくなるためです。そのため、サポートベクターマシンを適用する前に、データの標準化を行う必要があります。\n",
    "\n",
    "標準化とは、変数の値を平均0、標準偏差1に変換することです。標準化により、変数の値のスケールを揃えることができます[^1]。\n",
    "\n",
    "[^1]: [線形回帰モデル](0501_regression.qmd)での特徴量エンジニアリングを参考\n",
    "\n",
    "## Scikit-learnでのサポートベクターマシンの実装\n",
    "\n",
    "Scikit-learnでは、SVCクラスを用いてサポートベクターマシンを実装することができます。SVCクラスは、さきに述べたように、線形分離可能なデータに対してはロジスティック回帰モデルと同様に機能します。また、RBFなどのカーネル関数を指定することで、非線形な境界線を描くことも可能です。\n",
    "\n",
    "ここではロジスティック回帰モデルと同様に、ペンギンのデータセットを用いて、ペンギンの種名を分類するモデルをサポートベクターマシンで実装してみましょう。\n"
   ]
  },
  {
   "cell_type": "code",
   "execution_count": 2,
   "id": "7356d859",
   "metadata": {},
   "outputs": [],
   "source": [
    "import pandas as pd\n",
    "from sklearn.model_selection import StratifiedKFold, cross_validate, cross_val_score\n",
    "from sklearn.preprocessing import LabelEncoder, StandardScaler\n",
    "from sklearn.svm import SVC\n",
    "from sklearn.metrics import accuracy_score, classification_report"
   ]
  },
  {
   "cell_type": "code",
   "execution_count": 3,
   "id": "2bbe065b",
   "metadata": {},
   "outputs": [],
   "source": [
    "import seaborn as sns\n",
    "# データの読み込み\n",
    "penguins = sns.load_dataset(\"penguins\")"
   ]
  },
  {
   "cell_type": "markdown",
   "id": "21f0ab88",
   "metadata": {},
   "source": [
    "### 前処理・特徴量エンジニアリング\n",
    "\n",
    "前処理・特徴量エンジニアリングの工程を関数化しておきます。\n"
   ]
  },
  {
   "cell_type": "code",
   "execution_count": 4,
   "id": "cbb3fbee",
   "metadata": {},
   "outputs": [],
   "source": [
    "def penguins_svm_preprocess(data):\n",
    "  from sklearn.preprocessing import LabelEncoder, StandardScaler\n",
    "  \n",
    "  # 元のデータを保持するためデータをコピー\n",
    "  data_processed = data.copy()\n",
    "  \n",
    "  # 前処理: 欠損値を含む行を削除\n",
    "  data_processed.dropna(inplace=True)\n",
    "  \n",
    "  # 特徴量エンジニアリング: ラベルラベルエンコーディング\n",
    "  le = LabelEncoder()\n",
    "  for col in [\"species\", \"island\", \"sex\"]:\n",
    "        data_processed[col] = le.fit_transform(data_processed[col])\n",
    "        \n",
    "  # 特徴量エンジニアリング: 標準化\n",
    "  scaler = StandardScaler()\n",
    "  data_processed[\n",
    "        [\"bill_length_mm\", \"bill_depth_mm\", \"flipper_length_mm\", \"body_mass_g\"]\n",
    "    ] = scaler.fit_transform(\n",
    "        data_processed[[\"bill_length_mm\", \"bill_depth_mm\", \"flipper_length_mm\", \"body_mass_g\"]]\n",
    "    )\n",
    "    \n",
    "  return data_processed"
   ]
  },
  {
   "cell_type": "markdown",
   "id": "b8320463",
   "metadata": {},
   "source": [
    "定義した関数にペンギンデータを適用します。\n"
   ]
  },
  {
   "cell_type": "code",
   "execution_count": 5,
   "id": "9f5b587b",
   "metadata": {},
   "outputs": [
    {
     "data": {
      "text/html": [
       "<div>\n",
       "<style scoped>\n",
       "    .dataframe tbody tr th:only-of-type {\n",
       "        vertical-align: middle;\n",
       "    }\n",
       "\n",
       "    .dataframe tbody tr th {\n",
       "        vertical-align: top;\n",
       "    }\n",
       "\n",
       "    .dataframe thead th {\n",
       "        text-align: right;\n",
       "    }\n",
       "</style>\n",
       "<table border=\"1\" class=\"dataframe\">\n",
       "  <thead>\n",
       "    <tr style=\"text-align: right;\">\n",
       "      <th></th>\n",
       "      <th>species</th>\n",
       "      <th>island</th>\n",
       "      <th>bill_length_mm</th>\n",
       "      <th>bill_depth_mm</th>\n",
       "      <th>flipper_length_mm</th>\n",
       "      <th>body_mass_g</th>\n",
       "      <th>sex</th>\n",
       "    </tr>\n",
       "  </thead>\n",
       "  <tbody>\n",
       "    <tr>\n",
       "      <th>0</th>\n",
       "      <td>0</td>\n",
       "      <td>2</td>\n",
       "      <td>-0.896042</td>\n",
       "      <td>0.780732</td>\n",
       "      <td>-1.426752</td>\n",
       "      <td>-0.568475</td>\n",
       "      <td>1</td>\n",
       "    </tr>\n",
       "    <tr>\n",
       "      <th>1</th>\n",
       "      <td>0</td>\n",
       "      <td>2</td>\n",
       "      <td>-0.822788</td>\n",
       "      <td>0.119584</td>\n",
       "      <td>-1.069474</td>\n",
       "      <td>-0.506286</td>\n",
       "      <td>0</td>\n",
       "    </tr>\n",
       "    <tr>\n",
       "      <th>2</th>\n",
       "      <td>0</td>\n",
       "      <td>2</td>\n",
       "      <td>-0.676280</td>\n",
       "      <td>0.424729</td>\n",
       "      <td>-0.426373</td>\n",
       "      <td>-1.190361</td>\n",
       "      <td>0</td>\n",
       "    </tr>\n",
       "  </tbody>\n",
       "</table>\n",
       "</div>"
      ],
      "text/plain": [
       "   species  island  bill_length_mm  bill_depth_mm  flipper_length_mm  \\\n",
       "0        0       2       -0.896042       0.780732          -1.426752   \n",
       "1        0       2       -0.822788       0.119584          -1.069474   \n",
       "2        0       2       -0.676280       0.424729          -0.426373   \n",
       "\n",
       "   body_mass_g  sex  \n",
       "0    -0.568475    1  \n",
       "1    -0.506286    0  \n",
       "2    -1.190361    0  "
      ]
     },
     "execution_count": 5,
     "metadata": {},
     "output_type": "execute_result"
    }
   ],
   "source": [
    "penguins_mod = penguins_svm_preprocess(penguins)\n",
    "\n",
    "penguins_mod.head(n = 3)"
   ]
  },
  {
   "cell_type": "code",
   "execution_count": 6,
   "id": "7c2fd6ee",
   "metadata": {},
   "outputs": [
    {
     "data": {
      "text/html": [
       "<div>\n",
       "<style scoped>\n",
       "    .dataframe tbody tr th:only-of-type {\n",
       "        vertical-align: middle;\n",
       "    }\n",
       "\n",
       "    .dataframe tbody tr th {\n",
       "        vertical-align: top;\n",
       "    }\n",
       "\n",
       "    .dataframe thead th {\n",
       "        text-align: right;\n",
       "    }\n",
       "</style>\n",
       "<table border=\"1\" class=\"dataframe\">\n",
       "  <thead>\n",
       "    <tr style=\"text-align: right;\">\n",
       "      <th></th>\n",
       "      <th>mean</th>\n",
       "      <th>standard_deviation</th>\n",
       "    </tr>\n",
       "  </thead>\n",
       "  <tbody>\n",
       "    <tr>\n",
       "      <th>species</th>\n",
       "      <td>9.189189e-01</td>\n",
       "      <td>0.889718</td>\n",
       "    </tr>\n",
       "    <tr>\n",
       "      <th>island</th>\n",
       "      <td>6.516517e-01</td>\n",
       "      <td>0.714715</td>\n",
       "    </tr>\n",
       "    <tr>\n",
       "      <th>bill_length_mm</th>\n",
       "      <td>3.840772e-16</td>\n",
       "      <td>1.001505</td>\n",
       "    </tr>\n",
       "    <tr>\n",
       "      <th>bill_depth_mm</th>\n",
       "      <td>6.401286e-16</td>\n",
       "      <td>1.001505</td>\n",
       "    </tr>\n",
       "    <tr>\n",
       "      <th>flipper_length_mm</th>\n",
       "      <td>2.133762e-16</td>\n",
       "      <td>1.001505</td>\n",
       "    </tr>\n",
       "    <tr>\n",
       "      <th>body_mass_g</th>\n",
       "      <td>-1.707010e-16</td>\n",
       "      <td>1.001505</td>\n",
       "    </tr>\n",
       "    <tr>\n",
       "      <th>sex</th>\n",
       "      <td>5.045045e-01</td>\n",
       "      <td>0.500732</td>\n",
       "    </tr>\n",
       "  </tbody>\n",
       "</table>\n",
       "</div>"
      ],
      "text/plain": [
       "                           mean  standard_deviation\n",
       "species            9.189189e-01            0.889718\n",
       "island             6.516517e-01            0.714715\n",
       "bill_length_mm     3.840772e-16            1.001505\n",
       "bill_depth_mm      6.401286e-16            1.001505\n",
       "flipper_length_mm  2.133762e-16            1.001505\n",
       "body_mass_g       -1.707010e-16            1.001505\n",
       "sex                5.045045e-01            0.500732"
      ]
     },
     "execution_count": 6,
     "metadata": {},
     "output_type": "execute_result"
    }
   ],
   "source": [
    "pd.DataFrame({\n",
    "  \"mean\": penguins_mod.mean(),\n",
    "  \"standard_deviation\": penguins_mod.std(),\n",
    "})"
   ]
  },
  {
   "cell_type": "markdown",
   "id": "b9a7f564",
   "metadata": {},
   "source": [
    "### データ分割\n",
    "\n",
    "続いて、モデルで予測したい目的変数と、モデルの学習に用いる説明変数を分離します。\n"
   ]
  },
  {
   "cell_type": "code",
   "execution_count": 7,
   "id": "237a4649",
   "metadata": {},
   "outputs": [],
   "source": [
    "# 説明変数と目的変数の分離\n",
    "X = penguins_mod.drop(columns=\"species\")\n",
    "y = penguins_mod[\"species\"]"
   ]
  },
  {
   "cell_type": "markdown",
   "id": "a2404f76",
   "metadata": {},
   "source": [
    "今回のモデルでは、単純な訓練データとテストデータの分割によるホールドアウト法ではなく、交差検証法を適用してモデルの評価を行いましょう。交差検証法では、データをいくつかのセット（ホールド）に分割し、それぞれのグループをテストデータとして用いることで、モデルの汎化性能を評価します。\n",
    "\n",
    "$k$ 分割交差検証は、データを $k$ 個のグループに分割し、$k$ 回の学習と評価を行う方法です。$k$ 回の学習のうち、$k-1$ 個のグループを訓練データとして用い、残りの1つのグループをテストデータとして用います。このようにして得られた $k$ 回の評価の平均値を、モデルの評価値とします。\n",
    "\n",
    "![K分割交差検証法](../img/k-fold_cross_validation.png)\n",
    "\n",
    "データに偏りがある場合、単純にデータをランダムに分割すると、各グループのデータに偏りが生じてしまう可能性があります。交差検証法の過程においても、分割後の訓練データとテストデータの間でデータの偏りが生じてしまうと、モデルが過学習を起こす心配があります。そのため、各グループのデータの割合が同じになるように分割する層化抽出法を利用します。層化抽出法では、データを分割する際に、各クラスの割合が同じになるように分割します。\n",
    "\n",
    "今回のデータでは、目的変数のクラスの割合が同じになるようにデータを分割する必要があります。そのため、層化 $K$ 分割交差検証を行うために、`sklearn.model_selection`モジュールの`StratifiedKFold`を用いたデータ分割を行います。\n"
   ]
  },
  {
   "cell_type": "code",
   "execution_count": 8,
   "id": "8bb7b375",
   "metadata": {},
   "outputs": [],
   "source": [
    "# 交差検証法の例: 層化 k 分割交差検証法\n",
    "# n_splitで分割数（ホールド数）を指定\n",
    "# shuffleでデータをシャッフルするか指定（元のデータの並び順を保持する場合はFalse）\n",
    "skf = StratifiedKFold(n_splits=5, shuffle=True, random_state=20230515)"
   ]
  },
  {
   "cell_type": "code",
   "execution_count": 9,
   "id": "37800ee6",
   "metadata": {},
   "outputs": [
    {
     "name": "stdout",
     "output_type": "stream",
     "text": [
      "species\n",
      "0    0.447761\n",
      "2    0.358209\n",
      "1    0.194030\n",
      "Name: count, dtype: float64\n",
      "species\n",
      "0    0.432836\n",
      "2    0.358209\n",
      "1    0.208955\n",
      "Name: count, dtype: float64\n",
      "species\n",
      "0    0.432836\n",
      "2    0.358209\n",
      "1    0.208955\n",
      "Name: count, dtype: float64\n",
      "species\n",
      "0    0.439394\n",
      "2    0.348485\n",
      "1    0.212121\n",
      "Name: count, dtype: float64\n",
      "species\n",
      "0    0.439394\n",
      "2    0.363636\n",
      "1    0.196970\n",
      "Name: count, dtype: float64\n"
     ]
    }
   ],
   "source": [
    "# 各ホールドにおけるテストデータの種名の割合を確認\n",
    "for train_index, test_index in skf.split(X, y):\n",
    "    print(y.iloc[test_index].value_counts() / len(y.iloc[test_index]))"
   ]
  },
  {
   "cell_type": "markdown",
   "id": "2fee5696",
   "metadata": {},
   "source": [
    "各ホールドでのテストデータの種名の割合がほぼ同じになっていることが確認できました。\n",
    "\n",
    "### モデルの学習と評価\n",
    "\n",
    "sklearn.svmの`SVC()`関数を用いて、サポートベクターマシンの分類モデルを構築します。今回は、カーネル関数にRBFカーネルを利用します。`SVC()`関数にはいくつかの引数があり、カーネル関数の種類やハイパーパラメータの指定が可能です。\n",
    "\n",
    "`SVC()`関数の引数・ハイパーパラメータは、以下の通りです。\n",
    "\n",
    "- C... ソフトマージンのためのハイパーパラメータ。マージンの大きさを調整する。\n",
    "- kernel... カーネル関数の種類。デフォルトで利用されるRBFカーネル(`rbf`)のほか、線形カーネル(`linear`)、多項式カーネル(`poly`)などがある。\n",
    "- gamma... カーネル関数のパラメータ。RBFカーネルのみ使用。カーネルの幅を調整する。\n"
   ]
  },
  {
   "cell_type": "code",
   "execution_count": 10,
   "id": "182961ca",
   "metadata": {},
   "outputs": [],
   "source": [
    "# サポートベクターマシンモデルの構築\n",
    "# カーネル関数はRBFカーネルを使用（デフォルト）\n",
    "svm = SVC(kernel = 'rbf', gamma='scale')"
   ]
  },
  {
   "cell_type": "markdown",
   "id": "6fb07a0d",
   "metadata": {},
   "source": [
    "交差検証法を用いてモデルの評価を行うための関数として`cross_val_score()`が利用できます。この関数は、モデルとデータを引数として受け取り、交差検証法による評価値を返します。評価指標にはデフォルトではモデルの精度（accuracy）が用いられますが、`scoring`引数を用いて、他の評価指標を用いることもできます。\n"
   ]
  },
  {
   "cell_type": "code",
   "execution_count": 11,
   "id": "3704f5cc",
   "metadata": {},
   "outputs": [
    {
     "name": "stdout",
     "output_type": "stream",
     "text": [
      "Average score:  0.9939846223428311\n"
     ]
    }
   ],
   "source": [
    "scores = cross_val_score(svm, X, y, cv=skf)\n",
    "# 各ホールドにおける正解率を平均\n",
    "print(\"Average score: \", scores.mean())"
   ]
  },
  {
   "cell_type": "code",
   "execution_count": 12,
   "id": "08453e12",
   "metadata": {},
   "outputs": [
    {
     "data": {
      "text/markdown": [
       "\n",
       "この出力は、各ホールドにおける評価値の平均値を表しています。今回のモデルでは、平均で約0.994の正解率が得られました。\n"
      ],
      "text/plain": [
       "<IPython.core.display.Markdown object>"
      ]
     },
     "metadata": {},
     "output_type": "display_data"
    }
   ],
   "source": [
    "#| eval: true\n",
    "#| echo: false\n",
    "display(\n",
    "    Markdown(\n",
    "        \"\"\"\n",
    "この出力は、各ホールドにおける評価値の平均値を表しています。今回のモデルでは、平均で約{scores_mean}の正解率が得られました。\n",
    "\"\"\".format(\n",
    "            scores_mean=round(scores.mean(), 3)\n",
    "        )\n",
    "    )\n",
    ")"
   ]
  },
  {
   "cell_type": "code",
   "execution_count": 13,
   "id": "4ee99c82",
   "metadata": {},
   "outputs": [
    {
     "name": "stdout",
     "output_type": "stream",
     "text": [
      "Average score:  0.9901098901098901\n"
     ]
    }
   ],
   "source": [
    "# 再現率 (recall)を評価指標として用いる\n",
    "scores = cross_val_score(svm, X, y, cv=skf, scoring='recall_macro')\n",
    "print(\"Average score: \", scores.mean())"
   ]
  },
  {
   "cell_type": "markdown",
   "id": "c9ceea0f",
   "metadata": {},
   "source": [
    "`cross_validate()`関数を用いると、複数の評価指標を同時に用いることができます。この関数は`cross_val_score()`関数と同じく、モデルとデータを引数として与えると、交差検証法による評価値を返却します。一方で`scoring`引数に複数の評価指標を指定でき、同時に複数の評価指標を比較可能です。加えて、`return_train_score`引数を`True`にすることで、テストデータのほかに訓練データに対する評価値も得ることができます。\n"
   ]
  },
  {
   "cell_type": "code",
   "execution_count": 14,
   "id": "306e61ba",
   "metadata": {},
   "outputs": [
    {
     "data": {
      "text/plain": [
       "{'fit_time': array([0.00138807, 0.00105882, 0.00101781, 0.00100183, 0.00108409]),\n",
       " 'score_time': array([0.00150084, 0.00127625, 0.00128889, 0.00124121, 0.00127816]),\n",
       " 'test_accuracy': array([0.98507463, 1.        , 1.        , 0.98484848, 1.        ]),\n",
       " 'train_accuracy': array([0.9924812 , 0.9924812 , 0.9924812 , 0.99250936, 0.99625468]),\n",
       " 'test_recall_macro': array([0.97435897, 1.        , 1.        , 0.97619048, 1.        ]),\n",
       " 'train_recall_macro': array([0.98787879, 0.98765432, 0.98765432, 0.98765432, 0.99393939])}"
      ]
     },
     "execution_count": 14,
     "metadata": {},
     "output_type": "execute_result"
    }
   ],
   "source": [
    "# 複数の評価指標（正解率、再現率）を用いる\n",
    "cross_validate(svm, X, y, cv=skf, scoring=['accuracy', 'recall_macro'], return_train_score=True)"
   ]
  }
 ],
 "metadata": {
  "jupytext": {
   "formats": "ipynb,qmd",
   "text_representation": {
    "extension": ".qmd",
    "format_name": "quarto",
    "format_version": "1.0",
    "jupytext_version": "1.14.5"
   }
  },
  "kernelspec": {
   "display_name": "Python 3 (ipykernel)",
   "language": "python",
   "name": "python3"
  },
  "language_info": {
   "codemirror_mode": {
    "name": "ipython",
    "version": 3
   },
   "file_extension": ".py",
   "mimetype": "text/x-python",
   "name": "python",
   "nbconvert_exporter": "python",
   "pygments_lexer": "ipython3",
   "version": "3.10.13"
  }
 },
 "nbformat": 4,
 "nbformat_minor": 5
}
