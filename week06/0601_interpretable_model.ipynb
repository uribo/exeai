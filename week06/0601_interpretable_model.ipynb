{
  "cells": [
    {
      "cell_type": "raw",
      "metadata": {},
      "source": [
        "---\n",
        "title: 回帰モデルの解釈\n",
        "format: html\n",
        "execute:\n",
        "  keep-ipynb: true\n",
        "---"
      ],
      "id": "e0604c8a"
    },
    {
      "cell_type": "code",
      "metadata": {},
      "source": [
        "#| eval: true\n",
        "#| echo: false\n",
        "from IPython.display import Markdown, display"
      ],
      "id": "4a13a253",
      "execution_count": null,
      "outputs": []
    },
    {
      "cell_type": "code",
      "metadata": {},
      "source": [
        "#| eval: false\n",
        "#| echo: true\n",
        "# japanize_matplotlibのインストール\n",
        "!pip install -qq japanize_matplotlib"
      ],
      "id": "41ffa663",
      "execution_count": null,
      "outputs": []
    },
    {
      "cell_type": "code",
      "metadata": {},
      "source": [
        "# このファイルのコードの実行に利用するライブラリを読み込む\n",
        "import japanize_matplotlib  # matplotlibの日本語化\n",
        "import pandas as pd\n",
        "import seaborn as sns\n",
        "import numpy as np\n",
        "import matplotlib.pyplot as plt\n",
        "from sklearn.linear_model import LinearRegression\n",
        "from sklearn.preprocessing import OneHotEncoder, StandardScaler\n",
        "from sklearn.pipeline import make_pipeline\n",
        "from sklearn.compose import make_column_transformer"
      ],
      "id": "1891439b",
      "execution_count": null,
      "outputs": []
    },
    {
      "cell_type": "code",
      "metadata": {},
      "source": [
        "# 指数表示を禁止、小数点以下5桁まで表示\n",
        "pd.options.display.float_format = '{:.5f}'.format"
      ],
      "id": "1fbc8344",
      "execution_count": null,
      "outputs": []
    },
    {
      "cell_type": "markdown",
      "metadata": {},
      "source": [
        "回帰モデルでは、目的変数$y$を説明変数$x$によって予測することを考えます。線形回帰モデルでは、目的変数$y$と説明変数$x$の関係を次のように仮定します。\n",
        "\n",
        "$$\n",
        "y = \\beta_0 + \\beta_1 x + \\epsilon\n",
        "$$\n",
        "\n",
        "一次関数によって表されるこの関係を単回帰モデルと呼びます。ここで、$\\beta_0$ は切片、$\\beta_1$ は傾き、$\\epsilon$ は誤差を表します。誤差は誤差項と呼ばれ、モデルで説明できない部分を表します。誤差項は、平均が0で分散が均一（均一分散）の正規分布に従うと仮定します。\n",
        "\n",
        "この式を使って、目的変数 $y$ を説明変数 $x$ によって予測することを考えます。このとき、説明変数 $x$ の値が与えられたときの目的変数 $y$ の期待値 $E[y]$ は次のようになります。\n",
        "\n",
        "$$\n",
        "\\begin{align}\n",
        "E[y] = E[\\beta_0 + \\beta_1 x + \\epsilon] \\\\\n",
        "= \\beta_0 + \\beta_1 E[x] + E[\\epsilon] \\\\\n",
        "= \\beta_0 + \\beta_1 E[x]\n",
        "\\end{align}\n",
        "$$\n",
        "\n",
        "<!-- 2つ目の等号では、期待値の性質である線形性を利用しています。 -->\n",
        "\n",
        "誤差項の期待値は普通、0として扱われます。この式から、単回帰モデルにおける $y$ の期待値は、切片 $\\beta_0$ と説明変数 $x$ の期待値に、傾き $\\beta_1$ を掛けた値の和となります。\n",
        "\n",
        "単回帰モデルの例を見てみましょう。南極大陸に生育するペンギンのデータセットを使います。ここからペンギンの翼の長さから体重を予測するモデルを作成します。\n"
      ],
      "id": "794d5565"
    },
    {
      "cell_type": "code",
      "metadata": {},
      "source": [
        "penguins = sns.load_dataset(\"penguins\")\n",
        "# 欠損値を含む行を除外\n",
        "penguins.dropna(inplace=True)"
      ],
      "id": "b3a630bb",
      "execution_count": null,
      "outputs": []
    },
    {
      "cell_type": "markdown",
      "metadata": {},
      "source": [
        "散布図により、翼の長さと体重の関係を可視化します。この図からは翼の長さが長い個体は体重も大きい傾向が読み取れます。\n"
      ],
      "id": "16f15f8a"
    },
    {
      "cell_type": "code",
      "metadata": {},
      "source": [
        "# 散布図の作成\n",
        "sns.scatterplot(data=penguins, x=\"flipper_length_mm\", y=\"body_mass_g\", color=\"#fc5998\")\n",
        "plt.title(\"南極大陸に生育するペンギンの翼の長さと体重の関係\")\n",
        "plt.show()"
      ],
      "id": "4582e50f",
      "execution_count": null,
      "outputs": []
    },
    {
      "cell_type": "code",
      "metadata": {},
      "source": [
        "# 回帰モデルの構築\n",
        "lr = LinearRegression()\n",
        "lr.fit(\n",
        "    X = penguins[[\"flipper_length_mm\"]], \n",
        "    y = penguins[\"body_mass_g\"])"
      ],
      "id": "e10c9236",
      "execution_count": null,
      "outputs": []
    },
    {
      "cell_type": "markdown",
      "metadata": {},
      "source": [
        "傾きと切片を確認します。傾きは係数 `coef_` に、切片は切片 `intercept_` に格納されています。\n"
      ],
      "id": "79f978cd"
    },
    {
      "cell_type": "code",
      "metadata": {},
      "source": [
        "pd.DataFrame({\n",
        "    \"beta_0\": lr.intercept_, # 切片\n",
        "    \"beta_1\": lr.coef_ # 傾き\n",
        "})"
      ],
      "id": "44747f1d",
      "execution_count": null,
      "outputs": []
    },
    {
      "cell_type": "markdown",
      "metadata": {},
      "source": [
        "切片は、翼の長さが0のときの体重を表します。翼の長さが0のときの体重は、生物学的に意味をなさないので、この値はあまり意味をなしません。一方、傾きは、翼の長さが1mm長くなると体重がどれだけ増えるかを表します[^1]。この値は、翼の長さが0のときの体重とは異なり、「翼の長さが1mm長くなると増える体重」という意味を持ちます。具体的には $\\beta_1$ の値は約50であり、翼の長さが1mm長くなると体重が約50g増えることを意味します。\n"
      ],
      "id": "20f378eb"
    },
    {
      "cell_type": "code",
      "metadata": {},
      "source": [
        "# モデルの予測値を計算\n",
        "# 1行目のデータを数値として扱う\n",
        "x = penguins[[\"flipper_length_mm\"]][0:1]\n",
        "print(x)\n",
        "\n",
        "lr.predict(x)"
      ],
      "id": "625c9118",
      "execution_count": null,
      "outputs": []
    },
    {
      "cell_type": "markdown",
      "metadata": {},
      "source": [
        "モデルによる予測値は、切片と傾きを使って計算されます。すでに切片と傾きを確認したので、この値を使って予測値を計算してみましょう。\n"
      ],
      "id": "723fd7cb"
    },
    {
      "cell_type": "code",
      "metadata": {},
      "source": [
        "# モデルの予測値が計算できることを確認\n",
        "lr.intercept_ + lr.coef_ * x.values"
      ],
      "id": "4d0359a8",
      "execution_count": null,
      "outputs": []
    },
    {
      "cell_type": "markdown",
      "metadata": {},
      "source": [
        "### 予測精度\n",
        "\n",
        "回帰モデルの善し悪しは、予測精度によって評価されます。予測精度にはいくつか種類がありますが、ここでは決定係数と呼ばれる指標を使って予測精度を評価します。決定係数は、実際の値と予測値の差を使って計算されます。この差を残差と呼びます。残差は、実際の値から予測値を引くことで計算されます。\n"
      ],
      "id": "893f314c"
    },
    {
      "cell_type": "code",
      "metadata": {},
      "source": [
        "# モデルの予測値を計算\n",
        "y_pred = lr.predict(penguins[[\"flipper_length_mm\"]])\n",
        "# 残差を計算\n",
        "residual = penguins[\"body_mass_g\"] - y_pred"
      ],
      "id": "f255c917",
      "execution_count": null,
      "outputs": []
    },
    {
      "cell_type": "markdown",
      "metadata": {},
      "source": [
        "残差を使って決定係数を計算します。決定係数は以下の式で計算されます。\n",
        "\n",
        "$$\n",
        "R^2 = 1 - \\frac{\\sum_{i=1}^n (y_i - \\hat{y}_i)^2}{\\sum_{i=1}^n (y_i - \\bar{y})^2}\n",
        "$$\n",
        "\n",
        "ここで分母の $\\sum_{i=1}^n (y_i - \\bar{y})^2$ は、実際の値と平均値の差の2乗の和を表します。これは、実際の値のばらつき（分散）を表します。一方、分子の $\\sum_{i=1}^n (y_i - \\hat{y}_i)^2$ は、実際の値と予測値の差（残差）のばらつきを表します。決定係数は、実際の値と予測値の差のばらつきを、実際の値のばらつきで割った値です。この値は、0から1の間の値を取ります。1に近いほど、実際の値と予測値の差のばらつきが小さいことを意味します。つまり、予測精度が高いことを意味します。\n"
      ],
      "id": "c1defb58"
    },
    {
      "cell_type": "code",
      "metadata": {},
      "source": [
        "# 決定係数を計算\n",
        "1 - np.var(residual) / np.var(penguins[\"body_mass_g\"])"
      ],
      "id": "148a459a",
      "execution_count": null,
      "outputs": []
    },
    {
      "cell_type": "markdown",
      "metadata": {},
      "source": [
        "決定係数の値が意味する内容は、以下のように解釈できます。\n",
        "\n",
        "「ペンギンの翼の長さによって、体重を約76%の精度で予測できることを意味する。」\n",
        "\n",
        "scikit-learnでは、scoreメソッドを用いて、説明変数と目的変数を与えることで決定係数を計算できます。\n"
      ],
      "id": "cef4c558"
    },
    {
      "cell_type": "code",
      "metadata": {},
      "source": [
        "# 決定係数を計算\n",
        "lr.score(penguins[[\"flipper_length_mm\"]], penguins[\"body_mass_g\"])"
      ],
      "id": "82c323e0",
      "execution_count": null,
      "outputs": []
    },
    {
      "cell_type": "markdown",
      "metadata": {},
      "source": [
        "## 重回帰モデル\n",
        "\n",
        "単回帰モデルでは入力変数が1つだけでしたが、現実の問題では、入力変数が1つだけではなく、複数ある場合が多いです。例えば、ペンギンの体重を予測する場合、翼の長さだけでなく、体の長さや体の深さなどの情報も、予測したいモデルの入力として使うことができます。このように、入力変数が1つだけではなく、複数ある場合の回帰モデルを重回帰モデルと呼びます。重回帰モデルは、次の式で表されます。\n",
        "\n",
        "$$\n",
        "y = \\beta_0 + \\beta_1 x_1 + \\beta_2 x_2 + \\cdots + \\beta_k x_k + \\epsilon\n",
        "$$\n",
        "\n",
        "ここで、$y$ は目的変数、$x_1, x_2, \\ldots, x_k$ は説明変数、$\\beta_0, \\beta_1, \\ldots, \\beta_k$ はパラメータ、$\\epsilon$ は誤差を表します。\n",
        "\n",
        "<!-- 標準化を行わない -->\n"
      ],
      "id": "91ae2fcc"
    },
    {
      "cell_type": "code",
      "metadata": {},
      "source": [
        "def coefficient_table(model, X_vars):\n",
        "    # モデルの係数を取得\n",
        "    coefs = model.coef_\n",
        "\n",
        "    # 特徴量の名前を取得\n",
        "    feature_names = X_vars\n",
        "\n",
        "    # データフレームにまとめる\n",
        "    df_coef = pd.DataFrame({\n",
        "        'Feature': feature_names,\n",
        "        'Coefficient': coefs\n",
        "    })\n",
        "    df_coef['Feature'] = df_coef['Feature'].str.split('__').str[-1]\n",
        "    df_coef[\"abs_coef\"] = np.abs(df_coef[\"Coefficient\"])\n",
        "    df_coef = df_coef.sort_values(\"abs_coef\", ascending=False).drop(columns=\"abs_coef\")\n",
        "    return df_coef"
      ],
      "id": "a34faa56",
      "execution_count": null,
      "outputs": []
    },
    {
      "cell_type": "markdown",
      "metadata": {},
      "source": [
        "ペンギンデータの体重以外の変数を説明変数として、線形回帰モデルを学習させます。\n"
      ],
      "id": "5f3a66c7"
    },
    {
      "cell_type": "code",
      "metadata": {},
      "source": [
        "# カテゴリ変数についてワンホットエンコーディングを指定\n",
        "column_trans = make_column_transformer((OneHotEncoder(), ['species', 'island', 'sex']), remainder='passthrough')\n",
        "\n",
        "# パイプラインを作成\n",
        "# 前処理・特徴量エンジニアリングとモデル（線形回帰モデル）を組み合わせる\n",
        "pipe = make_pipeline(column_trans, lr)"
      ],
      "id": "f9018554",
      "execution_count": null,
      "outputs": []
    },
    {
      "cell_type": "code",
      "metadata": {},
      "source": [
        "# モデルの学習\n",
        "# 体重以外の変数を説明変数として、線形回帰モデルを学習させる\n",
        "pipe.fit(penguins.drop(columns=\"body_mass_g\"), penguins[\"body_mass_g\"])"
      ],
      "id": "4de58013",
      "execution_count": null,
      "outputs": []
    },
    {
      "cell_type": "markdown",
      "metadata": {},
      "source": [
        "重回帰モデルでも係数を元にモデルの予測値がどのように計算されたかを確認することができます。具体的には予測に使われたデータに対して係数をかけて足し合わせることで予測値を計算します。\n"
      ],
      "id": "bea793a3"
    },
    {
      "cell_type": "code",
      "metadata": {},
      "source": [
        "# 1行目のデータを取得\n",
        "x = penguins.drop(columns=\"body_mass_g\").iloc[[0]]\n",
        "x"
      ],
      "id": "f462a961",
      "execution_count": null,
      "outputs": []
    },
    {
      "cell_type": "code",
      "metadata": {},
      "source": [
        "# 予測値を計算\n",
        "pipe.predict(x)"
      ],
      "id": "990bd215",
      "execution_count": null,
      "outputs": []
    },
    {
      "cell_type": "code",
      "metadata": {},
      "source": [
        "transformed_data = pipe.named_steps[\"columntransformer\"].transform(penguins.drop(columns=\"body_mass_g\"))\n",
        "# データフレームに変換\n",
        "df_transformed = pd.DataFrame(transformed_data, columns=pipe.named_steps['columntransformer'].get_feature_names_out())\n",
        "\n",
        "# 1行目のデータの予測値を計算\n",
        "pipe.named_steps['linearregression'].intercept_ + np.dot(df_transformed.iloc[[0]], pipe.named_steps['linearregression'].coef_)"
      ],
      "id": "e2e95441",
      "execution_count": null,
      "outputs": []
    },
    {
      "cell_type": "markdown",
      "metadata": {},
      "source": [
        "単回帰モデル同様、切片と係数を利用してモデルの予測値を得ることができました。\n",
        "\n",
        "重回帰モデルでの係数の値は、説明変数の重要度を表します。係数の絶対値が大きいほど、その説明変数が目的変数の値の予測に対して重要であることを表します。係数の値が正のときには、説明変数が増加すると目的変数の値も増加することを表します。一方、係数の値が負のときには、説明変数が増加すると目的変数の値は減少することを表します。\n",
        "\n",
        "このことを踏まえてペンギンの体重を予測する重回帰モデルの係数を確認すると、次のことがわかります。\n"
      ],
      "id": "84ff2b2c"
    },
    {
      "cell_type": "code",
      "metadata": {},
      "source": [
        "# 係数を確認\n",
        "df_coef = coefficient_table(\n",
        "  pipe.named_steps['linearregression'],\n",
        "  pipe.named_steps['columntransformer'].get_feature_names_out())\n",
        "df_coef"
      ],
      "id": "86f11179",
      "execution_count": null,
      "outputs": []
    },
    {
      "cell_type": "markdown",
      "metadata": {},
      "source": [
        "まず、係数の絶対値の大きなペンギンの種類の違いが体重に影響を与えてます。ジェンツーペンギンでは係数が正ですが、他の2種は係数が負の値です。これはジェンツーペンギン、ヒゲペンギン、アデリーペンギンの順に体重が大きく、ジェンツーペンギンはアデリーペンギンよりも体重が約1000g大きいことがわかります。この傾向はグラフからも読み取ることができます。\n"
      ],
      "id": "95c5f81f"
    },
    {
      "cell_type": "code",
      "metadata": {},
      "source": [
        "# 箱ひげ図を描画\n",
        "sns.boxplot(data=penguins, x=\"species\", y=\"body_mass_g\")\n",
        "plt.title(\"体重の箱ひげ図\")\n",
        "plt.suptitle(\"箱の中心の線が中央値を示す\")\n",
        "plt.show()"
      ],
      "id": "08333da6",
      "execution_count": null,
      "outputs": []
    },
    {
      "cell_type": "markdown",
      "metadata": {},
      "source": [
        "また、種類に続いて性別の違いも体重に与える影響も大きくなっています。係数の値は、性別が雄の場合は雌の場合よりも体重が約500g大きいことを意味します。\n"
      ],
      "id": "bff1ac28"
    },
    {
      "cell_type": "code",
      "metadata": {},
      "source": [
        "# オスとメスそれぞれの体重の平均値を計算\n",
        "# ペンギンの雄の体重の平均値\n",
        "penguins.groupby(\"sex\")[\"body_mass_g\"].mean()"
      ],
      "id": "7c37a298",
      "execution_count": null,
      "outputs": []
    },
    {
      "cell_type": "markdown",
      "metadata": {},
      "source": [
        "その他、数値変数の中ではくちばしの太さ `bill_depth_mm` の係数が大きくなっています。`bill_depth_mm`の係数は67.5となっています。これはくちばしの太さが1mm大きくなると体重が67.5g増加することを意味します。ただし、この値は他の変数が固定されている前提で計算された値です。\n",
        "\n",
        "`bill_length_mm`、`flipper_lenth_mm`については、係数の絶対値が小さくなっています。そのため、これらの変数が体重に与える影響は、くちばしの太さよりも小さいということでしょうか。こうした変数間での係数の絶対値を比較することはできません。なぜなら、係数の絶対値は説明変数の値の範囲に依存するためです。これは、説明変数の値の範囲が広い変数では、その値が一単位変化したときの目的変数の変化量が相対的に小さくなるために係数が小さくなってしまうことがあるためです。これは特に異なる単位の変数を同時に利用する場合に問題となります。\n",
        "\n",
        "具体例を見てみましょう。`bill_length_mm`、`bill_depth_mm`、`flipper_length_mm`の値の範囲を確認すると、`flipper_length_mm`の値の範囲が最も大きいことがわかります。このことから`flipper_length_mm`の値の範囲が広いために、その値が一単位変化したときの目的変数の変化量が相対的に小さくなることを意味します。\n"
      ],
      "id": "08bea30f"
    },
    {
      "cell_type": "code",
      "metadata": {},
      "source": [
        "# 変数の範囲を確認\n",
        "# くちばしの長さ\n",
        "for col in [\"bill_length_mm\", \"bill_depth_mm\", \"flipper_length_mm\"]:\n",
        "    print(col, penguins[col].min(), \"から\", penguins[col].max())"
      ],
      "id": "16394384",
      "execution_count": null,
      "outputs": []
    },
    {
      "cell_type": "markdown",
      "metadata": {},
      "source": [
        "数値変数の値の範囲を揃えるために、数値変数を標準化してからモデルを学習させることを考えます。これにより、係数の大きさを比較できるようになります。\n",
        "\n",
        "### 標準化後の係数の解釈\n",
        "\n",
        "数値変数に対して、平均0、標準偏差1となるような標準化を行います。これにより、数値変数の値の範囲を揃えることができ、変数間での比較を行えるようになります。\n"
      ],
      "id": "28039c8d"
    },
    {
      "cell_type": "code",
      "metadata": {},
      "source": [
        "# 特定の列にOneHotEncoder()を適用\n",
        "one_hot_cols = ['species', 'island', 'sex']\n",
        "# 特定の列にStandardScaler()を適用\n",
        "scale_cols = ['bill_length_mm', 'bill_depth_mm', 'flipper_length_mm']\n",
        "\n",
        "# make_column_transformer()を使用してトランスフォーマを作成\n",
        "column_trans = make_column_transformer(\n",
        "    (OneHotEncoder(), one_hot_cols),\n",
        "    (StandardScaler(), scale_cols),\n",
        "    remainder='passthrough'\n",
        ")\n",
        "\n",
        "# パイプラインを作成\n",
        "#pipe = Pipeline([\n",
        "#    ('preprocessor', column_trans),\n",
        "#    ('model', lr)\n",
        "#])\n",
        "\n",
        "pipe = make_pipeline(column_trans, lr)"
      ],
      "id": "ddb6079f",
      "execution_count": null,
      "outputs": []
    },
    {
      "cell_type": "code",
      "metadata": {},
      "source": [
        "# モデルの学習\n",
        "pipe.fit(penguins.drop(columns=\"body_mass_g\"), penguins[\"body_mass_g\"])"
      ],
      "id": "66cf19ba",
      "execution_count": null,
      "outputs": []
    },
    {
      "cell_type": "code",
      "metadata": {},
      "source": [
        "# 特徴量と係数の対応を確認\n",
        "df_coef_std = coefficient_table(\n",
        "  pipe.named_steps['linearregression'],\n",
        "  pipe.named_steps['columntransformer'].get_feature_names_out())\n",
        "\n",
        "df_coef_std[\"abs_coef\"] = np.abs(df_coef_std[\"Coefficient\"])\n",
        "\n",
        "# 元が数値変数だった特徴量の係数を取得\n",
        "df_coef_std.query('Feature in @scale_cols').sort_values(\"abs_coef\", ascending=False).drop(columns=\"abs_coef\")"
      ],
      "id": "ba462501",
      "execution_count": null,
      "outputs": []
    },
    {
      "cell_type": "markdown",
      "metadata": {},
      "source": [
        "係数の値が大きいのは`flipper_length_mm`、`bill_depth_mm`、`bill_length_mm`の順番です。このことは3種の変数の中で体重に影響を与えるのは`flipper_length_mm`が最も大きいということです。\n",
        "\n",
        "散布図や相関係数からも、`flipper_length_mm`が体重に影響を与えることがわかります。\n"
      ],
      "id": "b1c556d7"
    },
    {
      "cell_type": "code",
      "metadata": {},
      "source": [
        "# 3つの図を並べて描画\n",
        "fig, axes = plt.subplots(1, 3, figsize=(15, 4))\n",
        "# 3つの数値変数と体重の散布図を描画\n",
        "# 図ごとに色を変える\n",
        "for ax, col, color in zip(axes, scale_cols, [\"#284b67\", \"#1a2127\", \"#fc5998\"]):\n",
        "    ax.scatter(penguins[col], penguins[\"body_mass_g\"], color=color, alpha=0.7)\n",
        "    ax.set_title(col)\n",
        "    ax.set_xlabel(col)\n",
        "    ax.set_ylabel(\"body_mass_g\")\n",
        "    ax.set_title(f\"相関係数: {penguins[col].corr(penguins['body_mass_g']):.3f}\")\n",
        "plt.show()"
      ],
      "id": "0e8dcd0a",
      "execution_count": null,
      "outputs": []
    },
    {
      "cell_type": "markdown",
      "metadata": {},
      "source": [
        "最後に、重回帰モデルでの決定係数を計算しましょう。重回帰モデルの決定係数は、単回帰モデルの決定係数と同様に、0から1の値をとり、1に近いほど目的変数を説明できていることを意味します。\n"
      ],
      "id": "d6819278"
    },
    {
      "cell_type": "code",
      "metadata": {},
      "source": [
        "# 決定係数を計算\n",
        "pipe.score(penguins.drop(columns=\"body_mass_g\"), penguins[\"body_mass_g\"])"
      ],
      "id": "372241ae",
      "execution_count": null,
      "outputs": []
    },
    {
      "cell_type": "markdown",
      "metadata": {},
      "source": [
        "この値は説明変数の標準化を行ったあとでのモデルの決定係数ですが、実は説明変数の標準化を行わない場合でも同じ値になります。これは、重回帰モデルの決定係数は、説明変数の標準化を行っても行わなくても同じ値になるためです。つまり、モデルの精度には標準化の有無は影響を与えません。"
      ],
      "id": "2a9fc747"
    }
  ],
  "metadata": {
    "kernelspec": {
      "display_name": "Python 3 (ipykernel)",
      "language": "python",
      "name": "python3"
    },
    "jupytext": {
      "formats": "ipynb,qmd",
      "text_representation": {
        "extension": ".qmd",
        "format_name": "quarto",
        "format_version": "1.0",
        "jupytext_version": "1.14.5"
      }
    }
  },
  "nbformat": 4,
  "nbformat_minor": 5
}