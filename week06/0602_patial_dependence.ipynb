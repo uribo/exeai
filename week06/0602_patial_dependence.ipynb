{
  "cells": [
    {
      "cell_type": "raw",
      "metadata": {},
      "source": [
        "---\n",
        "title: PDP\n",
        "format: html\n",
        "execute:\n",
        "  keep-ipynb: true\n",
        "---"
      ],
      "id": "33593625"
    },
    {
      "cell_type": "markdown",
      "metadata": {},
      "source": [
        "線形回帰モデルや木構造を利用したモデル（決定木やランダムフォレストなど）は一般的にその結果の解釈が容易な機械学習モデルです。一方、モデルがより複雑になると、モデルが導き出した値がどのようにして得られたのか、その予測を説明することが難しくなります。例えば、非線形回帰モデルやニューラルネットワーク、勾配ブースティングモデルなどのモデルは、その予測を説明することが難しいため、ブラックボックスモデルと呼ばれています。\n",
        "\n",
        "モデルの精度の観点からは、ブラックボックスモデルの方が優れていることが多いです。しかし、モデルが予測したものの理由を説明することが困難であるために、モデルに対する信頼性が低下する可能性があります。つまり、一般的にはモデルの精度と解釈性はトレードオフの関係にあります。モデルの精度を維持しながら、モデルの解釈性を向上させることは、機械学習の研究や開発において重要な課題です。\n",
        "\n",
        "# Partial Dependence Plots　（PDP）\n",
        "\n",
        "partial dependence plotを用いると特徴量とモデルが予測する目的変数との関係性を可視化することができます。入力の値の変化に対して、モデルがどのように反応するかを表すことができます。線形回帰モデルでは常に線形の関係性が得られますが、非線形回帰モデルでは非線形の関係性が得られることがあります。\n",
        "\n",
        "勾配ブースティングを例に、モデルの解釈性を向上させる方法を紹介します。勾配ブースティングは、複数の決定木を組み合わせて予測を行うアンサンブル学習の一種です。\n"
      ],
      "id": "ac45c9d2"
    },
    {
      "cell_type": "code",
      "metadata": {},
      "source": [
        "import pandas as pd\n",
        "import numpy as np\n",
        "import matplotlib.pyplot as plt\n",
        "import seaborn as sns\n",
        "from sklearn.model_selection import train_test_split\n",
        "from sklearn.preprocessing import OneHotEncoder\n",
        "from sklearn.pipeline import make_pipeline\n",
        "from sklearn.compose import make_column_transformer\n",
        "from sklearn.ensemble import GradientBoostingRegressor\n",
        "from sklearn.inspection import PartialDependenceDisplay"
      ],
      "id": "560d465a",
      "execution_count": null,
      "outputs": []
    },
    {
      "cell_type": "code",
      "metadata": {},
      "source": [
        "# ペンギンデータの読み込みと欠損値の削除\n",
        "penguins = sns.load_dataset(\"penguins\")\n",
        "penguins.dropna(inplace=True)"
      ],
      "id": "64e45dfa",
      "execution_count": null,
      "outputs": []
    },
    {
      "cell_type": "code",
      "metadata": {},
      "source": [
        "# One-hotエンコーディングを適用する特徴量\n",
        "categorical_features = ['species', 'island', 'sex']\n",
        "\n",
        "# データの前処理とモデル構築のパイプライン\n",
        "preprocessor = make_column_transformer(\n",
        "    (OneHotEncoder(), categorical_features),\n",
        "    remainder='passthrough'\n",
        ")\n",
        "\n",
        "model = make_pipeline(\n",
        "    preprocessor,\n",
        "    GradientBoostingRegressor()\n",
        ")"
      ],
      "id": "61737b02",
      "execution_count": null,
      "outputs": []
    },
    {
      "cell_type": "code",
      "metadata": {},
      "source": [
        "# データの準備\n",
        "X = penguins.drop(columns=\"body_mass_g\")\n",
        "y = penguins[\"body_mass_g\"]\n",
        "X_train, X_test, y_train, y_test = train_test_split(X, y, random_state=20230522, stratify=X[\"species\"])"
      ],
      "id": "40533e75",
      "execution_count": null,
      "outputs": []
    },
    {
      "cell_type": "code",
      "metadata": {},
      "source": [
        "# モデルの学習\n",
        "model.fit(X_train, y_train)"
      ],
      "id": "95e025e5",
      "execution_count": null,
      "outputs": []
    },
    {
      "cell_type": "code",
      "metadata": {},
      "source": [
        "# plot_partial_dependence\n",
        "display = PartialDependenceDisplay.from_estimator(\n",
        "    model,\n",
        "    X_train,\n",
        "    features=['bill_length_mm', 'bill_depth_mm', 'flipper_length_mm']\n",
        ")"
      ],
      "id": "3743f9ee",
      "execution_count": null,
      "outputs": []
    },
    {
      "cell_type": "code",
      "metadata": {},
      "source": [
        "# plot\n",
        "display.plot()"
      ],
      "id": "30855288",
      "execution_count": null,
      "outputs": []
    },
    {
      "cell_type": "markdown",
      "metadata": {},
      "source": [
        "partial dependence plotのx軸は、特徴量の値の範囲を表しています。x軸の下方に示されるラインはデータの分布を表しています。y軸は、その特徴量の値がモデルの予測に与える影響を表しています。この図から、例えば、flipper_length_mmが200のとき、モデルの予測は約4000gになります。\n",
        "\n",
        "ペンギンの体重は体の各部位と関係があると考えられ、モデルでもbill_depth_mmやflipper_length_mmの増加が体重の増加に寄与していることを確認できます。一方、partial dependence plotからは、bill_length_mmが体重に寄与していないことを示しています。しかしこの結果は直感的な予測とは異なります。モデルがこのような解釈を行った理由については、学習データの不足やモデルの設計によるものと考えられます。"
      ],
      "id": "dbbfa738"
    }
  ],
  "metadata": {
    "kernelspec": {
      "display_name": "Python 3 (ipykernel)",
      "language": "python",
      "name": "python3"
    },
    "jupytext": {
      "formats": "ipynb,qmd",
      "text_representation": {
        "extension": ".qmd",
        "format_name": "quarto",
        "format_version": "1.0",
        "jupytext_version": "1.14.5"
      }
    }
  },
  "nbformat": 4,
  "nbformat_minor": 5
}