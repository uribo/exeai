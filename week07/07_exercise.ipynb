{
 "cells": [
  {
   "cell_type": "raw",
   "id": "39456e1c",
   "metadata": {},
   "source": [
    "---\n",
    "title: 電気使用実績を予測するモデルの構築\n",
    "execute:\n",
    "  keep-ipynb: true\n",
    "  eval: false\n",
    "  echo: true\n",
    "  warning: false\n",
    "---"
   ]
  },
  {
   "cell_type": "markdown",
   "id": "a3a812b1",
   "metadata": {},
   "source": [
    "これまでの講義内容および[AIツール](../appendix/ai_tools.qmd)による補助を用いて、電気使用実績を予測するモデルを構築しましょう。\n"
   ]
  },
  {
   "cell_type": "code",
   "execution_count": 1,
   "id": "1138ec2e",
   "metadata": {},
   "outputs": [],
   "source": [
    "from pathlib import *\n",
    "\n",
    "import matplotlib.pyplot as plt\n",
    "import numpy as np\n",
    "import pandas as pd\n",
    "import seaborn as sns\n",
    "from sklearn.linear_model import LinearRegression\n",
    "from sklearn.metrics import mean_squared_error\n",
    "from sklearn.model_selection import train_test_split\n",
    "from sklearn.pipeline import Pipeline\n",
    "from sklearn.preprocessing import StandardScaler\n",
    "\n",
    "p = Path(\"../\")"
   ]
  },
  {
   "cell_type": "markdown",
   "id": "2a0d6729",
   "metadata": {},
   "source": [
    "::: {.callout-note title=\"学習・テストデータのダウンロード\"}\n",
    "\n",
    "[Dropbox](https://www.dropbox.com/scl/fo/14zehmndafnjtj6dkbqx3/h?dl=0&rlkey=nl57udtfrxrcmb8hsjbk2tat8) からダウンロード\n",
    "\n",
    "パスワードは講義中に伝えます。\n",
    "\n",
    "ダウンロードしたファイルを所定のディレクトリに配置してください。\n",
    "\n",
    ":::\n",
    "\n",
    "## データの概要\n",
    "\n",
    "2016年から2018年までの夏期（7月から9月の3ヶ月）における[四国エリアの使用状況](https://www.yonden.co.jp/nw/denkiyoho/index.html)に加えて、気象庁（観測所: 高松）による気象データを収録しています。\n",
    "\n",
    "- datetime: 日本標準時での時刻。1時間ごとの記録が行われている。\n",
    "- usage_GW : 使用状況の実績。単位はGW(ギガワット)。1GBは1000MW。元データでは万kWで記録。\n",
    "- atmosphere_land_hPa: 現地気圧(hPa)\n",
    "- precipitation_mm: 降水量（mm）\n",
    "- temperature_dC: 気温（摂氏）\n",
    "- humidity_pct: 湿度（%）\n"
   ]
  },
  {
   "cell_type": "code",
   "execution_count": 2,
   "id": "c7ccd39d",
   "metadata": {},
   "outputs": [],
   "source": [
    "df_train = pd.read_csv(p / \"week07/input/train.csv\", parse_dates=False)\n",
    "df_test = pd.read_csv(p / \"week07/input/test.csv\", parse_dates=False)"
   ]
  },
  {
   "cell_type": "code",
   "execution_count": 3,
   "id": "1c0ef39a",
   "metadata": {},
   "outputs": [],
   "source": [
    "df_train.head(n=5)"
   ]
  },
  {
   "cell_type": "markdown",
   "id": "a1bf0f3a",
   "metadata": {},
   "source": [
    "<!-- knitr::kable(head(reticulate::py_to_r(df_train))) -->\n",
    "\n",
    "|datetime            | usage_GW| atmosphere_land_hPa| precipitation_mm| temperature_dC| humidity_pct|\n",
    "|:-------------------|--------:|-------------------:|----------------:|--------------:|------------:|\n",
    "|2016-06-30 15:00:00 |     2.53|              1011.3|                0|           23.1|           96|\n",
    "|2016-06-30 16:00:00 |     2.52|              1011.1|                0|           22.6|           95|\n",
    "|2016-06-30 17:00:00 |     2.66|              1011.0|                0|           22.1|           95|\n",
    "|2016-06-30 18:00:00 |     2.86|              1011.7|                0|           21.8|           96|\n",
    "|2016-06-30 19:00:00 |     2.96|              1011.7|                0|           22.0|           95|\n",
    "|2016-06-30 20:00:00 |     2.90|              1011.9|                0|           22.0|           93|\n",
    "\n",
    "## データの可視化\n"
   ]
  },
  {
   "cell_type": "code",
   "execution_count": 4,
   "id": "8b9c2816",
   "metadata": {},
   "outputs": [],
   "source": [
    "# 時系列でのusage_GWの変化を確認\n",
    "df_train[\"datetime\"] = pd.to_datetime(df_train[\"datetime\"])\n",
    "# タイムゾーンを日本時間に変換\n",
    "df_train[\"datetime\"] = df_train[\"datetime\"].dt.tz_convert(\"Asia/Tokyo\")\n",
    "\n",
    "df_train[\"year\"] = df_train[\"datetime\"].dt.year\n",
    "\n",
    "g = sns.FacetGrid(df_train, col=\"year\", sharex=False, col_wrap=1)\n",
    "# 折れ線グラフを描画\n",
    "g.map(sns.lineplot, \"datetime\", \"usage_GW\")\n",
    "plt.show()"
   ]
  },
  {
   "cell_type": "markdown",
   "id": "5b7e846d",
   "metadata": {},
   "source": [
    "これ以外にも、データへの理解を深めるための可視化を行ってみましょう。\n",
    "\n",
    "## 評価指標\n",
    "\n",
    "モデルの精度を評価するための指標として、二乗平均平方根誤差（RMSE）を用います。\n",
    "\n",
    "参考) [線形回帰モデルによるペンギンの体重の予測](../week05/0501_regression.qmd)\n",
    "\n",
    "## ベースラインのモデル\n",
    "\n",
    "教師あり機械学習モデルは一般的に次の手順で構築されます。\n",
    "\n",
    "参考）[第四回スライド](https://github.com/uribo/exeai/blob/main/slide/04_機械学習モデルの設計と評価.pdf)\n",
    "\n",
    "![教師あり学習の流れ](../img/supervised_learning_workflow.jpeg)\n",
    "\n",
    "- データ分割\n",
    "- データの前処理・特徴量エンジニアリング\n",
    "- モデルの学習\n",
    "- モデルの性能評価\n",
    "\n",
    "ここでは機械学習モデルの構築例として、電気使用実績を予測するために気温と降水量を用いた重回帰モデルによるモデルを作成します。このモデルをベースラインとして、他のモデルと比較してみましょう。\n",
    "\n",
    "### データ分割\n"
   ]
  },
  {
   "cell_type": "code",
   "execution_count": 5,
   "id": "9a0f773f",
   "metadata": {},
   "outputs": [],
   "source": [
    "# 欠損値のある行を削除\n",
    "df_train_baseline = df_train.dropna()\n",
    "\n",
    "# 説明変数と目的変数に分割\n",
    "X = df_train_baseline[[\"temperature_dC\", \"precipitation_mm\"]]\n",
    "y = df_train_baseline[\"usage_GW\"]\n",
    "\n",
    "# 訓練データとテストデータに分割\n",
    "X_train, X_test, y_train, y_test = train_test_split(\n",
    "    X, y, test_size=0.2, random_state=20230529\n",
    ")"
   ]
  },
  {
   "cell_type": "markdown",
   "id": "3f498d85",
   "metadata": {},
   "source": [
    "### 前処理・特徴量エンジニアリング\n",
    "\n",
    "ここでは数値変数の標準化（平均0、分散1への変換）を行います。\n",
    "\n",
    "Scikit-learnを用いた前処理とモデルの管理は`Pipeline`クラスを用いると便利です。\n"
   ]
  },
  {
   "cell_type": "code",
   "execution_count": 6,
   "id": "834c2655",
   "metadata": {},
   "outputs": [],
   "source": [
    "# 前処理とモデルのパイプラインを作成\n",
    "# 1/2 前処理を適用する変数と処理内容を指定\n",
    "numeric_features = [\"temperature_dC\", \"precipitation_mm\"]\n",
    "# パイプラインの作成。stepsには(名前, インスタンス)のタプルを指定する\n",
    "# standardScalerは平均0、分散1に変換するインスタンス\n",
    "numeric_transformer = Pipeline(steps=[(\"scaler\", StandardScaler())])\n",
    "\n",
    "# 2/2 前処理として、数値変数の標準化を指定\n",
    "preprocessor = numeric_transformer"
   ]
  },
  {
   "cell_type": "markdown",
   "id": "2f0e6c41",
   "metadata": {},
   "source": [
    "### モデルの学習\n"
   ]
  },
  {
   "cell_type": "code",
   "execution_count": 7,
   "id": "24c04c76",
   "metadata": {},
   "outputs": [],
   "source": [
    "model = Pipeline(\n",
    "    steps=[(\"preprocessor\", preprocessor), (\"regressor\", LinearRegression())]\n",
    ")\n",
    "\n",
    "model.fit(X_train, y_train)"
   ]
  },
  {
   "cell_type": "markdown",
   "id": "890244b5",
   "metadata": {},
   "source": [
    "### モデルの評価\n"
   ]
  },
  {
   "cell_type": "code",
   "execution_count": 8,
   "id": "48038ab4",
   "metadata": {},
   "outputs": [],
   "source": [
    "# テストデータの予測値を計算\n",
    "y_pred = model.predict(X_test)\n",
    "# RMSEを計算\n",
    "rmse = np.sqrt(mean_squared_error(y_test, y_pred))\n",
    "print(f\"RMSE: {rmse:.3f}\")"
   ]
  },
  {
   "cell_type": "markdown",
   "id": "2c180448",
   "metadata": {},
   "source": [
    "## モデルの改善例\n",
    "\n",
    "- 変数の追加\n",
    "- 交差検証法\n",
    "- モデルの変更\n",
    "    - 正則化\n",
    "    - ランダムフォレスト\n",
    "    - XGBoost\n",
    "    - LightGBM\n",
    "- ハイパーパラメータの調整\n",
    "- 特徴量エンジニアリング... 特に電気使用に影響を与える日付や時間の情報を追加すると良いかもしれません。"
   ]
  }
 ],
 "metadata": {
  "jupytext": {
   "formats": "ipynb,qmd",
   "text_representation": {
    "extension": ".qmd",
    "format_name": "quarto",
    "format_version": "1.0",
    "jupytext_version": "1.14.5"
   }
  },
  "kernelspec": {
   "display_name": "Python 3 (ipykernel)",
   "language": "python",
   "name": "python3"
  },
  "language_info": {
   "codemirror_mode": {
    "name": "ipython",
    "version": 3
   },
   "file_extension": ".py",
   "mimetype": "text/x-python",
   "name": "python",
   "nbconvert_exporter": "python",
   "pygments_lexer": "ipython3",
   "version": "3.10.13"
  }
 },
 "nbformat": 4,
 "nbformat_minor": 5
}
