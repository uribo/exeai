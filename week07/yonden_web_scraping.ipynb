{
 "cells": [
  {
   "attachments": {},
   "cell_type": "markdown",
   "metadata": {},
   "source": [
    "四国電力送配電\n",
    "======\n",
    "\n",
    "https://www.yonden.co.jp/nw/index.html"
   ]
  },
  {
   "cell_type": "code",
   "execution_count": 1,
   "metadata": {},
   "outputs": [],
   "source": [
    "# ウェブスクレイピングのライブラリ\n",
    "import requests\n",
    "from bs4 import BeautifulSoup\n",
    "\n",
    "# hrefからファイルをダウンロード\n",
    "import urllib.request as req\n",
    "\n",
    "import pandas as pd\n"
   ]
  },
  {
   "cell_type": "code",
   "execution_count": 2,
   "metadata": {},
   "outputs": [],
   "source": [
    "# ウェブサイトからHTMLを取得\n",
    "url = \"https://www.yonden.co.jp/nw/denkiyoho/download.html\"\n",
    "response = requests.get(url)\n",
    "html = response.text"
   ]
  },
  {
   "cell_type": "code",
   "execution_count": 3,
   "metadata": {},
   "outputs": [],
   "source": [
    "# BeautifulSoupオブジェクトを作成\n",
    "soup = BeautifulSoup(html, 'html.parser')\n",
    "\n",
    "# CSSセレクタを使用して要素を抽出\n",
    "elements = soup.select('#contents > dl > dd > a')"
   ]
  },
  {
   "cell_type": "code",
   "execution_count": 4,
   "metadata": {},
   "outputs": [
    {
     "data": {
      "text/html": [
       "<div>\n",
       "<style scoped>\n",
       "    .dataframe tbody tr th:only-of-type {\n",
       "        vertical-align: middle;\n",
       "    }\n",
       "\n",
       "    .dataframe tbody tr th {\n",
       "        vertical-align: top;\n",
       "    }\n",
       "\n",
       "    .dataframe thead th {\n",
       "        text-align: right;\n",
       "    }\n",
       "</style>\n",
       "<table border=\"1\" class=\"dataframe\">\n",
       "  <thead>\n",
       "    <tr style=\"text-align: right;\">\n",
       "      <th></th>\n",
       "      <th>href</th>\n",
       "      <th>year</th>\n",
       "    </tr>\n",
       "  </thead>\n",
       "  <tbody>\n",
       "    <tr>\n",
       "      <th>0</th>\n",
       "      <td>https://www.yonden.co.jp/nw/denkiyoho/csv/juyo...</td>\n",
       "      <td>2023</td>\n",
       "    </tr>\n",
       "    <tr>\n",
       "      <th>1</th>\n",
       "      <td>https://www.yonden.co.jp/nw/denkiyoho/csv/juyo...</td>\n",
       "      <td>2022</td>\n",
       "    </tr>\n",
       "    <tr>\n",
       "      <th>2</th>\n",
       "      <td>https://www.yonden.co.jp/nw/denkiyoho/csv/juyo...</td>\n",
       "      <td>2021</td>\n",
       "    </tr>\n",
       "    <tr>\n",
       "      <th>3</th>\n",
       "      <td>https://www.yonden.co.jp/nw/denkiyoho/csv/juyo...</td>\n",
       "      <td>2020</td>\n",
       "    </tr>\n",
       "    <tr>\n",
       "      <th>4</th>\n",
       "      <td>https://www.yonden.co.jp/nw/denkiyoho/csv/juyo...</td>\n",
       "      <td>2019</td>\n",
       "    </tr>\n",
       "    <tr>\n",
       "      <th>5</th>\n",
       "      <td>https://www.yonden.co.jp/nw/denkiyoho/csv/juyo...</td>\n",
       "      <td>2018</td>\n",
       "    </tr>\n",
       "    <tr>\n",
       "      <th>6</th>\n",
       "      <td>https://www.yonden.co.jp/nw/denkiyoho/csv/juyo...</td>\n",
       "      <td>2017</td>\n",
       "    </tr>\n",
       "    <tr>\n",
       "      <th>7</th>\n",
       "      <td>https://www.yonden.co.jp/nw/denkiyoho/csv/juyo...</td>\n",
       "      <td>2016</td>\n",
       "    </tr>\n",
       "  </tbody>\n",
       "</table>\n",
       "</div>"
      ],
      "text/plain": [
       "                                                href  year\n",
       "0  https://www.yonden.co.jp/nw/denkiyoho/csv/juyo...  2023\n",
       "1  https://www.yonden.co.jp/nw/denkiyoho/csv/juyo...  2022\n",
       "2  https://www.yonden.co.jp/nw/denkiyoho/csv/juyo...  2021\n",
       "3  https://www.yonden.co.jp/nw/denkiyoho/csv/juyo...  2020\n",
       "4  https://www.yonden.co.jp/nw/denkiyoho/csv/juyo...  2019\n",
       "5  https://www.yonden.co.jp/nw/denkiyoho/csv/juyo...  2018\n",
       "6  https://www.yonden.co.jp/nw/denkiyoho/csv/juyo...  2017\n",
       "7  https://www.yonden.co.jp/nw/denkiyoho/csv/juyo...  2016"
      ]
     },
     "execution_count": 4,
     "metadata": {},
     "output_type": "execute_result"
    }
   ],
   "source": [
    "# csvファイルのパスをデータフレームに格納\n",
    "df = pd.DataFrame(\n",
    "    data = {\n",
    "        \"href\": [element.attrs['href'] for element in elements]\n",
    "    }\n",
    ")\n",
    "\n",
    "# 年の列を生成\n",
    "df['year'] = df['href'].str.extract(r'(\\d{4})')\n",
    "\n",
    "df['href'] = 'https://www.yonden.co.jp/nw/denkiyoho/' + df['href']\n",
    "\n",
    "df"
   ]
  },
  {
   "cell_type": "code",
   "execution_count": 8,
   "metadata": {},
   "outputs": [],
   "source": [
    "# 繰り返し処理\n",
    "for i in range(len(df)):\n",
    "    req.urlretrieve(df['href'][i], \n",
    "                    df['year'][i] + '.csv')"
   ]
  },
  {
   "cell_type": "code",
   "execution_count": 9,
   "metadata": {},
   "outputs": [],
   "source": [
    "# 結合先のリストを用意する\n",
    "frames = []\n",
    "\n",
    "# 2016年から2023年までのCSVファイルを読み込む\n",
    "for year in range(2016, 2023):\n",
    "    df = pd.read_csv(f'{year}.csv', skiprows=1, encoding='shift_jis')\n",
    "    frames.append(df)\n",
    "\n",
    "# pandas.concatを使用して縦方向にデータフレームを結合\n",
    "df_all = pd.concat(frames)"
   ]
  }
 ],
 "metadata": {
  "kernelspec": {
   "display_name": "r-sudachipy",
   "language": "python",
   "name": "python3"
  },
  "language_info": {
   "codemirror_mode": {
    "name": "ipython",
    "version": 3
   },
   "file_extension": ".py",
   "mimetype": "text/x-python",
   "name": "python",
   "nbconvert_exporter": "python",
   "pygments_lexer": "ipython3",
   "version": "3.10.11"
  },
  "orig_nbformat": 4
 },
 "nbformat": 4,
 "nbformat_minor": 2
}
