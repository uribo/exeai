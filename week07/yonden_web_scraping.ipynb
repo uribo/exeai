{
 "cells": [
  {
   "cell_type": "raw",
   "id": "c64b43a2",
   "metadata": {},
   "source": [
    "---\n",
    "title: 四国電力送配電\n",
    "execute:\n",
    "  keep-ipynb: true\n",
    "  eval: false\n",
    "  echo: true\n",
    "---"
   ]
  },
  {
   "cell_type": "markdown",
   "id": "12c72707",
   "metadata": {},
   "source": [
    "https://www.yonden.co.jp/nw/index.html\n",
    "\n",
    "[でんき予報（電力使用状況）](https://www.yonden.co.jp/nw/denkiyoho/index.html)\n"
   ]
  },
  {
   "cell_type": "code",
   "execution_count": 1,
   "id": "3722af49",
   "metadata": {},
   "outputs": [],
   "source": [
    "# ウェブスクレイピングのライブラリ\n",
    "# hrefからファイルをダウンロード\n",
    "import urllib.request as req\n",
    "\n",
    "import pandas as pd\n",
    "import requests\n",
    "from bs4 import BeautifulSoup"
   ]
  },
  {
   "cell_type": "code",
   "execution_count": 2,
   "id": "338f5bb0",
   "metadata": {},
   "outputs": [],
   "source": [
    "# ウェブサイトからHTMLを取得\n",
    "url = \"https://www.yonden.co.jp/nw/denkiyoho/download.html\"\n",
    "response = requests.get(url)\n",
    "html = response.text"
   ]
  },
  {
   "cell_type": "code",
   "execution_count": 3,
   "id": "a08966b5",
   "metadata": {},
   "outputs": [],
   "source": [
    "# BeautifulSoupオブジェクトを作成\n",
    "soup = BeautifulSoup(html, \"html.parser\")\n",
    "\n",
    "# CSSセレクタを使用して要素を抽出\n",
    "elements = soup.select(\"#contents > dl > dd > a\")"
   ]
  },
  {
   "cell_type": "code",
   "execution_count": 4,
   "id": "4647a8b8",
   "metadata": {},
   "outputs": [],
   "source": [
    "# csvファイルのパスをデータフレームに格納\n",
    "df = pd.DataFrame(data={\"href\": [element.attrs[\"href\"] for element in elements]})\n",
    "\n",
    "# 年の列を生成\n",
    "df[\"year\"] = df[\"href\"].str.extract(r\"(\\d{4})\")\n",
    "\n",
    "df[\"href\"] = \"https://www.yonden.co.jp/nw/denkiyoho/\" + df[\"href\"]\n",
    "\n",
    "df"
   ]
  },
  {
   "cell_type": "code",
   "execution_count": 5,
   "id": "de7e7afd",
   "metadata": {},
   "outputs": [],
   "source": [
    "# 繰り返し処理\n",
    "for i in range(len(df)):\n",
    "    req.urlretrieve(df[\"href\"][i], df[\"year\"][i] + \".csv\")"
   ]
  },
  {
   "cell_type": "code",
   "execution_count": 6,
   "id": "a9bdd079",
   "metadata": {},
   "outputs": [],
   "source": [
    "# 結合先のリストを用意する\n",
    "frames = []\n",
    "\n",
    "# 2016年から2023年までのCSVファイルを読み込む\n",
    "for year in range(2016, 2023):\n",
    "    df = pd.read_csv(f\"{year}.csv\", skiprows=1, encoding=\"shift_jis\")\n",
    "    frames.append(df)\n",
    "\n",
    "# pandas.concatを使用して縦方向にデータフレームを結合\n",
    "df_all = pd.concat(frames)"
   ]
  }
 ],
 "metadata": {
  "jupytext": {
   "formats": "ipynb,qmd",
   "text_representation": {
    "extension": ".qmd",
    "format_name": "quarto",
    "format_version": "1.0",
    "jupytext_version": "1.14.5"
   }
  },
  "kernelspec": {
   "display_name": "Python 3 (ipykernel)",
   "language": "python",
   "name": "python3"
  },
  "language_info": {
   "codemirror_mode": {
    "name": "ipython",
    "version": 3
   },
   "file_extension": ".py",
   "mimetype": "text/x-python",
   "name": "python",
   "nbconvert_exporter": "python",
   "pygments_lexer": "ipython3",
   "version": "3.10.11"
  }
 },
 "nbformat": 4,
 "nbformat_minor": 5
}
