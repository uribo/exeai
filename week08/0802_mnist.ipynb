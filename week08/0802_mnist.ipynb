{
 "cells": [
  {
   "cell_type": "raw",
   "id": "51eb6182",
   "metadata": {},
   "source": [
    "---\n",
    "title: ニューラルネットワークによる手書き文字の分類\n",
    "execute:\n",
    "  keep-ipynb: true\n",
    "  eval: false\n",
    "  echo: true\n",
    "---"
   ]
  },
  {
   "cell_type": "markdown",
   "id": "590e6bff",
   "metadata": {},
   "source": [
    "機械学習ライブラリのTensorFlowを使って、ニューラルネットワークの構築と学習を行い、手書き文字の分類を行う手続きを説明します。\n",
    "\n",
    "## MNIST\n",
    "\n",
    "手書きによる文字（数字）の画像データセット\n",
    "\n",
    "- 28 $\\times$ 28ピクセルのグレースケール画像\n",
    "- 0から9までの数字の画像\n",
    "- 60,000枚の訓練用画像と10,000枚のテスト用画像\n",
    "\n",
    "## TensorFlow\n",
    "\n",
    "[TensorFlow](https://www.tensorflow.org/?hl=ja)は、Googleが開発したオープンソースの機械学習ライブラリです。TensorFlow独自の低レベルAPIを使って、ニューラルネットワークを自由に設計可能なのが特徴です。\n",
    "\n",
    "しかし、ニューラルネットワークの構造の設計は、初心者にとってはハードルが高いです。そこで、TensorFlowの高レベルAPIであるKerasを使うことで、TensorFlowの機能を簡単に利用することができます。KerasとはTensorFlowの他にTheano、CNTKなどの上で動作する深層学習フレームワークの一種です。TensorFlow上でKerasの高レベルAPIを利用するには、具体的にはtf.kerasを用います。\n",
    "\n",
    "### ライブラリのインポート\n"
   ]
  },
  {
   "cell_type": "code",
   "execution_count": 1,
   "id": "940fba68",
   "metadata": {},
   "outputs": [],
   "source": [
    "import tensorflow as tf"
   ]
  },
  {
   "cell_type": "markdown",
   "id": "29f49321",
   "metadata": {},
   "source": [
    "### データの読み込み\n",
    "\n",
    "datasetsモジュールの`mnist.load_data()`関数を使ってMNISTデータセットを読み込みます。\n"
   ]
  },
  {
   "cell_type": "code",
   "execution_count": 2,
   "id": "a5ef7fe8",
   "metadata": {},
   "outputs": [],
   "source": [
    "mnist = tf.keras.datasets.mnist\n",
    "(x_train, y_train), (x_test, y_test) = mnist.load_data()"
   ]
  },
  {
   "cell_type": "markdown",
   "id": "930d5df4",
   "metadata": {},
   "source": [
    "### データの確認\n",
    "\n",
    "X_trainは訓練用の画像データ、y_trainは学習用のラベルデータとなっています。shepe属性を使ってデータの形状を確認しましょう。\n"
   ]
  },
  {
   "cell_type": "code",
   "execution_count": 3,
   "id": "e65d0fcc",
   "metadata": {},
   "outputs": [],
   "source": [
    "# 訓練データの件数と画像サイズの確認\n",
    "print(x_train.shape)\n",
    "\n",
    "# テストデータの件数と画像サイズの確認\n",
    "print(x_test.shape)"
   ]
  },
  {
   "cell_type": "code",
   "execution_count": 4,
   "id": "ccb9a1a6",
   "metadata": {},
   "outputs": [],
   "source": [
    "# 訓練データの件数とラベルの確認\n",
    "print(y_train.shape)"
   ]
  },
  {
   "cell_type": "markdown",
   "id": "a22c10d7",
   "metadata": {},
   "source": [
    "画像データは28 $\\times$ 28ピクセルのグレースケール画像です。画像データは0から255までの整数値で表されています。訓練データに格納された画像データを表示してみましょう。\n"
   ]
  },
  {
   "cell_type": "code",
   "execution_count": 5,
   "id": "f414cb18",
   "metadata": {},
   "outputs": [],
   "source": [
    "x_train[0]"
   ]
  },
  {
   "cell_type": "markdown",
   "id": "b5c57b1f",
   "metadata": {},
   "source": [
    "「画像」として表示するためには、matplotlibモジュールの`imshow()`関数を使います。\n"
   ]
  },
  {
   "cell_type": "code",
   "execution_count": 6,
   "id": "4818e9a3",
   "metadata": {},
   "outputs": [],
   "source": [
    "import matplotlib.pyplot as plt\n",
    "\n",
    "plt.imshow(x_train[0], cmap='gray')\n",
    "plt.show()"
   ]
  },
  {
   "cell_type": "markdown",
   "id": "b18f6a41",
   "metadata": {},
   "source": [
    "この数字が何を表しているのかは、`y_train`に格納されているラベルを確認することでわかります。\n"
   ]
  },
  {
   "cell_type": "code",
   "execution_count": 7,
   "id": "ece73eed",
   "metadata": {},
   "outputs": [],
   "source": [
    "y_train[0]"
   ]
  },
  {
   "cell_type": "markdown",
   "id": "0cc7e9d3",
   "metadata": {},
   "source": [
    "グレースケールで表された画像データは、0から255までの整数値で表されています。ニューラルネットワークの入力として扱うためには、各ピクセルの値を0から1の範囲にスケーリングして正規化しておくと都合が良いです。画像データを正規化するには、255で割るだけです。\n"
   ]
  },
  {
   "cell_type": "code",
   "execution_count": 8,
   "id": "7353b553",
   "metadata": {},
   "outputs": [],
   "source": [
    "x_train = x_train / 255.0\n",
    "x_test = x_test / 255.0"
   ]
  },
  {
   "cell_type": "code",
   "execution_count": 9,
   "id": "744c4c43",
   "metadata": {},
   "outputs": [],
   "source": [
    "# 正規化した画像データの確認\n",
    "x_train[0]"
   ]
  },
  {
   "cell_type": "markdown",
   "id": "e984cceb",
   "metadata": {},
   "source": [
    "ラベルをワンホットエンコーディングしておきます。これにより、出力層の10個のノードのうち、正解ラベルに対応するノードの値が1、それ以外のノードの値が0となります。\n",
    "\n",
    "ラベルをワンホットエンコーディングを行うことで、クラス分類問題の出力層において、各クラスの確率を表現しやすくなります。また、損失関数や評価指標の計算にも利用されます。\n"
   ]
  },
  {
   "cell_type": "code",
   "execution_count": 10,
   "id": "256d8f7f",
   "metadata": {},
   "outputs": [],
   "source": [
    "# ワンホットエンコーディング\n",
    "y_train = tf.keras.utils.to_categorical(y_train, 10)\n",
    "y_test = tf.keras.utils.to_categorical(y_test, 10)"
   ]
  },
  {
   "cell_type": "code",
   "execution_count": 11,
   "id": "3d335281",
   "metadata": {},
   "outputs": [],
   "source": [
    "# 最初の画像は5であるため、6番目のノードの値が1となっている（ラベルは0からはじまる）\n",
    "y_train[0]"
   ]
  },
  {
   "cell_type": "markdown",
   "id": "18966e5e",
   "metadata": {},
   "source": [
    "### モデルの構築\n",
    "\n",
    "それでは、ニューラルネットワークのモデルを構築していきましょう。今回は、入力層に784個のノード（28 $\\times$ 28ピクセルを入力）、出力層に10個のノードを持つニューラルネットワークを構築します。入力層には、28 $\\times$ 28ピクセルの画像データを1次元のベクトルに変換して入力します。出力層の10個のノードは、それぞれ0から9までの数字を表します。出力層の10個のノードのうち、最も値が大きいノードがニューラルネットワークの予測結果となります。\n",
    "\n",
    "- 28 $\\times$ 28の画像データを1次元のベクトルに変換\n",
    "- 10個のノードを持つ出力層に入力\n",
    "- 活性化関数にソフトマックス関数を指定することで、出力を確率として解釈できるように変換する。\n"
   ]
  },
  {
   "cell_type": "code",
   "execution_count": 12,
   "id": "daa28efe",
   "metadata": {},
   "outputs": [],
   "source": [
    "model = tf.keras.models.Sequential([\n",
    "  # 入力層には784個(28*28の画像サイズに対応)のノードを持つ\n",
    "  # 28*28の画像データを1次元のベクトルに変換して入力\n",
    "  # 1次元のベクトルに変化するため、入力層にはFlatten()を指定する\n",
    "  tf.keras.layers.Flatten(input_shape=(28, 28)),\n",
    "  # 全結合層には10個のノードを持つ\n",
    "  # 活性化関数にはソフトマックス関数を指定する\n",
    "  # これにより、出力を確率として解釈できるようになる\n",
    "  tf.keras.layers.Dense(10, activation='softmax')\n",
    "])"
   ]
  },
  {
   "cell_type": "markdown",
   "id": "eccd6636",
   "metadata": {},
   "source": [
    "モデルのアーキテクチャを確認してみましょう。モデルが扱う層の数や、各層のノード数、パラメータ数などを確認することができます。\n"
   ]
  },
  {
   "cell_type": "code",
   "execution_count": 13,
   "id": "48334a66",
   "metadata": {},
   "outputs": [],
   "source": [
    "model.summary()"
   ]
  },
  {
   "cell_type": "markdown",
   "id": "61342d9f",
   "metadata": {},
   "source": [
    "### ハイパーパラメータの設定\n",
    "\n",
    "ハイパーパラメータとは、モデルの学習において、人が設定するパラメータのことです。ハイパーパラメータの設定によって、モデルの学習結果が大きく変わることがあります。ハイパーパラメータの設定には、経験則に基づいたものが多くあります。ハイパーパラメータの設定には、試行錯誤が必要です。\n",
    "\n",
    "- `optimizer`：最適化アルゴリズム。学習率を調整するアルゴリズムを指定します。確率的勾配降下法（SGD）を指定する場合は、`optimizer='sgd'`と指定します。確率的勾配降下法のほかにも、自動的に学習率を調整するAdam、Adagrad、RMSpropなどのアルゴリズムを指定することができます。\n",
    "- `loss`：損失関数\n",
    "- `metrics`：評価指標\n",
    "- `batch_size`：バッチサイズ\n",
    "- `epochs`：エポック数\n",
    "- `learning_rate`： 学習率\n",
    "\n",
    "モデルの構築が完了したら、`compile()`メソッドを使ってモデルをコンパイルします。`compile()`メソッドの引数には、最適化アルゴリズム、損失関数、評価指標を指定します。\n"
   ]
  },
  {
   "cell_type": "code",
   "execution_count": 14,
   "id": "57b9180a",
   "metadata": {},
   "outputs": [],
   "source": [
    "model.compile(\n",
    "    # 学習率を指定\n",
    "    optimizer=tf.keras.optimizers.SGD(learning_rate=0.1),\n",
    "    # 損失関数の指定\n",
    "    loss='categorical_crossentropy',\n",
    "    # 評価指標の指定\n",
    "    metrics=['accuracy']\n",
    ")"
   ]
  },
  {
   "cell_type": "markdown",
   "id": "4446d899",
   "metadata": {},
   "source": [
    "5エポックで学習を行います。これは、訓練データを5回繰り返し学習させることを意味します。\n"
   ]
  },
  {
   "cell_type": "code",
   "execution_count": 15,
   "id": "c6a99f74",
   "metadata": {},
   "outputs": [],
   "source": [
    "model.fit(x_train, y_train, epochs=5)"
   ]
  },
  {
   "cell_type": "markdown",
   "id": "f59f79b2",
   "metadata": {},
   "source": [
    "テストデータを使って、モデルの評価を行います。ここで計算される損失関数はcomplie()メソッドで指定した損失関数（クロスエントロピー損失関数）です。\n"
   ]
  },
  {
   "cell_type": "code",
   "execution_count": 16,
   "id": "39ac4a76",
   "metadata": {},
   "outputs": [],
   "source": [
    "model.evaluate(x_test, y_test, verbose=2)"
   ]
  },
  {
   "cell_type": "markdown",
   "id": "ba322756",
   "metadata": {},
   "source": [
    "predict()メソッドを使って、テストデータの予測結果を確認します。この予測結果は、各ラベルに対する確率を表しています。もっとも確率の高いラベルが予測結果となります。\n"
   ]
  },
  {
   "cell_type": "code",
   "execution_count": 17,
   "id": "2c1f27ef",
   "metadata": {},
   "outputs": [],
   "source": [
    "# テストデータの最初の画像の予測結果\n",
    "model.predict(x_test[:1])\n",
    "\n",
    "# 最も確率の高いラベル\n",
    "import numpy as np\n",
    "print(np.argmax(model.predict(x_test[:1]), axis=-1))"
   ]
  },
  {
   "cell_type": "code",
   "execution_count": 18,
   "id": "85ac579e",
   "metadata": {},
   "outputs": [],
   "source": [
    "# テストデータの最初の画像の正解ラベル\n",
    "y_test[:1]"
   ]
  }
 ],
 "metadata": {
  "jupytext": {
   "formats": "ipynb,qmd",
   "text_representation": {
    "extension": ".qmd",
    "format_name": "quarto",
    "format_version": "1.0",
    "jupytext_version": "1.14.5"
   }
  },
  "kernelspec": {
   "display_name": "Python 3 (ipykernel)",
   "language": "python",
   "name": "python3"
  },
  "language_info": {
   "codemirror_mode": {
    "name": "ipython",
    "version": 3
   },
   "file_extension": ".py",
   "mimetype": "text/x-python",
   "name": "python",
   "nbconvert_exporter": "python",
   "pygments_lexer": "ipython3",
   "version": "3.10.13"
  }
 },
 "nbformat": 4,
 "nbformat_minor": 5
}
